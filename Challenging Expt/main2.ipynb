{
 "cells": [
  {
   "cell_type": "markdown",
   "metadata": {},
   "source": [
    "# CSE1015 - Machine Learning Essentials\n",
    "# Pinni Venkata Abhiram\n",
    "# 20BAI1132"
   ]
  },
  {
   "cell_type": "markdown",
   "metadata": {},
   "source": [
    "### Lab - 7 \n",
    "### Prediction of y2 and z1 value using various regression models and writing outputs for it"
   ]
  },
  {
   "cell_type": "markdown",
   "metadata": {},
   "source": [
    "#### Importing the required modules"
   ]
  },
  {
   "cell_type": "code",
   "execution_count": 113,
   "metadata": {},
   "outputs": [],
   "source": [
    "import numpy as np\n",
    "import pandas as pd\n",
    "import matplotlib.pyplot as plt\n",
    "import seaborn as sns\n",
    "import warnings\n",
    "from sklearn.linear_model import LinearRegression as linearreg\n",
    "import statsmodels.api as sm\n",
    "from statsmodels.stats.outliers_influence import variance_inflation_factor\n",
    "from sklearn import metrics\n",
    "from scipy.stats import pearsonr\n",
    "from sklearn.model_selection import train_test_split as tsplit\n",
    "from sklearn.preprocessing import MinMaxScaler\n",
    "from tabulate import tabulate"
   ]
  },
  {
   "cell_type": "markdown",
   "metadata": {},
   "source": [
    "### Importing of train data and analysing it"
   ]
  },
  {
   "cell_type": "code",
   "execution_count": 114,
   "metadata": {},
   "outputs": [],
   "source": [
    "df = pd.read_csv('data.csv')"
   ]
  },
  {
   "cell_type": "markdown",
   "metadata": {},
   "source": [
    "#### Ignorning the warnings"
   ]
  },
  {
   "cell_type": "code",
   "execution_count": 115,
   "metadata": {},
   "outputs": [],
   "source": [
    "warnings.filterwarnings('ignore')"
   ]
  },
  {
   "cell_type": "markdown",
   "metadata": {},
   "source": [
    "### Preprocessing the data for train set"
   ]
  },
  {
   "cell_type": "code",
   "execution_count": 116,
   "metadata": {},
   "outputs": [
    {
     "data": {
      "text/plain": [
       "Index(['Sample Number', 'X1', 'X2', 'X3', 'Y2', 'Z1'], dtype='object')"
      ]
     },
     "execution_count": 116,
     "metadata": {},
     "output_type": "execute_result"
    }
   ],
   "source": [
    "df.columns\n"
   ]
  },
  {
   "cell_type": "code",
   "execution_count": 117,
   "metadata": {},
   "outputs": [
    {
     "data": {
      "text/html": [
       "<div>\n",
       "<style scoped>\n",
       "    .dataframe tbody tr th:only-of-type {\n",
       "        vertical-align: middle;\n",
       "    }\n",
       "\n",
       "    .dataframe tbody tr th {\n",
       "        vertical-align: top;\n",
       "    }\n",
       "\n",
       "    .dataframe thead th {\n",
       "        text-align: right;\n",
       "    }\n",
       "</style>\n",
       "<table border=\"1\" class=\"dataframe\">\n",
       "  <thead>\n",
       "    <tr style=\"text-align: right;\">\n",
       "      <th></th>\n",
       "      <th>Sample Number</th>\n",
       "      <th>X1</th>\n",
       "      <th>X2</th>\n",
       "      <th>X3</th>\n",
       "      <th>Y2</th>\n",
       "      <th>Z1</th>\n",
       "    </tr>\n",
       "  </thead>\n",
       "  <tbody>\n",
       "    <tr>\n",
       "      <th>0</th>\n",
       "      <td>1.0</td>\n",
       "      <td>50.0</td>\n",
       "      <td>6.0</td>\n",
       "      <td>30.0</td>\n",
       "      <td>4.86</td>\n",
       "      <td>18.0</td>\n",
       "    </tr>\n",
       "    <tr>\n",
       "      <th>1</th>\n",
       "      <td>2.0</td>\n",
       "      <td>50.0</td>\n",
       "      <td>6.0</td>\n",
       "      <td>45.0</td>\n",
       "      <td>4.97</td>\n",
       "      <td>19.0</td>\n",
       "    </tr>\n",
       "    <tr>\n",
       "      <th>2</th>\n",
       "      <td>3.0</td>\n",
       "      <td>50.0</td>\n",
       "      <td>6.0</td>\n",
       "      <td>60.0</td>\n",
       "      <td>5.79</td>\n",
       "      <td>20.0</td>\n",
       "    </tr>\n",
       "    <tr>\n",
       "      <th>3</th>\n",
       "      <td>4.0</td>\n",
       "      <td>50.0</td>\n",
       "      <td>6.0</td>\n",
       "      <td>75.0</td>\n",
       "      <td>6.28</td>\n",
       "      <td>27.0</td>\n",
       "    </tr>\n",
       "    <tr>\n",
       "      <th>4</th>\n",
       "      <td>5.0</td>\n",
       "      <td>50.0</td>\n",
       "      <td>8.0</td>\n",
       "      <td>30.0</td>\n",
       "      <td>5.06</td>\n",
       "      <td>19.0</td>\n",
       "    </tr>\n",
       "    <tr>\n",
       "      <th>5</th>\n",
       "      <td>6.0</td>\n",
       "      <td>50.0</td>\n",
       "      <td>8.0</td>\n",
       "      <td>45.0</td>\n",
       "      <td>5.20</td>\n",
       "      <td>24.0</td>\n",
       "    </tr>\n",
       "    <tr>\n",
       "      <th>6</th>\n",
       "      <td>7.0</td>\n",
       "      <td>50.0</td>\n",
       "      <td>8.0</td>\n",
       "      <td>60.0</td>\n",
       "      <td>5.91</td>\n",
       "      <td>21.0</td>\n",
       "    </tr>\n",
       "    <tr>\n",
       "      <th>7</th>\n",
       "      <td>8.0</td>\n",
       "      <td>50.0</td>\n",
       "      <td>8.0</td>\n",
       "      <td>75.0</td>\n",
       "      <td>8.65</td>\n",
       "      <td>23.0</td>\n",
       "    </tr>\n",
       "    <tr>\n",
       "      <th>8</th>\n",
       "      <td>9.0</td>\n",
       "      <td>50.0</td>\n",
       "      <td>10.0</td>\n",
       "      <td>30.0</td>\n",
       "      <td>5.78</td>\n",
       "      <td>20.0</td>\n",
       "    </tr>\n",
       "    <tr>\n",
       "      <th>9</th>\n",
       "      <td>10.0</td>\n",
       "      <td>50.0</td>\n",
       "      <td>10.0</td>\n",
       "      <td>45.0</td>\n",
       "      <td>5.90</td>\n",
       "      <td>20.0</td>\n",
       "    </tr>\n",
       "  </tbody>\n",
       "</table>\n",
       "</div>"
      ],
      "text/plain": [
       "   Sample Number    X1    X2    X3    Y2    Z1\n",
       "0            1.0  50.0   6.0  30.0  4.86  18.0\n",
       "1            2.0  50.0   6.0  45.0  4.97  19.0\n",
       "2            3.0  50.0   6.0  60.0  5.79  20.0\n",
       "3            4.0  50.0   6.0  75.0  6.28  27.0\n",
       "4            5.0  50.0   8.0  30.0  5.06  19.0\n",
       "5            6.0  50.0   8.0  45.0  5.20  24.0\n",
       "6            7.0  50.0   8.0  60.0  5.91  21.0\n",
       "7            8.0  50.0   8.0  75.0  8.65  23.0\n",
       "8            9.0  50.0  10.0  30.0  5.78  20.0\n",
       "9           10.0  50.0  10.0  45.0  5.90  20.0"
      ]
     },
     "execution_count": 117,
     "metadata": {},
     "output_type": "execute_result"
    }
   ],
   "source": [
    "df.head(10)"
   ]
  },
  {
   "cell_type": "code",
   "execution_count": 118,
   "metadata": {},
   "outputs": [
    {
     "name": "stdout",
     "output_type": "stream",
     "text": [
      "<class 'pandas.core.frame.DataFrame'>\n",
      "RangeIndex: 71 entries, 0 to 70\n",
      "Data columns (total 6 columns):\n",
      " #   Column         Non-Null Count  Dtype  \n",
      "---  ------         --------------  -----  \n",
      " 0   Sample Number  64 non-null     float64\n",
      " 1   X1             66 non-null     float64\n",
      " 2   X2             64 non-null     float64\n",
      " 3   X3             64 non-null     float64\n",
      " 4   Y2             64 non-null     float64\n",
      " 5   Z1             64 non-null     float64\n",
      "dtypes: float64(6)\n",
      "memory usage: 3.5 KB\n"
     ]
    }
   ],
   "source": [
    "df.info()"
   ]
  },
  {
   "cell_type": "code",
   "execution_count": 119,
   "metadata": {},
   "outputs": [
    {
     "data": {
      "text/html": [
       "<div>\n",
       "<style scoped>\n",
       "    .dataframe tbody tr th:only-of-type {\n",
       "        vertical-align: middle;\n",
       "    }\n",
       "\n",
       "    .dataframe tbody tr th {\n",
       "        vertical-align: top;\n",
       "    }\n",
       "\n",
       "    .dataframe thead th {\n",
       "        text-align: right;\n",
       "    }\n",
       "</style>\n",
       "<table border=\"1\" class=\"dataframe\">\n",
       "  <thead>\n",
       "    <tr style=\"text-align: right;\">\n",
       "      <th></th>\n",
       "      <th>Sample Number</th>\n",
       "      <th>X1</th>\n",
       "      <th>X2</th>\n",
       "      <th>X3</th>\n",
       "      <th>Y2</th>\n",
       "      <th>Z1</th>\n",
       "    </tr>\n",
       "  </thead>\n",
       "  <tbody>\n",
       "    <tr>\n",
       "      <th>count</th>\n",
       "      <td>64.000000</td>\n",
       "      <td>66.000000</td>\n",
       "      <td>64.000000</td>\n",
       "      <td>64.000000</td>\n",
       "      <td>64.000000</td>\n",
       "      <td>64.000000</td>\n",
       "    </tr>\n",
       "    <tr>\n",
       "      <th>mean</th>\n",
       "      <td>32.500000</td>\n",
       "      <td>125.000000</td>\n",
       "      <td>9.000000</td>\n",
       "      <td>52.500000</td>\n",
       "      <td>7.531719</td>\n",
       "      <td>30.687500</td>\n",
       "    </tr>\n",
       "    <tr>\n",
       "      <th>std</th>\n",
       "      <td>18.618987</td>\n",
       "      <td>57.008771</td>\n",
       "      <td>2.253745</td>\n",
       "      <td>16.903085</td>\n",
       "      <td>1.299308</td>\n",
       "      <td>6.647293</td>\n",
       "    </tr>\n",
       "    <tr>\n",
       "      <th>min</th>\n",
       "      <td>1.000000</td>\n",
       "      <td>50.000000</td>\n",
       "      <td>6.000000</td>\n",
       "      <td>30.000000</td>\n",
       "      <td>4.860000</td>\n",
       "      <td>18.000000</td>\n",
       "    </tr>\n",
       "    <tr>\n",
       "      <th>25%</th>\n",
       "      <td>16.750000</td>\n",
       "      <td>62.500000</td>\n",
       "      <td>7.500000</td>\n",
       "      <td>41.250000</td>\n",
       "      <td>6.947500</td>\n",
       "      <td>25.750000</td>\n",
       "    </tr>\n",
       "    <tr>\n",
       "      <th>50%</th>\n",
       "      <td>32.500000</td>\n",
       "      <td>125.000000</td>\n",
       "      <td>9.000000</td>\n",
       "      <td>52.500000</td>\n",
       "      <td>7.210000</td>\n",
       "      <td>32.000000</td>\n",
       "    </tr>\n",
       "    <tr>\n",
       "      <th>75%</th>\n",
       "      <td>48.250000</td>\n",
       "      <td>187.500000</td>\n",
       "      <td>10.500000</td>\n",
       "      <td>63.750000</td>\n",
       "      <td>8.702500</td>\n",
       "      <td>35.250000</td>\n",
       "    </tr>\n",
       "    <tr>\n",
       "      <th>max</th>\n",
       "      <td>64.000000</td>\n",
       "      <td>200.000000</td>\n",
       "      <td>12.000000</td>\n",
       "      <td>75.000000</td>\n",
       "      <td>10.130000</td>\n",
       "      <td>44.000000</td>\n",
       "    </tr>\n",
       "  </tbody>\n",
       "</table>\n",
       "</div>"
      ],
      "text/plain": [
       "       Sample Number          X1         X2         X3         Y2         Z1\n",
       "count      64.000000   66.000000  64.000000  64.000000  64.000000  64.000000\n",
       "mean       32.500000  125.000000   9.000000  52.500000   7.531719  30.687500\n",
       "std        18.618987   57.008771   2.253745  16.903085   1.299308   6.647293\n",
       "min         1.000000   50.000000   6.000000  30.000000   4.860000  18.000000\n",
       "25%        16.750000   62.500000   7.500000  41.250000   6.947500  25.750000\n",
       "50%        32.500000  125.000000   9.000000  52.500000   7.210000  32.000000\n",
       "75%        48.250000  187.500000  10.500000  63.750000   8.702500  35.250000\n",
       "max        64.000000  200.000000  12.000000  75.000000  10.130000  44.000000"
      ]
     },
     "execution_count": 119,
     "metadata": {},
     "output_type": "execute_result"
    }
   ],
   "source": [
    "df.describe()"
   ]
  },
  {
   "cell_type": "markdown",
   "metadata": {},
   "source": [
    "#### From the above describe function we can get the values of standard deviation , percentile value and many more"
   ]
  },
  {
   "cell_type": "markdown",
   "metadata": {},
   "source": [
    "#### Normalisation of data using the max absolute scaling method"
   ]
  },
  {
   "cell_type": "code",
   "execution_count": 120,
   "metadata": {},
   "outputs": [
    {
     "data": {
      "text/html": [
       "<div>\n",
       "<style scoped>\n",
       "    .dataframe tbody tr th:only-of-type {\n",
       "        vertical-align: middle;\n",
       "    }\n",
       "\n",
       "    .dataframe tbody tr th {\n",
       "        vertical-align: top;\n",
       "    }\n",
       "\n",
       "    .dataframe thead th {\n",
       "        text-align: right;\n",
       "    }\n",
       "</style>\n",
       "<table border=\"1\" class=\"dataframe\">\n",
       "  <thead>\n",
       "    <tr style=\"text-align: right;\">\n",
       "      <th></th>\n",
       "      <th>Sample Number</th>\n",
       "      <th>X1</th>\n",
       "      <th>X2</th>\n",
       "      <th>X3</th>\n",
       "      <th>Y2</th>\n",
       "      <th>Z1</th>\n",
       "    </tr>\n",
       "  </thead>\n",
       "  <tbody>\n",
       "    <tr>\n",
       "      <th>0</th>\n",
       "      <td>0.015625</td>\n",
       "      <td>0.25</td>\n",
       "      <td>0.500000</td>\n",
       "      <td>0.4</td>\n",
       "      <td>0.479763</td>\n",
       "      <td>0.409091</td>\n",
       "    </tr>\n",
       "    <tr>\n",
       "      <th>1</th>\n",
       "      <td>0.031250</td>\n",
       "      <td>0.25</td>\n",
       "      <td>0.500000</td>\n",
       "      <td>0.6</td>\n",
       "      <td>0.490622</td>\n",
       "      <td>0.431818</td>\n",
       "    </tr>\n",
       "    <tr>\n",
       "      <th>2</th>\n",
       "      <td>0.046875</td>\n",
       "      <td>0.25</td>\n",
       "      <td>0.500000</td>\n",
       "      <td>0.8</td>\n",
       "      <td>0.571570</td>\n",
       "      <td>0.454545</td>\n",
       "    </tr>\n",
       "    <tr>\n",
       "      <th>3</th>\n",
       "      <td>0.062500</td>\n",
       "      <td>0.25</td>\n",
       "      <td>0.500000</td>\n",
       "      <td>1.0</td>\n",
       "      <td>0.619941</td>\n",
       "      <td>0.613636</td>\n",
       "    </tr>\n",
       "    <tr>\n",
       "      <th>4</th>\n",
       "      <td>0.078125</td>\n",
       "      <td>0.25</td>\n",
       "      <td>0.666667</td>\n",
       "      <td>0.4</td>\n",
       "      <td>0.499506</td>\n",
       "      <td>0.431818</td>\n",
       "    </tr>\n",
       "    <tr>\n",
       "      <th>...</th>\n",
       "      <td>...</td>\n",
       "      <td>...</td>\n",
       "      <td>...</td>\n",
       "      <td>...</td>\n",
       "      <td>...</td>\n",
       "      <td>...</td>\n",
       "    </tr>\n",
       "    <tr>\n",
       "      <th>66</th>\n",
       "      <td>NaN</td>\n",
       "      <td>NaN</td>\n",
       "      <td>NaN</td>\n",
       "      <td>NaN</td>\n",
       "      <td>NaN</td>\n",
       "      <td>NaN</td>\n",
       "    </tr>\n",
       "    <tr>\n",
       "      <th>67</th>\n",
       "      <td>NaN</td>\n",
       "      <td>NaN</td>\n",
       "      <td>NaN</td>\n",
       "      <td>NaN</td>\n",
       "      <td>NaN</td>\n",
       "      <td>NaN</td>\n",
       "    </tr>\n",
       "    <tr>\n",
       "      <th>68</th>\n",
       "      <td>NaN</td>\n",
       "      <td>NaN</td>\n",
       "      <td>NaN</td>\n",
       "      <td>NaN</td>\n",
       "      <td>NaN</td>\n",
       "      <td>NaN</td>\n",
       "    </tr>\n",
       "    <tr>\n",
       "      <th>69</th>\n",
       "      <td>NaN</td>\n",
       "      <td>1.00</td>\n",
       "      <td>NaN</td>\n",
       "      <td>NaN</td>\n",
       "      <td>NaN</td>\n",
       "      <td>NaN</td>\n",
       "    </tr>\n",
       "    <tr>\n",
       "      <th>70</th>\n",
       "      <td>NaN</td>\n",
       "      <td>0.25</td>\n",
       "      <td>NaN</td>\n",
       "      <td>NaN</td>\n",
       "      <td>NaN</td>\n",
       "      <td>NaN</td>\n",
       "    </tr>\n",
       "  </tbody>\n",
       "</table>\n",
       "<p>71 rows × 6 columns</p>\n",
       "</div>"
      ],
      "text/plain": [
       "    Sample Number    X1        X2   X3        Y2        Z1\n",
       "0        0.015625  0.25  0.500000  0.4  0.479763  0.409091\n",
       "1        0.031250  0.25  0.500000  0.6  0.490622  0.431818\n",
       "2        0.046875  0.25  0.500000  0.8  0.571570  0.454545\n",
       "3        0.062500  0.25  0.500000  1.0  0.619941  0.613636\n",
       "4        0.078125  0.25  0.666667  0.4  0.499506  0.431818\n",
       "..            ...   ...       ...  ...       ...       ...\n",
       "66            NaN   NaN       NaN  NaN       NaN       NaN\n",
       "67            NaN   NaN       NaN  NaN       NaN       NaN\n",
       "68            NaN   NaN       NaN  NaN       NaN       NaN\n",
       "69            NaN  1.00       NaN  NaN       NaN       NaN\n",
       "70            NaN  0.25       NaN  NaN       NaN       NaN\n",
       "\n",
       "[71 rows x 6 columns]"
      ]
     },
     "execution_count": 120,
     "metadata": {},
     "output_type": "execute_result"
    }
   ],
   "source": [
    "def maximum_absolute_scaling(dataFrame):\n",
    "    dataFrame_scaled = dataFrame.copy()\n",
    "    for column in dataFrame_scaled.columns:\n",
    "        dataFrame_scaled[column] = dataFrame_scaled[column]  / dataFrame_scaled[column].abs().max()\n",
    "    return dataFrame_scaled\n",
    "    \n",
    "# call the maximum_absolute_scaling function\n",
    "df_scaled = maximum_absolute_scaling(df)\n",
    "\n",
    "df_scaled"
   ]
  },
  {
   "cell_type": "code",
   "execution_count": 121,
   "metadata": {},
   "outputs": [
    {
     "data": {
      "text/plain": [
       "Index(['Sample Number', 'X1', 'X2', 'X3', 'Y2', 'Z1'], dtype='object')"
      ]
     },
     "execution_count": 121,
     "metadata": {},
     "output_type": "execute_result"
    }
   ],
   "source": [
    "df_scaled.columns"
   ]
  },
  {
   "cell_type": "markdown",
   "metadata": {},
   "source": [
    "#### Checking for null rows , i.e. NaN rows and dropping them if there are any"
   ]
  },
  {
   "cell_type": "code",
   "execution_count": 122,
   "metadata": {},
   "outputs": [
    {
     "data": {
      "text/plain": [
       "Sample Number    7\n",
       "X1               5\n",
       "X2               7\n",
       "X3               7\n",
       "Y2               7\n",
       "Z1               7\n",
       "dtype: int64"
      ]
     },
     "execution_count": 122,
     "metadata": {},
     "output_type": "execute_result"
    }
   ],
   "source": [
    "df_scaled.isnull().sum()"
   ]
  },
  {
   "cell_type": "markdown",
   "metadata": {},
   "source": [
    "#### Dropping the null columns "
   ]
  },
  {
   "cell_type": "code",
   "execution_count": 123,
   "metadata": {},
   "outputs": [],
   "source": [
    "df_scaled = df_scaled.dropna()"
   ]
  },
  {
   "cell_type": "code",
   "execution_count": 124,
   "metadata": {},
   "outputs": [
    {
     "data": {
      "text/plain": [
       "Sample Number    0\n",
       "X1               0\n",
       "X2               0\n",
       "X3               0\n",
       "Y2               0\n",
       "Z1               0\n",
       "dtype: int64"
      ]
     },
     "execution_count": 124,
     "metadata": {},
     "output_type": "execute_result"
    }
   ],
   "source": [
    "df_scaled.isnull().sum()"
   ]
  },
  {
   "cell_type": "markdown",
   "metadata": {},
   "source": [
    "#### Finding the correlation for the train dataset"
   ]
  },
  {
   "cell_type": "code",
   "execution_count": 125,
   "metadata": {},
   "outputs": [
    {
     "data": {
      "text/plain": [
       "Sample Number    0.497693\n",
       "X1               0.374505\n",
       "X2               0.392176\n",
       "X3               0.662444\n",
       "Y2               1.000000\n",
       "Z1               0.553669\n",
       "Name: Y2, dtype: float64"
      ]
     },
     "execution_count": 125,
     "metadata": {},
     "output_type": "execute_result"
    }
   ],
   "source": [
    "correlation = df_scaled.corr()\n",
    "correlation['Y2']"
   ]
  },
  {
   "cell_type": "code",
   "execution_count": 126,
   "metadata": {},
   "outputs": [
    {
     "data": {
      "text/plain": [
       "Sample Number    0.935843\n",
       "X1               0.894236\n",
       "X2               0.254285\n",
       "X3               0.137738\n",
       "Y2               0.553669\n",
       "Z1               1.000000\n",
       "Name: Z1, dtype: float64"
      ]
     },
     "execution_count": 126,
     "metadata": {},
     "output_type": "execute_result"
    }
   ],
   "source": [
    "correlation = df_scaled.corr()\n",
    "correlation['Z1']"
   ]
  },
  {
   "cell_type": "markdown",
   "metadata": {},
   "source": [
    "#### Correlation of dependent variables"
   ]
  },
  {
   "cell_type": "code",
   "execution_count": 127,
   "metadata": {},
   "outputs": [
    {
     "data": {
      "text/plain": [
       "Sample Number    9.683641e-01\n",
       "X1               1.000000e+00\n",
       "X2              -4.121703e-16\n",
       "X3               4.198031e-16\n",
       "Y2               3.745051e-01\n",
       "Z1               8.942364e-01\n",
       "Name: X1, dtype: float64"
      ]
     },
     "execution_count": 127,
     "metadata": {},
     "output_type": "execute_result"
    }
   ],
   "source": [
    "corr1 = df_scaled.corr()['X1']\n",
    "corr1"
   ]
  },
  {
   "cell_type": "code",
   "execution_count": 128,
   "metadata": {},
   "outputs": [
    {
     "data": {
      "text/plain": [
       "Sample Number    2.420910e-01\n",
       "X1              -4.121703e-16\n",
       "X2               1.000000e+00\n",
       "X3               8.847090e-17\n",
       "Y2               3.921761e-01\n",
       "Z1               2.542852e-01\n",
       "Name: X2, dtype: float64"
      ]
     },
     "execution_count": 128,
     "metadata": {},
     "output_type": "execute_result"
    }
   ],
   "source": [
    "corr2 = df_scaled.corr()['X2']\n",
    "corr2"
   ]
  },
  {
   "cell_type": "code",
   "execution_count": 129,
   "metadata": {},
   "outputs": [
    {
     "data": {
      "text/plain": [
       "Sample Number    6.052275e-02\n",
       "X1               4.198031e-16\n",
       "X2               8.847090e-17\n",
       "X3               1.000000e+00\n",
       "Y2               6.624442e-01\n",
       "Z1               1.377378e-01\n",
       "Name: X3, dtype: float64"
      ]
     },
     "execution_count": 129,
     "metadata": {},
     "output_type": "execute_result"
    }
   ],
   "source": [
    "corr3 = df_scaled.corr()['X3']\n",
    "corr3"
   ]
  },
  {
   "cell_type": "markdown",
   "metadata": {},
   "source": [
    "#### The target var for the question is Y2 so we find the correlation between the Y2 and the other variables\n",
    "#### In the aboue result there is positive correlation and it's significant , the positive correlation means that means the values of the input variable and the output variable change in the same directions.\n",
    "#### Therefore we have significant correlations so we don't drop any columns , all columns are important."
   ]
  },
  {
   "cell_type": "markdown",
   "metadata": {},
   "source": [
    "#### Plots for the train dataset (Exploratory analysis)"
   ]
  },
  {
   "cell_type": "markdown",
   "metadata": {},
   "source": [
    "#### Heatmap for correlation\n",
    "#### In this heatmap we can see that the correlation color is quite low and it says that there are parts which have low correlation value and high correlation value regions too so we can't remove any column"
   ]
  },
  {
   "cell_type": "code",
   "execution_count": 130,
   "metadata": {},
   "outputs": [
    {
     "data": {
      "text/plain": [
       "<AxesSubplot:>"
      ]
     },
     "execution_count": 130,
     "metadata": {},
     "output_type": "execute_result"
    },
    {
     "data": {
      "image/png": "[encoded data removed]",
      "text/plain": [
       "<Figure size 432x288 with 2 Axes>"
      ]
     },
     "metadata": {
      "needs_background": "light"
     },
     "output_type": "display_data"
    }
   ],
   "source": [
    "sns.heatmap(df_scaled.corr() , cmap=\"Blues\")"
   ]
  },
  {
   "cell_type": "markdown",
   "metadata": {},
   "source": [
    "#### Pairplot\n",
    "#### Pairplot is usually a grid of plots for each variable in your dataset. Hence you can quickly see how all the variables are related. This can help to infer which variables are useful, which have skewed distribution etc."
   ]
  },
  {
   "cell_type": "code",
   "execution_count": 131,
   "metadata": {},
   "outputs": [
    {
     "data": {
      "text/plain": [
       "<seaborn.axisgrid.PairGrid at 0x214d57495b0>"
      ]
     },
     "execution_count": 131,
     "metadata": {},
     "output_type": "execute_result"
    },
    {
     "data": {
      "image/png": "[encoded data removed]",
      "text/plain": [
       "<Figure size 1080x1080 with 42 Axes>"
      ]
     },
     "metadata": {
      "needs_background": "light"
     },
     "output_type": "display_data"
    }
   ],
   "source": [
    "sns.pairplot(df_scaled)"
   ]
  },
  {
   "cell_type": "markdown",
   "metadata": {},
   "source": [
    "#### Distplot"
   ]
  },
  {
   "cell_type": "code",
   "execution_count": 132,
   "metadata": {},
   "outputs": [
    {
     "data": {
      "text/plain": [
       "<AxesSubplot:xlabel='Y2', ylabel='Density'>"
      ]
     },
     "execution_count": 132,
     "metadata": {},
     "output_type": "execute_result"
    },
    {
     "data": {
      "image/png": "[encoded data removed]",
      "text/plain": [
       "<Figure size 432x288 with 1 Axes>"
      ]
     },
     "metadata": {
      "needs_background": "light"
     },
     "output_type": "display_data"
    }
   ],
   "source": [
    "sns.distplot(df_scaled['Y2'])"
   ]
  },
  {
   "cell_type": "code",
   "execution_count": 133,
   "metadata": {},
   "outputs": [
    {
     "data": {
      "text/plain": [
       "<AxesSubplot:xlabel='X1', ylabel='Density'>"
      ]
     },
     "execution_count": 133,
     "metadata": {},
     "output_type": "execute_result"
    },
    {
     "data": {
      "image/png": "[encoded data removed]",
      "text/plain": [
       "<Figure size 432x288 with 1 Axes>"
      ]
     },
     "metadata": {
      "needs_background": "light"
     },
     "output_type": "display_data"
    }
   ],
   "source": [
    "sns.distplot(df_scaled['X1'])"
   ]
  },
  {
   "cell_type": "markdown",
   "metadata": {},
   "source": [
    "#### Linear Regression model"
   ]
  },
  {
   "cell_type": "code",
   "execution_count": 134,
   "metadata": {},
   "outputs": [
    {
     "data": {
      "text/plain": [
       "Index(['Sample Number', 'X1', 'X2', 'X3', 'Y2', 'Z1'], dtype='object')"
      ]
     },
     "execution_count": 134,
     "metadata": {},
     "output_type": "execute_result"
    }
   ],
   "source": [
    "df_scaled.columns"
   ]
  },
  {
   "cell_type": "markdown",
   "metadata": {},
   "source": [
    "#### Splitting into training set and test set and getting both prediction and original dataset"
   ]
  },
  {
   "cell_type": "code",
   "execution_count": 135,
   "metadata": {},
   "outputs": [],
   "source": [
    "X = df_scaled.drop(['Y2','Sample Number'],axis=1)\n",
    "Y = df_scaled['Y2']\n",
    "\n",
    "\n",
    "\n",
    "x_train , x_test, y_train , y_test = tsplit(X,Y,train_size=0.75,random_state=1)"
   ]
  },
  {
   "cell_type": "code",
   "execution_count": 136,
   "metadata": {},
   "outputs": [
    {
     "data": {
      "text/html": [
       "<div>\n",
       "<style scoped>\n",
       "    .dataframe tbody tr th:only-of-type {\n",
       "        vertical-align: middle;\n",
       "    }\n",
       "\n",
       "    .dataframe tbody tr th {\n",
       "        vertical-align: top;\n",
       "    }\n",
       "\n",
       "    .dataframe thead th {\n",
       "        text-align: right;\n",
       "    }\n",
       "</style>\n",
       "<table border=\"1\" class=\"dataframe\">\n",
       "  <thead>\n",
       "    <tr style=\"text-align: right;\">\n",
       "      <th></th>\n",
       "      <th>X1</th>\n",
       "      <th>X2</th>\n",
       "      <th>X3</th>\n",
       "      <th>Z1</th>\n",
       "    </tr>\n",
       "  </thead>\n",
       "  <tbody>\n",
       "    <tr>\n",
       "      <th>3</th>\n",
       "      <td>0.25</td>\n",
       "      <td>0.500000</td>\n",
       "      <td>1.0</td>\n",
       "      <td>0.613636</td>\n",
       "    </tr>\n",
       "    <tr>\n",
       "      <th>40</th>\n",
       "      <td>0.75</td>\n",
       "      <td>0.833333</td>\n",
       "      <td>0.4</td>\n",
       "      <td>0.727273</td>\n",
       "    </tr>\n",
       "    <tr>\n",
       "      <th>36</th>\n",
       "      <td>0.75</td>\n",
       "      <td>0.666667</td>\n",
       "      <td>0.4</td>\n",
       "      <td>0.795455</td>\n",
       "    </tr>\n",
       "    <tr>\n",
       "      <th>10</th>\n",
       "      <td>0.25</td>\n",
       "      <td>0.833333</td>\n",
       "      <td>0.8</td>\n",
       "      <td>0.477273</td>\n",
       "    </tr>\n",
       "    <tr>\n",
       "      <th>56</th>\n",
       "      <td>1.00</td>\n",
       "      <td>0.833333</td>\n",
       "      <td>0.4</td>\n",
       "      <td>0.931818</td>\n",
       "    </tr>\n",
       "    <tr>\n",
       "      <th>19</th>\n",
       "      <td>0.50</td>\n",
       "      <td>0.500000</td>\n",
       "      <td>1.0</td>\n",
       "      <td>0.613636</td>\n",
       "    </tr>\n",
       "    <tr>\n",
       "      <th>34</th>\n",
       "      <td>0.75</td>\n",
       "      <td>0.500000</td>\n",
       "      <td>0.8</td>\n",
       "      <td>0.727273</td>\n",
       "    </tr>\n",
       "    <tr>\n",
       "      <th>60</th>\n",
       "      <td>1.00</td>\n",
       "      <td>1.000000</td>\n",
       "      <td>0.4</td>\n",
       "      <td>0.886364</td>\n",
       "    </tr>\n",
       "    <tr>\n",
       "      <th>17</th>\n",
       "      <td>0.50</td>\n",
       "      <td>0.500000</td>\n",
       "      <td>0.6</td>\n",
       "      <td>0.545455</td>\n",
       "    </tr>\n",
       "    <tr>\n",
       "      <th>55</th>\n",
       "      <td>1.00</td>\n",
       "      <td>0.666667</td>\n",
       "      <td>1.0</td>\n",
       "      <td>0.954545</td>\n",
       "    </tr>\n",
       "    <tr>\n",
       "      <th>53</th>\n",
       "      <td>1.00</td>\n",
       "      <td>0.666667</td>\n",
       "      <td>0.6</td>\n",
       "      <td>0.886364</td>\n",
       "    </tr>\n",
       "    <tr>\n",
       "      <th>48</th>\n",
       "      <td>1.00</td>\n",
       "      <td>0.500000</td>\n",
       "      <td>0.4</td>\n",
       "      <td>0.750000</td>\n",
       "    </tr>\n",
       "    <tr>\n",
       "      <th>33</th>\n",
       "      <td>0.75</td>\n",
       "      <td>0.500000</td>\n",
       "      <td>0.6</td>\n",
       "      <td>0.750000</td>\n",
       "    </tr>\n",
       "    <tr>\n",
       "      <th>51</th>\n",
       "      <td>1.00</td>\n",
       "      <td>0.500000</td>\n",
       "      <td>1.0</td>\n",
       "      <td>0.727273</td>\n",
       "    </tr>\n",
       "    <tr>\n",
       "      <th>31</th>\n",
       "      <td>0.50</td>\n",
       "      <td>1.000000</td>\n",
       "      <td>1.0</td>\n",
       "      <td>0.750000</td>\n",
       "    </tr>\n",
       "    <tr>\n",
       "      <th>59</th>\n",
       "      <td>1.00</td>\n",
       "      <td>0.833333</td>\n",
       "      <td>1.0</td>\n",
       "      <td>0.840909</td>\n",
       "    </tr>\n",
       "    <tr>\n",
       "      <th>13</th>\n",
       "      <td>0.25</td>\n",
       "      <td>1.000000</td>\n",
       "      <td>0.6</td>\n",
       "      <td>0.500000</td>\n",
       "    </tr>\n",
       "    <tr>\n",
       "      <th>22</th>\n",
       "      <td>0.50</td>\n",
       "      <td>0.666667</td>\n",
       "      <td>0.8</td>\n",
       "      <td>0.659091</td>\n",
       "    </tr>\n",
       "    <tr>\n",
       "      <th>32</th>\n",
       "      <td>0.75</td>\n",
       "      <td>0.500000</td>\n",
       "      <td>0.4</td>\n",
       "      <td>0.727273</td>\n",
       "    </tr>\n",
       "    <tr>\n",
       "      <th>30</th>\n",
       "      <td>0.50</td>\n",
       "      <td>1.000000</td>\n",
       "      <td>0.8</td>\n",
       "      <td>0.727273</td>\n",
       "    </tr>\n",
       "    <tr>\n",
       "      <th>46</th>\n",
       "      <td>0.75</td>\n",
       "      <td>1.000000</td>\n",
       "      <td>0.8</td>\n",
       "      <td>0.863636</td>\n",
       "    </tr>\n",
       "    <tr>\n",
       "      <th>23</th>\n",
       "      <td>0.50</td>\n",
       "      <td>0.666667</td>\n",
       "      <td>1.0</td>\n",
       "      <td>0.613636</td>\n",
       "    </tr>\n",
       "    <tr>\n",
       "      <th>4</th>\n",
       "      <td>0.25</td>\n",
       "      <td>0.666667</td>\n",
       "      <td>0.4</td>\n",
       "      <td>0.431818</td>\n",
       "    </tr>\n",
       "    <tr>\n",
       "      <th>14</th>\n",
       "      <td>0.25</td>\n",
       "      <td>1.000000</td>\n",
       "      <td>0.8</td>\n",
       "      <td>0.659091</td>\n",
       "    </tr>\n",
       "    <tr>\n",
       "      <th>29</th>\n",
       "      <td>0.50</td>\n",
       "      <td>1.000000</td>\n",
       "      <td>0.6</td>\n",
       "      <td>0.704545</td>\n",
       "    </tr>\n",
       "    <tr>\n",
       "      <th>28</th>\n",
       "      <td>0.50</td>\n",
       "      <td>1.000000</td>\n",
       "      <td>0.4</td>\n",
       "      <td>0.704545</td>\n",
       "    </tr>\n",
       "    <tr>\n",
       "      <th>42</th>\n",
       "      <td>0.75</td>\n",
       "      <td>0.833333</td>\n",
       "      <td>0.8</td>\n",
       "      <td>0.750000</td>\n",
       "    </tr>\n",
       "    <tr>\n",
       "      <th>58</th>\n",
       "      <td>1.00</td>\n",
       "      <td>0.833333</td>\n",
       "      <td>0.8</td>\n",
       "      <td>0.863636</td>\n",
       "    </tr>\n",
       "    <tr>\n",
       "      <th>47</th>\n",
       "      <td>0.75</td>\n",
       "      <td>1.000000</td>\n",
       "      <td>1.0</td>\n",
       "      <td>0.863636</td>\n",
       "    </tr>\n",
       "    <tr>\n",
       "      <th>18</th>\n",
       "      <td>0.50</td>\n",
       "      <td>0.500000</td>\n",
       "      <td>0.8</td>\n",
       "      <td>0.590909</td>\n",
       "    </tr>\n",
       "    <tr>\n",
       "      <th>63</th>\n",
       "      <td>1.00</td>\n",
       "      <td>1.000000</td>\n",
       "      <td>1.0</td>\n",
       "      <td>0.863636</td>\n",
       "    </tr>\n",
       "    <tr>\n",
       "      <th>20</th>\n",
       "      <td>0.50</td>\n",
       "      <td>0.666667</td>\n",
       "      <td>0.4</td>\n",
       "      <td>0.659091</td>\n",
       "    </tr>\n",
       "    <tr>\n",
       "      <th>25</th>\n",
       "      <td>0.50</td>\n",
       "      <td>0.833333</td>\n",
       "      <td>0.6</td>\n",
       "      <td>0.659091</td>\n",
       "    </tr>\n",
       "    <tr>\n",
       "      <th>6</th>\n",
       "      <td>0.25</td>\n",
       "      <td>0.666667</td>\n",
       "      <td>0.8</td>\n",
       "      <td>0.477273</td>\n",
       "    </tr>\n",
       "    <tr>\n",
       "      <th>45</th>\n",
       "      <td>0.75</td>\n",
       "      <td>1.000000</td>\n",
       "      <td>0.6</td>\n",
       "      <td>0.795455</td>\n",
       "    </tr>\n",
       "    <tr>\n",
       "      <th>7</th>\n",
       "      <td>0.25</td>\n",
       "      <td>0.666667</td>\n",
       "      <td>1.0</td>\n",
       "      <td>0.522727</td>\n",
       "    </tr>\n",
       "    <tr>\n",
       "      <th>61</th>\n",
       "      <td>1.00</td>\n",
       "      <td>1.000000</td>\n",
       "      <td>0.6</td>\n",
       "      <td>1.000000</td>\n",
       "    </tr>\n",
       "    <tr>\n",
       "      <th>1</th>\n",
       "      <td>0.25</td>\n",
       "      <td>0.500000</td>\n",
       "      <td>0.6</td>\n",
       "      <td>0.431818</td>\n",
       "    </tr>\n",
       "    <tr>\n",
       "      <th>16</th>\n",
       "      <td>0.50</td>\n",
       "      <td>0.500000</td>\n",
       "      <td>0.4</td>\n",
       "      <td>0.545455</td>\n",
       "    </tr>\n",
       "    <tr>\n",
       "      <th>0</th>\n",
       "      <td>0.25</td>\n",
       "      <td>0.500000</td>\n",
       "      <td>0.4</td>\n",
       "      <td>0.409091</td>\n",
       "    </tr>\n",
       "    <tr>\n",
       "      <th>15</th>\n",
       "      <td>0.25</td>\n",
       "      <td>1.000000</td>\n",
       "      <td>1.0</td>\n",
       "      <td>0.568182</td>\n",
       "    </tr>\n",
       "    <tr>\n",
       "      <th>5</th>\n",
       "      <td>0.25</td>\n",
       "      <td>0.666667</td>\n",
       "      <td>0.6</td>\n",
       "      <td>0.545455</td>\n",
       "    </tr>\n",
       "    <tr>\n",
       "      <th>11</th>\n",
       "      <td>0.25</td>\n",
       "      <td>0.833333</td>\n",
       "      <td>1.0</td>\n",
       "      <td>0.545455</td>\n",
       "    </tr>\n",
       "    <tr>\n",
       "      <th>9</th>\n",
       "      <td>0.25</td>\n",
       "      <td>0.833333</td>\n",
       "      <td>0.6</td>\n",
       "      <td>0.454545</td>\n",
       "    </tr>\n",
       "    <tr>\n",
       "      <th>8</th>\n",
       "      <td>0.25</td>\n",
       "      <td>0.833333</td>\n",
       "      <td>0.4</td>\n",
       "      <td>0.454545</td>\n",
       "    </tr>\n",
       "    <tr>\n",
       "      <th>12</th>\n",
       "      <td>0.25</td>\n",
       "      <td>1.000000</td>\n",
       "      <td>0.4</td>\n",
       "      <td>0.477273</td>\n",
       "    </tr>\n",
       "    <tr>\n",
       "      <th>43</th>\n",
       "      <td>0.75</td>\n",
       "      <td>0.833333</td>\n",
       "      <td>1.0</td>\n",
       "      <td>0.750000</td>\n",
       "    </tr>\n",
       "    <tr>\n",
       "      <th>37</th>\n",
       "      <td>0.75</td>\n",
       "      <td>0.666667</td>\n",
       "      <td>0.6</td>\n",
       "      <td>0.750000</td>\n",
       "    </tr>\n",
       "  </tbody>\n",
       "</table>\n",
       "</div>"
      ],
      "text/plain": [
       "      X1        X2   X3        Z1\n",
       "3   0.25  0.500000  1.0  0.613636\n",
       "40  0.75  0.833333  0.4  0.727273\n",
       "36  0.75  0.666667  0.4  0.795455\n",
       "10  0.25  0.833333  0.8  0.477273\n",
       "56  1.00  0.833333  0.4  0.931818\n",
       "19  0.50  0.500000  1.0  0.613636\n",
       "34  0.75  0.500000  0.8  0.727273\n",
       "60  1.00  1.000000  0.4  0.886364\n",
       "17  0.50  0.500000  0.6  0.545455\n",
       "55  1.00  0.666667  1.0  0.954545\n",
       "53  1.00  0.666667  0.6  0.886364\n",
       "48  1.00  0.500000  0.4  0.750000\n",
       "33  0.75  0.500000  0.6  0.750000\n",
       "51  1.00  0.500000  1.0  0.727273\n",
       "31  0.50  1.000000  1.0  0.750000\n",
       "59  1.00  0.833333  1.0  0.840909\n",
       "13  0.25  1.000000  0.6  0.500000\n",
       "22  0.50  0.666667  0.8  0.659091\n",
       "32  0.75  0.500000  0.4  0.727273\n",
       "30  0.50  1.000000  0.8  0.727273\n",
       "46  0.75  1.000000  0.8  0.863636\n",
       "23  0.50  0.666667  1.0  0.613636\n",
       "4   0.25  0.666667  0.4  0.431818\n",
       "14  0.25  1.000000  0.8  0.659091\n",
       "29  0.50  1.000000  0.6  0.704545\n",
       "28  0.50  1.000000  0.4  0.704545\n",
       "42  0.75  0.833333  0.8  0.750000\n",
       "58  1.00  0.833333  0.8  0.863636\n",
       "47  0.75  1.000000  1.0  0.863636\n",
       "18  0.50  0.500000  0.8  0.590909\n",
       "63  1.00  1.000000  1.0  0.863636\n",
       "20  0.50  0.666667  0.4  0.659091\n",
       "25  0.50  0.833333  0.6  0.659091\n",
       "6   0.25  0.666667  0.8  0.477273\n",
       "45  0.75  1.000000  0.6  0.795455\n",
       "7   0.25  0.666667  1.0  0.522727\n",
       "61  1.00  1.000000  0.6  1.000000\n",
       "1   0.25  0.500000  0.6  0.431818\n",
       "16  0.50  0.500000  0.4  0.545455\n",
       "0   0.25  0.500000  0.4  0.409091\n",
       "15  0.25  1.000000  1.0  0.568182\n",
       "5   0.25  0.666667  0.6  0.545455\n",
       "11  0.25  0.833333  1.0  0.545455\n",
       "9   0.25  0.833333  0.6  0.454545\n",
       "8   0.25  0.833333  0.4  0.454545\n",
       "12  0.25  1.000000  0.4  0.477273\n",
       "43  0.75  0.833333  1.0  0.750000\n",
       "37  0.75  0.666667  0.6  0.750000"
      ]
     },
     "execution_count": 136,
     "metadata": {},
     "output_type": "execute_result"
    }
   ],
   "source": [
    "x_train"
   ]
  },
  {
   "cell_type": "markdown",
   "metadata": {},
   "source": [
    "#### Importing the linear regression module"
   ]
  },
  {
   "cell_type": "code",
   "execution_count": 137,
   "metadata": {},
   "outputs": [],
   "source": [
    "linear_reg_model = linearreg()"
   ]
  },
  {
   "cell_type": "code",
   "execution_count": 138,
   "metadata": {},
   "outputs": [
    {
     "data": {
      "text/plain": [
       "LinearRegression()"
      ]
     },
     "execution_count": 138,
     "metadata": {},
     "output_type": "execute_result"
    }
   ],
   "source": [
    "linear_reg_model.fit(x_train,y_train)"
   ]
  },
  {
   "cell_type": "markdown",
   "metadata": {},
   "source": [
    "#### Fitting the train dataset in the module"
   ]
  },
  {
   "cell_type": "code",
   "execution_count": 139,
   "metadata": {},
   "outputs": [
    {
     "data": {
      "text/plain": [
       "0.17520425437085918"
      ]
     },
     "execution_count": 139,
     "metadata": {},
     "output_type": "execute_result"
    }
   ],
   "source": [
    "intercept = linear_reg_model.intercept_\n",
    "intercept"
   ]
  },
  {
   "cell_type": "markdown",
   "metadata": {},
   "source": [
    "#### Coefficients of the linear regression model"
   ]
  },
  {
   "cell_type": "code",
   "execution_count": 140,
   "metadata": {},
   "outputs": [
    {
     "data": {
      "text/html": [
       "<div>\n",
       "<style scoped>\n",
       "    .dataframe tbody tr th:only-of-type {\n",
       "        vertical-align: middle;\n",
       "    }\n",
       "\n",
       "    .dataframe tbody tr th {\n",
       "        vertical-align: top;\n",
       "    }\n",
       "\n",
       "    .dataframe thead th {\n",
       "        text-align: right;\n",
       "    }\n",
       "</style>\n",
       "<table border=\"1\" class=\"dataframe\">\n",
       "  <thead>\n",
       "    <tr style=\"text-align: right;\">\n",
       "      <th></th>\n",
       "      <th>coef</th>\n",
       "    </tr>\n",
       "  </thead>\n",
       "  <tbody>\n",
       "    <tr>\n",
       "      <th>X3</th>\n",
       "      <td>0.370483</td>\n",
       "    </tr>\n",
       "    <tr>\n",
       "      <th>X2</th>\n",
       "      <td>0.239545</td>\n",
       "    </tr>\n",
       "    <tr>\n",
       "      <th>X1</th>\n",
       "      <td>0.193792</td>\n",
       "    </tr>\n",
       "    <tr>\n",
       "      <th>Z1</th>\n",
       "      <td>0.022175</td>\n",
       "    </tr>\n",
       "  </tbody>\n",
       "</table>\n",
       "</div>"
      ],
      "text/plain": [
       "        coef\n",
       "X3  0.370483\n",
       "X2  0.239545\n",
       "X1  0.193792\n",
       "Z1  0.022175"
      ]
     },
     "execution_count": 140,
     "metadata": {},
     "output_type": "execute_result"
    }
   ],
   "source": [
    "coefficients = pd.DataFrame(linear_reg_model.coef_, x_train.columns, columns = ['coef']).sort_values(by = 'coef', ascending = False)\n",
    "coefficients"
   ]
  },
  {
   "cell_type": "code",
   "execution_count": 141,
   "metadata": {},
   "outputs": [
    {
     "name": "stdout",
     "output_type": "stream",
     "text": [
      "Y = 0.1752 + (0.37048)X1 + (0.23955)X2 + (0.37048)X3 + (0.02218)Z1\n"
     ]
    }
   ],
   "source": [
    "reg_equation = \"Y = \" + str(intercept.round(5)) + \" + \"\n",
    "reg_equation += \"(\" + str(coefficients.coef['X3'].round(5)) + \")\" + X.columns[0]\n",
    "for i in range(1, len(X.columns)):\n",
    "    col = X.columns[i]\n",
    "    reg_equation += \" + (\" + str(coefficients.coef[col].round(5)) + \")\" + col\n",
    "print(reg_equation)"
   ]
  },
  {
   "cell_type": "markdown",
   "metadata": {},
   "source": [
    "#### From the regression equation, it is evident that the variables move in same direction as compared to Y since they have the positive correlation coefficient."
   ]
  },
  {
   "cell_type": "markdown",
   "metadata": {},
   "source": [
    "#### Summary of result using the statsmodels api"
   ]
  },
  {
   "cell_type": "code",
   "execution_count": 142,
   "metadata": {},
   "outputs": [
    {
     "name": "stdout",
     "output_type": "stream",
     "text": [
      "                                 OLS Regression Results                                \n",
      "=======================================================================================\n",
      "Dep. Variable:                     Y2   R-squared (uncentered):                   0.992\n",
      "Model:                            OLS   Adj. R-squared (uncentered):              0.991\n",
      "Method:                 Least Squares   F-statistic:                              1827.\n",
      "Date:                Thu, 17 Mar 2022   Prob (F-statistic):                    6.54e-62\n",
      "Time:                        12:38:22   Log-Likelihood:                          81.162\n",
      "No. Observations:                  64   AIC:                                     -154.3\n",
      "Df Residuals:                      60   BIC:                                     -145.7\n",
      "Df Model:                           4                                                  \n",
      "Covariance Type:            nonrobust                                                  \n",
      "==============================================================================\n",
      "                 coef    std err          t      P>|t|      [0.025      0.975]\n",
      "------------------------------------------------------------------------------\n",
      "X1            -0.0027      0.082     -0.033      0.974      -0.166       0.161\n",
      "X2             0.2497      0.058      4.310      0.000       0.134       0.366\n",
      "X3             0.3818      0.041      9.279      0.000       0.300       0.464\n",
      "Z1             0.4123      0.146      2.827      0.006       0.121       0.704\n",
      "==============================================================================\n",
      "Omnibus:                        1.424   Durbin-Watson:                   1.540\n",
      "Prob(Omnibus):                  0.491   Jarque-Bera (JB):                1.456\n",
      "Skew:                           0.318   Prob(JB):                        0.483\n",
      "Kurtosis:                       2.624   Cond. No.                         27.9\n",
      "==============================================================================\n",
      "\n",
      "Notes:\n",
      "[1] R² is computed without centering (uncentered) since the model does not contain a constant.\n",
      "[2] Standard Errors assume that the covariance matrix of the errors is correctly specified.\n"
     ]
    }
   ],
   "source": [
    "result = sm.OLS(Y, X).fit()\n",
    "print(result.summary())"
   ]
  },
  {
   "cell_type": "markdown",
   "metadata": {},
   "source": [
    "#### The p statistic values of columns are 0 so we move on to check the Variance Inflation Factor or VIF value\n",
    "#### Based off of the VIF Values, we drop the ones with the highest VIF values. \n",
    "#### Drop unnecessary input variables"
   ]
  },
  {
   "cell_type": "code",
   "execution_count": 143,
   "metadata": {},
   "outputs": [
    {
     "data": {
      "text/html": [
       "<div>\n",
       "<style scoped>\n",
       "    .dataframe tbody tr th:only-of-type {\n",
       "        vertical-align: middle;\n",
       "    }\n",
       "\n",
       "    .dataframe tbody tr th {\n",
       "        vertical-align: top;\n",
       "    }\n",
       "\n",
       "    .dataframe thead th {\n",
       "        text-align: right;\n",
       "    }\n",
       "</style>\n",
       "<table border=\"1\" class=\"dataframe\">\n",
       "  <thead>\n",
       "    <tr style=\"text-align: right;\">\n",
       "      <th></th>\n",
       "      <th>variables</th>\n",
       "      <th>VIF</th>\n",
       "    </tr>\n",
       "  </thead>\n",
       "  <tbody>\n",
       "    <tr>\n",
       "      <th>0</th>\n",
       "      <td>X1</td>\n",
       "      <td>40.571839</td>\n",
       "    </tr>\n",
       "    <tr>\n",
       "      <th>1</th>\n",
       "      <td>X2</td>\n",
       "      <td>25.954524</td>\n",
       "    </tr>\n",
       "    <tr>\n",
       "      <th>2</th>\n",
       "      <td>X3</td>\n",
       "      <td>11.838202</td>\n",
       "    </tr>\n",
       "    <tr>\n",
       "      <th>3</th>\n",
       "      <td>Z1</td>\n",
       "      <td>140.149563</td>\n",
       "    </tr>\n",
       "  </tbody>\n",
       "</table>\n",
       "</div>"
      ],
      "text/plain": [
       "  variables         VIF\n",
       "0        X1   40.571839\n",
       "1        X2   25.954524\n",
       "2        X3   11.838202\n",
       "3        Z1  140.149563"
      ]
     },
     "execution_count": 143,
     "metadata": {},
     "output_type": "execute_result"
    }
   ],
   "source": [
    "vif  = pd.DataFrame()\n",
    "vif['variables'] = X.columns\n",
    "vif['VIF'] = [variance_inflation_factor(X.values, i) for i in range(X.shape[1])]\n",
    "vif"
   ]
  },
  {
   "cell_type": "markdown",
   "metadata": {},
   "source": [
    "#### The Z1 factor in here is having a huge vif value so we drop it"
   ]
  },
  {
   "cell_type": "code",
   "execution_count": 144,
   "metadata": {},
   "outputs": [],
   "source": [
    "X = X.drop(columns='Z1')"
   ]
  },
  {
   "cell_type": "code",
   "execution_count": 145,
   "metadata": {},
   "outputs": [
    {
     "data": {
      "text/html": [
       "<div>\n",
       "<style scoped>\n",
       "    .dataframe tbody tr th:only-of-type {\n",
       "        vertical-align: middle;\n",
       "    }\n",
       "\n",
       "    .dataframe tbody tr th {\n",
       "        vertical-align: top;\n",
       "    }\n",
       "\n",
       "    .dataframe thead th {\n",
       "        text-align: right;\n",
       "    }\n",
       "</style>\n",
       "<table border=\"1\" class=\"dataframe\">\n",
       "  <thead>\n",
       "    <tr style=\"text-align: right;\">\n",
       "      <th></th>\n",
       "      <th>variables</th>\n",
       "      <th>VIF</th>\n",
       "    </tr>\n",
       "  </thead>\n",
       "  <tbody>\n",
       "    <tr>\n",
       "      <th>0</th>\n",
       "      <td>X1</td>\n",
       "      <td>5.0625</td>\n",
       "    </tr>\n",
       "    <tr>\n",
       "      <th>1</th>\n",
       "      <td>X2</td>\n",
       "      <td>8.4925</td>\n",
       "    </tr>\n",
       "    <tr>\n",
       "      <th>2</th>\n",
       "      <td>X3</td>\n",
       "      <td>7.4925</td>\n",
       "    </tr>\n",
       "  </tbody>\n",
       "</table>\n",
       "</div>"
      ],
      "text/plain": [
       "  variables     VIF\n",
       "0        X1  5.0625\n",
       "1        X2  8.4925\n",
       "2        X3  7.4925"
      ]
     },
     "execution_count": 145,
     "metadata": {},
     "output_type": "execute_result"
    }
   ],
   "source": [
    "vif  = pd.DataFrame()\n",
    "vif['variables'] = X.columns\n",
    "vif['VIF'] = [variance_inflation_factor(X.values, i) for i in range(X.shape[1])]\n",
    "vif"
   ]
  },
  {
   "cell_type": "markdown",
   "metadata": {},
   "source": [
    "#### Now that we have the VIF values sorted out the remaining columns are X1 , X2 and X3"
   ]
  },
  {
   "cell_type": "code",
   "execution_count": 146,
   "metadata": {},
   "outputs": [
    {
     "name": "stdout",
     "output_type": "stream",
     "text": [
      "                                 OLS Regression Results                                \n",
      "=======================================================================================\n",
      "Dep. Variable:                     Y2   R-squared (uncentered):                   0.991\n",
      "Model:                            OLS   Adj. R-squared (uncentered):              0.990\n",
      "Method:                 Least Squares   F-statistic:                              2183.\n",
      "Date:                Thu, 17 Mar 2022   Prob (F-statistic):                    5.46e-62\n",
      "Time:                        12:38:23   Log-Likelihood:                          77.161\n",
      "No. Observations:                  64   AIC:                                     -148.3\n",
      "Df Residuals:                      61   BIC:                                     -141.8\n",
      "Df Model:                           3                                                  \n",
      "Covariance Type:            nonrobust                                                  \n",
      "==============================================================================\n",
      "                 coef    std err          t      P>|t|      [0.025      0.975]\n",
      "------------------------------------------------------------------------------\n",
      "X1             0.2135      0.030      7.003      0.000       0.153       0.275\n",
      "X2             0.3840      0.035     10.976      0.000       0.314       0.454\n",
      "X3             0.4523      0.035     13.087      0.000       0.383       0.521\n",
      "==============================================================================\n",
      "Omnibus:                        2.735   Durbin-Watson:                   1.353\n",
      "Prob(Omnibus):                  0.255   Jarque-Bera (JB):                2.462\n",
      "Skew:                           0.478   Prob(JB):                        0.292\n",
      "Kurtosis:                       2.898   Cond. No.                         5.95\n",
      "==============================================================================\n",
      "\n",
      "Notes:\n",
      "[1] R² is computed without centering (uncentered) since the model does not contain a constant.\n",
      "[2] Standard Errors assume that the covariance matrix of the errors is correctly specified.\n"
     ]
    }
   ],
   "source": [
    "result = sm.OLS(Y, X).fit()\n",
    "print(result.summary())"
   ]
  },
  {
   "cell_type": "markdown",
   "metadata": {},
   "source": [
    "#### We calculate the linear regression model again "
   ]
  },
  {
   "cell_type": "code",
   "execution_count": 147,
   "metadata": {},
   "outputs": [
    {
     "name": "stdout",
     "output_type": "stream",
     "text": [
      "Intercept :  0.172161895360316\n",
      "Coefficients :  [0.17050839 0.2678307  0.37700518]\n",
      "                            OLS Regression Results                            \n",
      "==============================================================================\n",
      "Dep. Variable:                     Y2   R-squared:                       0.772\n",
      "Model:                            OLS   Adj. R-squared:                  0.757\n",
      "Method:                 Least Squares   F-statistic:                     49.70\n",
      "Date:                Thu, 17 Mar 2022   Prob (F-statistic):           3.51e-14\n",
      "Time:                        12:38:23   Log-Likelihood:                 63.798\n",
      "No. Observations:                  48   AIC:                            -119.6\n",
      "Df Residuals:                      44   BIC:                            -112.1\n",
      "Df Model:                           3                                         \n",
      "Covariance Type:            nonrobust                                         \n",
      "==============================================================================\n",
      "                 coef    std err          t      P>|t|      [0.025      0.975]\n",
      "------------------------------------------------------------------------------\n",
      "const          0.1795      0.051      3.539      0.001       0.077       0.282\n",
      "x1             0.2046      0.034      5.952      0.000       0.135       0.274\n",
      "x2             0.2440      0.050      4.838      0.000       0.142       0.346\n",
      "x3             0.3719      0.042      8.864      0.000       0.287       0.456\n",
      "==============================================================================\n",
      "Omnibus:                        0.858   Durbin-Watson:                   2.387\n",
      "Prob(Omnibus):                  0.651   Jarque-Bera (JB):                0.809\n",
      "Skew:                           0.028   Prob(JB):                        0.667\n",
      "Kurtosis:                       2.367   Cond. No.                         10.9\n",
      "==============================================================================\n",
      "\n",
      "Notes:\n",
      "[1] Standard Errors assume that the covariance matrix of the errors is correctly specified.\n"
     ]
    }
   ],
   "source": [
    "regression_model = linearreg()\n",
    "regression_model.fit(X,Y)\n",
    "print(\"Intercept : \",regression_model.intercept_)\n",
    "print(\"Coefficients : \",regression_model.coef_)\n",
    "\n",
    "x_train = np.column_stack((x_train['X1'],x_train['X2'],x_train['X3'])) \n",
    "y_train = y_train\n",
    "x_train = sm.add_constant(x_train)\n",
    "estimate = sm.OLS(y_train, x_train).fit()\n",
    "print(estimate.summary())"
   ]
  },
  {
   "cell_type": "code",
   "execution_count": 148,
   "metadata": {},
   "outputs": [
    {
     "name": "stdout",
     "output_type": "stream",
     "text": [
      "Regression Equation: \n",
      "Y = 0.172+ (0.171)X1 + (0.268)X2 + (0.377)X3\n"
     ]
    }
   ],
   "source": [
    "print(\"Regression Equation: \")\n",
    "yx = f\"Y = {regression_model.intercept_.round(3)}+ ({regression_model.coef_[0].round(3)})X1 + ({regression_model.coef_[1].round(3)})X2 + ({regression_model.coef_[2].round(3)})X3\"\n",
    "print(yx)"
   ]
  },
  {
   "cell_type": "markdown",
   "metadata": {},
   "source": [
    "#### Performance Metrics for Linear Regression"
   ]
  },
  {
   "cell_type": "markdown",
   "metadata": {},
   "source": [
    "#### Scatter plot for X1"
   ]
  },
  {
   "cell_type": "code",
   "execution_count": 149,
   "metadata": {},
   "outputs": [
    {
     "data": {
      "text/plain": [
       "[<matplotlib.lines.Line2D at 0x214d8283460>]"
      ]
     },
     "execution_count": 149,
     "metadata": {},
     "output_type": "execute_result"
    },
    {
     "data": {
      "image/png": "[encoded data removed]",
      "text/plain": [
       "<Figure size 432x288 with 1 Axes>"
      ]
     },
     "metadata": {
      "needs_background": "light"
     },
     "output_type": "display_data"
    }
   ],
   "source": [
    "plt.scatter(X['X1'],Y)\n",
    "eq = X*regression_model.coef_\n",
    "eq = eq.sum(axis=1)+regression_model.intercept_\n",
    "plt.plot(X['X1'], eq)"
   ]
  },
  {
   "cell_type": "markdown",
   "metadata": {},
   "source": [
    "#### Scatter plot for X2"
   ]
  },
  {
   "cell_type": "code",
   "execution_count": 150,
   "metadata": {},
   "outputs": [
    {
     "data": {
      "text/plain": [
       "[<matplotlib.lines.Line2D at 0x214d82e12b0>]"
      ]
     },
     "execution_count": 150,
     "metadata": {},
     "output_type": "execute_result"
    },
    {
     "data": {
      "image/png": "[encoded data removed]",
      "text/plain": [
       "<Figure size 432x288 with 1 Axes>"
      ]
     },
     "metadata": {
      "needs_background": "light"
     },
     "output_type": "display_data"
    }
   ],
   "source": [
    "plt.scatter(X['X2'],Y)\n",
    "eq = X*regression_model.coef_\n",
    "eq = eq.sum(axis=1)+regression_model.intercept_\n",
    "plt.plot(X['X2'], eq)"
   ]
  },
  {
   "cell_type": "markdown",
   "metadata": {},
   "source": [
    "#### Finding and comparing the prediction values with actual values"
   ]
  },
  {
   "cell_type": "code",
   "execution_count": 151,
   "metadata": {},
   "outputs": [
    {
     "data": {
      "text/plain": [
       "24    0.687068\n",
       "39    0.909181\n",
       "52    0.617966\n",
       "27    0.926950\n",
       "44    0.776900\n",
       "Name: Y2, dtype: float64"
      ]
     },
     "execution_count": 151,
     "metadata": {},
     "output_type": "execute_result"
    }
   ],
   "source": [
    "y_test.head(5)"
   ]
  },
  {
   "cell_type": "markdown",
   "metadata": {},
   "source": [
    "#### Since we dropped Z1 we drop the same in the train set"
   ]
  },
  {
   "cell_type": "code",
   "execution_count": 152,
   "metadata": {},
   "outputs": [],
   "source": [
    "x_test = x_test.drop(['Z1'],axis=1)"
   ]
  },
  {
   "cell_type": "code",
   "execution_count": 153,
   "metadata": {},
   "outputs": [
    {
     "name": "stdout",
     "output_type": "stream",
     "text": [
      "[0.63141041 0.85560217 0.67202616 0.85761352 0.71867596 0.65030849\n",
      " 0.662173   0.91210513 0.74943855 0.77818978 0.78020114 0.82282823\n",
      " 0.81096372 0.78221249 0.79206565 0.70278875]\n"
     ]
    }
   ],
   "source": [
    "predictions = regression_model.predict(x_test)\n",
    "print(predictions)"
   ]
  },
  {
   "cell_type": "code",
   "execution_count": 154,
   "metadata": {},
   "outputs": [
    {
     "data": {
      "text/plain": [
       "<matplotlib.collections.PathCollection at 0x214d8334f40>"
      ]
     },
     "execution_count": 154,
     "metadata": {},
     "output_type": "execute_result"
    },
    {
     "data": {
      "image/png": "[encoded data removed]",
      "text/plain": [
       "<Figure size 432x288 with 1 Axes>"
      ]
     },
     "metadata": {
      "needs_background": "light"
     },
     "output_type": "display_data"
    }
   ],
   "source": [
    "plt.scatter(y_test, predictions)"
   ]
  },
  {
   "cell_type": "code",
   "execution_count": 155,
   "metadata": {},
   "outputs": [
    {
     "data": {
      "text/plain": [
       "<matplotlib.legend.Legend at 0x214d8388c40>"
      ]
     },
     "execution_count": 155,
     "metadata": {},
     "output_type": "execute_result"
    },
    {
     "data": {
      "image/png": "[encoded data removed]",
      "text/plain": [
       "<Figure size 432x288 with 1 Axes>"
      ]
     },
     "metadata": {
      "needs_background": "light"
     },
     "output_type": "display_data"
    }
   ],
   "source": [
    "plt.plot(predictions, label = 'Predicted Values')\n",
    "plt.plot(y_test, label = 'Actual Values')\n",
    "plt.legend()"
   ]
  },
  {
   "cell_type": "markdown",
   "metadata": {},
   "source": [
    "#### Comparing the linear regression predicted vs actual values\n"
   ]
  },
  {
   "cell_type": "code",
   "execution_count": 156,
   "metadata": {},
   "outputs": [
    {
     "name": "stdout",
     "output_type": "stream",
     "text": [
      "Actual\tPredicted\n",
      "0.6870681145113524 \t 0.631410414610069\n",
      "0.9091806515301086 \t 0.8556021717670287\n",
      "0.6179664363277393 \t 0.6720261599210265\n",
      "0.926949654491609 \t 0.8576135241855873\n",
      "0.7769002961500493 \t 0.7186759624876603\n",
      "0.5715695952615991 \t 0.6503084896347483\n",
      "0.6870681145113524 \t 0.6621730009871668\n",
      "0.874629812438302 \t 0.9121051332675221\n",
      "0.7097729516288253 \t 0.749438548864758\n",
      "0.6742349457058242 \t 0.7781897828232972\n",
      "0.7058242843040473 \t 0.7802011352418559\n",
      "0.7226061204343533 \t 0.8228282329713721\n",
      "0.9141164856860808 \t 0.8109637216189537\n",
      "0.7295162882527146 \t 0.7822124876604145\n",
      "0.7137216189536032 \t 0.7920656465942744\n",
      "0.6880552813425468 \t 0.7027887462981244\n"
     ]
    }
   ],
   "source": [
    "predictions_list = predictions.tolist()\n",
    "Y_test_list = y_test.tolist()\n",
    "print(\"Actual\\tPredicted\")\n",
    "for i in range(len(Y_test_list)):\n",
    "    print(Y_test_list[i], \"\\t\" ,predictions_list[i])"
   ]
  },
  {
   "cell_type": "markdown",
   "metadata": {},
   "source": [
    "#### Final Evaluation metrics and tabulations for linear regression"
   ]
  },
  {
   "cell_type": "code",
   "execution_count": 157,
   "metadata": {},
   "outputs": [
    {
     "name": "stdout",
     "output_type": "stream",
     "text": [
      "MSE (Mean Squared Error) :  0.00456506487395412\n",
      "MAE (Mean Absolute Error):  0.06244447186574532\n",
      "RMSE (Root Mean Squared Error ) :  0.06756526381177032\n",
      "Adjusted R squared value :  0.9903158257316342\n"
     ]
    }
   ],
   "source": [
    "MAE = metrics.mean_absolute_error(y_test, predictions)\n",
    "MSE = metrics.mean_squared_error(y_test,predictions)\n",
    "RMSE = np.sqrt(MSE)\n",
    "R_squared = result.rsquared\n",
    "adjusted_R_squared = result.rsquared_adj\n",
    "\n",
    "print(\"MSE (Mean Squared Error) : \", + MSE)\n",
    "print(\"MAE (Mean Absolute Error): \", + MAE)\n",
    "print(\"RMSE (Root Mean Squared Error ) : \", + RMSE)\n",
    "print(\"Adjusted R squared value : \" , adjusted_R_squared)"
   ]
  },
  {
   "cell_type": "code",
   "execution_count": 158,
   "metadata": {},
   "outputs": [
    {
     "name": "stdout",
     "output_type": "stream",
     "text": [
      "Input Variable Names    Regression                                           MSE        MAE       RMSE    R-Squared    Adjusted R-Squared\n",
      "----------------------  --------------------------------------------  ----------  ---------  ---------  -----------  --------------------\n",
      "['X1', 'X2', 'X3']      Y = 0.172+ (0.171)X1 + (0.268)X2 + (0.377)X3  0.00456506  0.0624445  0.0675653      0.99077              0.990316\n"
     ]
    }
   ],
   "source": [
    "table_testing = [\n",
    "                ['Input Variable Names', 'Regression', 'MSE', 'MAE', 'RMSE', 'R-Squared', 'Adjusted R-Squared'],\n",
    "                [[X.columns[0],X.columns[1],X.columns[2]], yx, MSE, MAE, RMSE, R_squared, adjusted_R_squared]\n",
    "                ]\n",
    "print(tabulate(table_testing, headers='firstrow'))"
   ]
  },
  {
   "cell_type": "markdown",
   "metadata": {},
   "source": [
    "#### Linear Regression model is successfully implemented , Stage - I classifier is implemented successfully"
   ]
  },
  {
   "cell_type": "markdown",
   "metadata": {},
   "source": [
    "#### Stage - II Classifier using the Y2 and output as Z1"
   ]
  },
  {
   "cell_type": "markdown",
   "metadata": {},
   "source": [
    "####  In this case the predictions are the input and the output is Z1 so we take data according to that"
   ]
  },
  {
   "cell_type": "code",
   "execution_count": 159,
   "metadata": {},
   "outputs": [],
   "source": [
    "X1 = df_scaled.iloc[:,3:4].values\n",
    "Y1 = df_scaled.iloc[:,4].values\n",
    "\n",
    "x_train1 , x_test1, y_train1 , y_test1 = tsplit(X1,Y1,train_size=0.75,random_state=1)"
   ]
  },
  {
   "cell_type": "code",
   "execution_count": 160,
   "metadata": {},
   "outputs": [
    {
     "name": "stdout",
     "output_type": "stream",
     "text": [
      "Intercept :  0.46954264056037376\n",
      "Coefficients :  [0.3933286]\n"
     ]
    }
   ],
   "source": [
    "regression_model = linearreg()\n",
    "regression_model.fit(x_train1,y_train1)\n",
    "print(\"Intercept : \",regression_model.intercept_)\n",
    "print(\"Coefficients : \",regression_model.coef_)\n"
   ]
  },
  {
   "cell_type": "code",
   "execution_count": 161,
   "metadata": {},
   "outputs": [
    {
     "name": "stdout",
     "output_type": "stream",
     "text": [
      "Regression Equation: \n",
      "Z1 = 0.47+ (0.393)Y2\n"
     ]
    }
   ],
   "source": [
    "print(\"Regression Equation: \")\n",
    "yx = f\"Z1 = {regression_model.intercept_.round(3)}+ ({regression_model.coef_[0].round(3)})Y2\"\n",
    "print(yx)"
   ]
  },
  {
   "cell_type": "markdown",
   "metadata": {},
   "source": [
    "#### Predictions"
   ]
  },
  {
   "cell_type": "code",
   "execution_count": 162,
   "metadata": {},
   "outputs": [
    {
     "name": "stdout",
     "output_type": "stream",
     "text": [
      "[0.62687408 0.86287124 0.62687408 0.86287124 0.62687408 0.78420552\n",
      " 0.7055398  0.78420552 0.7055398  0.78420552 0.78420552 0.78420552\n",
      " 0.86287124 0.78420552 0.7055398  0.7055398 ]\n"
     ]
    }
   ],
   "source": [
    "predictions = regression_model.predict(x_test1)\n",
    "print(predictions)"
   ]
  },
  {
   "cell_type": "code",
   "execution_count": 163,
   "metadata": {},
   "outputs": [
    {
     "name": "stdout",
     "output_type": "stream",
     "text": [
      "[0.62687408 0.86287124 0.62687408 0.86287124 0.62687408 0.78420552\n",
      " 0.7055398  0.78420552 0.7055398  0.78420552 0.78420552 0.78420552\n",
      " 0.86287124 0.78420552 0.7055398  0.7055398 ]\n"
     ]
    }
   ],
   "source": [
    "predictions = regression_model.predict(x_test1)\n",
    "print(predictions)"
   ]
  },
  {
   "cell_type": "code",
   "execution_count": 164,
   "metadata": {},
   "outputs": [
    {
     "data": {
      "text/plain": [
       "<matplotlib.collections.PathCollection at 0x214d83e4eb0>"
      ]
     },
     "execution_count": 164,
     "metadata": {},
     "output_type": "execute_result"
    },
    {
     "data": {
      "image/png": "[encoded data removed]",
      "text/plain": [
       "<Figure size 432x288 with 1 Axes>"
      ]
     },
     "metadata": {
      "needs_background": "light"
     },
     "output_type": "display_data"
    }
   ],
   "source": [
    "plt.scatter(y_test1, predictions)"
   ]
  },
  {
   "cell_type": "code",
   "execution_count": 165,
   "metadata": {},
   "outputs": [
    {
     "data": {
      "text/plain": [
       "<matplotlib.legend.Legend at 0x214d841c730>"
      ]
     },
     "execution_count": 165,
     "metadata": {},
     "output_type": "execute_result"
    },
    {
     "data": {
      "image/png": "[encoded data removed]",
      "text/plain": [
       "<Figure size 432x288 with 1 Axes>"
      ]
     },
     "metadata": {
      "needs_background": "light"
     },
     "output_type": "display_data"
    }
   ],
   "source": [
    "plt.plot(predictions, label = 'Predicted Values')\n",
    "plt.plot(y_test1, label = 'Actual Values')\n",
    "plt.legend()"
   ]
  },
  {
   "cell_type": "code",
   "execution_count": 166,
   "metadata": {},
   "outputs": [
    {
     "name": "stdout",
     "output_type": "stream",
     "text": [
      "Actual\tPredicted\n",
      "0.6870681145113524 \t 0.6268740820650334\n",
      "0.9091806515301086 \t 0.8628712443220228\n",
      "0.6179664363277393 \t 0.6268740820650334\n",
      "0.926949654491609 \t 0.8628712443220228\n",
      "0.7769002961500493 \t 0.6268740820650334\n",
      "0.5715695952615991 \t 0.784205523569693\n",
      "0.6870681145113524 \t 0.7055398028173632\n",
      "0.874629812438302 \t 0.784205523569693\n",
      "0.7097729516288253 \t 0.7055398028173632\n",
      "0.6742349457058242 \t 0.784205523569693\n",
      "0.7058242843040473 \t 0.784205523569693\n",
      "0.7226061204343533 \t 0.784205523569693\n",
      "0.9141164856860808 \t 0.8628712443220228\n",
      "0.7295162882527146 \t 0.784205523569693\n",
      "0.7137216189536032 \t 0.7055398028173632\n",
      "0.6880552813425468 \t 0.7055398028173632\n"
     ]
    }
   ],
   "source": [
    "predictions_list = predictions.tolist()\n",
    "Y_test_list = y_test1.tolist()\n",
    "print(\"Actual\\tPredicted\")\n",
    "for i in range(len(Y_test_list)):\n",
    "    print(Y_test_list[i], \"\\t\" ,predictions_list[i])"
   ]
  },
  {
   "cell_type": "markdown",
   "metadata": {},
   "source": [
    "#### Evaluation Metrics for the stage of linear regression"
   ]
  },
  {
   "cell_type": "code",
   "execution_count": 167,
   "metadata": {},
   "outputs": [
    {
     "name": "stdout",
     "output_type": "stream",
     "text": [
      "MSE (Mean Squared Error) :  0.007139507515967515\n",
      "MAE (Mean Absolute Error):  0.06480204990608898\n",
      "RMSE (Root Mean Squared Error ) :  0.08449560648913951\n",
      "Adjusted R squared value :  0.9903158257316342\n"
     ]
    }
   ],
   "source": [
    "MAE = metrics.mean_absolute_error(y_test1, predictions)\n",
    "MSE = metrics.mean_squared_error(y_test1,predictions)\n",
    "RMSE = np.sqrt(MSE)\n",
    "R_squared = result.rsquared\n",
    "adjusted_R_squared = result.rsquared_adj\n",
    "\n",
    "print(\"MSE (Mean Squared Error) : \", + MSE)\n",
    "print(\"MAE (Mean Absolute Error): \", + MAE)\n",
    "print(\"RMSE (Root Mean Squared Error ) : \", + RMSE)\n",
    "print(\"Adjusted R squared value : \" , adjusted_R_squared)"
   ]
  },
  {
   "cell_type": "code",
   "execution_count": 168,
   "metadata": {},
   "outputs": [
    {
     "name": "stdout",
     "output_type": "stream",
     "text": [
      "Input Variable Names    Regression                   MSE       MAE       RMSE    R-Squared    Adjusted R-Squared\n",
      "----------------------  --------------------  ----------  --------  ---------  -----------  --------------------\n",
      "['Y2']                  Z1 = 0.47+ (0.393)Y2  0.00713951  0.064802  0.0844956      0.99077              0.990316\n"
     ]
    }
   ],
   "source": [
    "table_testing = [\n",
    "                ['Input Variable Names', 'Regression', 'MSE', 'MAE', 'RMSE', 'R-Squared', 'Adjusted R-Squared'],\n",
    "                [[\"Y2\"], yx, MSE, MAE, RMSE, R_squared, adjusted_R_squared]\n",
    "                ]\n",
    "print(tabulate(table_testing, headers='firstrow'))"
   ]
  },
  {
   "cell_type": "code",
   "execution_count": 169,
   "metadata": {},
   "outputs": [
    {
     "name": "stdout",
     "output_type": "stream",
     "text": [
      "99.03158257316342 %\n"
     ]
    }
   ],
   "source": [
    "print(adjusted_R_squared * 100, '%')"
   ]
  },
  {
   "cell_type": "markdown",
   "metadata": {},
   "source": [
    "#### The stage-2 classifier is successfully implemented"
   ]
  },
  {
   "cell_type": "markdown",
   "metadata": {},
   "source": [
    "#### Ridge Regression"
   ]
  },
  {
   "cell_type": "code",
   "execution_count": 170,
   "metadata": {},
   "outputs": [],
   "source": [
    "from sklearn.linear_model import Ridge, RidgeCV"
   ]
  },
  {
   "cell_type": "code",
   "execution_count": 171,
   "metadata": {},
   "outputs": [
    {
     "data": {
      "text/plain": [
       "RidgeCV(alphas=array([2.64622866, 8.20700184, 1.4358511 , 2.96282166, 0.4294258 ,\n",
       "       8.24574779, 9.95486947, 5.36360313, 5.86039281, 5.74984489,\n",
       "       8.84132344, 1.38484143, 1.53289438, 6.59504622, 9.03257259,\n",
       "       8.73769849, 8.92347779, 2.85696608, 3.97698703, 1.43502585,\n",
       "       2.56772984, 4.69225411, 9.15570967, 1.38953841, 3.62202473,\n",
       "       0.73594445, 7.58131881, 7.26764315, 7.41427482, 0.81228971,\n",
       "       2.61303871, 7.66607708, 1.19461337, 3.58482402, 5.33724723,\n",
       "       1.11810343, 0.17510032, 4.39146303, 6.45776003, 0.52398068,\n",
       "       7.68623512, 7.2094711 , 5.47348161, 7.57078884, 1.23407969,\n",
       "       5.49115998, 4.20453938, 2.47312986, 7.75773519, 4.36418546]),\n",
       "        cv=10, normalize=True)"
      ]
     },
     "execution_count": 171,
     "metadata": {},
     "output_type": "execute_result"
    }
   ],
   "source": [
    "alphas = np.random.uniform(0, 10, 50)\n",
    "ridge_cv = RidgeCV(alphas = alphas, cv = 10, normalize = True)\n",
    "ridge_cv.fit(x_train, y_train)"
   ]
  },
  {
   "cell_type": "code",
   "execution_count": 172,
   "metadata": {},
   "outputs": [
    {
     "data": {
      "text/plain": [
       "0.17510032146011656"
      ]
     },
     "execution_count": 172,
     "metadata": {},
     "output_type": "execute_result"
    }
   ],
   "source": [
    "alpha = ridge_cv.alpha_\n",
    "alpha"
   ]
  },
  {
   "cell_type": "code",
   "execution_count": 173,
   "metadata": {},
   "outputs": [
    {
     "data": {
      "text/plain": [
       "Ridge(alpha=0.17510032146011656)"
      ]
     },
     "execution_count": 173,
     "metadata": {},
     "output_type": "execute_result"
    }
   ],
   "source": [
    "ridge = Ridge(alpha = ridge_cv.alpha_)\n",
    "ridge.fit(x_train, y_train)"
   ]
  },
  {
   "cell_type": "code",
   "execution_count": 174,
   "metadata": {},
   "outputs": [
    {
     "data": {
      "text/plain": [
       "0.7693457273119121"
      ]
     },
     "execution_count": 174,
     "metadata": {},
     "output_type": "execute_result"
    }
   ],
   "source": [
    "ridge.score(x_train, y_train)"
   ]
  },
  {
   "cell_type": "code",
   "execution_count": 175,
   "metadata": {},
   "outputs": [],
   "source": [
    "def adj_r2(X, y, model):\n",
    "    r2 = model.score(X, y)\n",
    "    n = X.shape[0]\n",
    "    p = X.shape[1]\n",
    "    adjusted_r2 = 1 - (1 - r2) * (n - 1) / (n - p - 1)\n",
    "    \n",
    "    return adjusted_r2"
   ]
  },
  {
   "cell_type": "code",
   "execution_count": 176,
   "metadata": {},
   "outputs": [
    {
     "name": "stdout",
     "output_type": "stream",
     "text": [
      "0.7478895158990667\n"
     ]
    }
   ],
   "source": [
    "print(adj_r2(x_train, y_train, ridge))"
   ]
  },
  {
   "cell_type": "code",
   "execution_count": 177,
   "metadata": {},
   "outputs": [
    {
     "name": "stdout",
     "output_type": "stream",
     "text": [
      "Regression Equation: \n",
      "Y = 0.215+ (0.0)X1 + (0.196)X2 + (0.224)X3\n"
     ]
    }
   ],
   "source": [
    "print(\"Regression Equation: \")\n",
    "yx = f\"Y = {ridge.intercept_.round(3)}+ ({ridge.coef_[0].round(3)})X1 + ({ridge.coef_[1].round(3)})X2 + ({ridge.coef_[2].round(3)})X3\"\n",
    "print(yx)"
   ]
  },
  {
   "cell_type": "markdown",
   "metadata": {},
   "source": [
    "# Ridge Stage 2"
   ]
  },
  {
   "cell_type": "code",
   "execution_count": 178,
   "metadata": {},
   "outputs": [
    {
     "name": "stdout",
     "output_type": "stream",
     "text": [
      "Intercept :  0.2148791652702905\n",
      "Coefficients :  [0.         0.19638091 0.2243525  0.3495057 ]\n"
     ]
    }
   ],
   "source": [
    "regression_model1 = Ridge()\n",
    "regression_model1.fit(x_train1,y_train1)\n",
    "print(\"Intercept : \",ridge.intercept_)\n",
    "print(\"Coefficients : \",ridge.coef_)"
   ]
  },
  {
   "cell_type": "code",
   "execution_count": 179,
   "metadata": {},
   "outputs": [
    {
     "name": "stdout",
     "output_type": "stream",
     "text": [
      "[0.65956705 0.82925735 0.65956705 0.82925735 0.65956705 0.77269392\n",
      " 0.71613048 0.77269392 0.71613048 0.77269392 0.77269392 0.77269392\n",
      " 0.82925735 0.77269392 0.71613048 0.71613048]\n"
     ]
    }
   ],
   "source": [
    "predictions1 = regression_model1.predict(x_test1)\n",
    "print(predictions1)"
   ]
  },
  {
   "cell_type": "code",
   "execution_count": 180,
   "metadata": {},
   "outputs": [
    {
     "data": {
      "text/plain": [
       "<matplotlib.collections.PathCollection at 0x214d84c99d0>"
      ]
     },
     "execution_count": 180,
     "metadata": {},
     "output_type": "execute_result"
    },
    {
     "data": {
      "image/png": "[encoded data removed]",
      "text/plain": [
       "<Figure size 432x288 with 1 Axes>"
      ]
     },
     "metadata": {
      "needs_background": "light"
     },
     "output_type": "display_data"
    }
   ],
   "source": [
    "plt.scatter(y_test1, predictions1)"
   ]
  },
  {
   "cell_type": "code",
   "execution_count": 181,
   "metadata": {},
   "outputs": [
    {
     "data": {
      "text/plain": [
       "<matplotlib.legend.Legend at 0x214d852e730>"
      ]
     },
     "execution_count": 181,
     "metadata": {},
     "output_type": "execute_result"
    },
    {
     "data": {
      "image/png": "[encoded data removed]",
      "text/plain": [
       "<Figure size 432x288 with 1 Axes>"
      ]
     },
     "metadata": {
      "needs_background": "light"
     },
     "output_type": "display_data"
    }
   ],
   "source": [
    "plt.plot(predictions1, label = 'Predicted Values')\n",
    "plt.plot(y_test1, label = 'Actual Values')\n",
    "plt.legend()"
   ]
  },
  {
   "cell_type": "code",
   "execution_count": 182,
   "metadata": {},
   "outputs": [
    {
     "name": "stdout",
     "output_type": "stream",
     "text": [
      "Actual\t\t\t Predicted\n",
      "0.6870681145113524 \t 0.6595670472571161\n",
      "0.9091806515301086 \t 0.8292573505329799\n",
      "0.6179664363277393 \t 0.6595670472571161\n",
      "0.926949654491609 \t 0.8292573505329799\n",
      "0.7769002961500493 \t 0.6595670472571161\n",
      "0.5715695952615991 \t 0.772693916107692\n",
      "0.6870681145113524 \t 0.716130481682404\n",
      "0.874629812438302 \t 0.772693916107692\n",
      "0.7097729516288253 \t 0.716130481682404\n",
      "0.6742349457058242 \t 0.772693916107692\n",
      "0.7058242843040473 \t 0.772693916107692\n",
      "0.7226061204343533 \t 0.772693916107692\n",
      "0.9141164856860808 \t 0.8292573505329799\n",
      "0.7295162882527146 \t 0.772693916107692\n",
      "0.7137216189536032 \t 0.716130481682404\n",
      "0.6880552813425468 \t 0.716130481682404\n"
     ]
    }
   ],
   "source": [
    "predictions_list1 = predictions1.tolist()\n",
    "Y_test_list1 = y_test1.tolist()\n",
    "print(\"Actual\\t\\t\\t Predicted\")\n",
    "for i in range(len(Y_test_list1)):\n",
    "    print(Y_test_list1[i], \"\\t\" ,predictions_list1[i])"
   ]
  },
  {
   "cell_type": "code",
   "execution_count": 183,
   "metadata": {},
   "outputs": [],
   "source": [
    "result1 = sm.OLS(x_train1, y_train1).fit()"
   ]
  },
  {
   "cell_type": "code",
   "execution_count": 184,
   "metadata": {},
   "outputs": [
    {
     "name": "stdout",
     "output_type": "stream",
     "text": [
      "MSE (Mean Squared Error) :  0.007139507515967515\n",
      "MAE (Mean Absolute Error):  0.06480204990608898\n",
      "RMSE (Root Mean Squared Error ) :  0.08449560648913951\n",
      "Adjusted R squared value :  0.9433743789435787\n"
     ]
    }
   ],
   "source": [
    "MAE2 = metrics.mean_absolute_error(y_test1, predictions1)\n",
    "MSE2 = metrics.mean_squared_error(y_test1,predictions1)\n",
    "RMSE2 = np.sqrt(MSE2)\n",
    "R_squared21 = result1.rsquared\n",
    "adjusted_R_squared1 = result1.rsquared_adj\n",
    "\n",
    "print(\"MSE (Mean Squared Error) : \", + MSE)\n",
    "print(\"MAE (Mean Absolute Error): \", + MAE)\n",
    "print(\"RMSE (Root Mean Squared Error ) : \", + RMSE)\n",
    "print(\"Adjusted R squared value : \" , + adjusted_R_squared1 )"
   ]
  },
  {
   "cell_type": "code",
   "execution_count": 185,
   "metadata": {},
   "outputs": [
    {
     "name": "stdout",
     "output_type": "stream",
     "text": [
      "94.4554079382254 %\n"
     ]
    }
   ],
   "source": [
    "print( R_squared21* 100, '%')"
   ]
  },
  {
   "cell_type": "code",
   "execution_count": 186,
   "metadata": {},
   "outputs": [
    {
     "name": "stdout",
     "output_type": "stream",
     "text": [
      "Regression Equation: \n",
      "Z1 = 0.546+ (0.283)Y2\n"
     ]
    }
   ],
   "source": [
    "print(\"Regression Equation: \")\n",
    "yx = f\"Z1 = {regression_model1.intercept_.round(3)}+ ({regression_model1.coef_[0].round(3)})Y2\"\n",
    "print(yx)"
   ]
  },
  {
   "cell_type": "markdown",
   "metadata": {},
   "source": [
    "#### Lasso Regression"
   ]
  },
  {
   "cell_type": "markdown",
   "metadata": {},
   "source": [
    "#### Stage - 1 for the lasso regression"
   ]
  },
  {
   "cell_type": "code",
   "execution_count": 187,
   "metadata": {},
   "outputs": [],
   "source": [
    "from sklearn.linear_model import Lasso"
   ]
  },
  {
   "cell_type": "code",
   "execution_count": 188,
   "metadata": {},
   "outputs": [
    {
     "data": {
      "text/plain": [
       "Lasso(alpha=1)"
      ]
     },
     "execution_count": 188,
     "metadata": {},
     "output_type": "execute_result"
    }
   ],
   "source": [
    "x_train , x_test, y_train , y_test = tsplit(X,Y,train_size=0.75,random_state=1)\n",
    "\n",
    "lasso = Lasso(alpha=1)\n",
    "lasso.fit(x_train, y_train)"
   ]
  },
  {
   "cell_type": "code",
   "execution_count": 216,
   "metadata": {},
   "outputs": [
    {
     "data": {
      "text/plain": [
       "24    0.687068\n",
       "39    0.909181\n",
       "52    0.617966\n",
       "27    0.926950\n",
       "44    0.776900\n",
       "2     0.571570\n",
       "21    0.687068\n",
       "62    0.874630\n",
       "41    0.709773\n",
       "50    0.674235\n",
       "38    0.705824\n",
       "54    0.722606\n",
       "35    0.914116\n",
       "26    0.729516\n",
       "57    0.713722\n",
       "49    0.688055\n",
       "Name: Y2, dtype: float64"
      ]
     },
     "execution_count": 216,
     "metadata": {},
     "output_type": "execute_result"
    }
   ],
   "source": [
    "y_pred = lasso.predict(x_test)\n",
    "y_test"
   ]
  },
  {
   "cell_type": "code",
   "execution_count": 190,
   "metadata": {},
   "outputs": [
    {
     "data": {
      "text/plain": [
       "array([0.74323379, 0.74323379, 0.74323379, 0.74323379, 0.74323379,\n",
       "       0.74323379, 0.74323379, 0.74323379, 0.74323379, 0.74323379,\n",
       "       0.74323379, 0.74323379, 0.74323379, 0.74323379, 0.74323379,\n",
       "       0.74323379])"
      ]
     },
     "execution_count": 190,
     "metadata": {},
     "output_type": "execute_result"
    }
   ],
   "source": [
    "y_pred"
   ]
  },
  {
   "cell_type": "code",
   "execution_count": 191,
   "metadata": {},
   "outputs": [],
   "source": [
    "def adj_r2(X, y, model):\n",
    "    r2 = model.score(X, y)\n",
    "    n = X.shape[0]\n",
    "    p = X.shape[1]\n",
    "    adjusted_r2 = 1 - (1 - r2) * (n - 1) / (n - p - 1)\n",
    "    \n",
    "    return adjusted_r2"
   ]
  },
  {
   "cell_type": "code",
   "execution_count": 192,
   "metadata": {},
   "outputs": [
    {
     "name": "stdout",
     "output_type": "stream",
     "text": [
      "0.06818181818181812\n"
     ]
    }
   ],
   "source": [
    "print(-(adj_r2(x_train, y_train, lasso)))"
   ]
  },
  {
   "cell_type": "code",
   "execution_count": 193,
   "metadata": {},
   "outputs": [
    {
     "name": "stdout",
     "output_type": "stream",
     "text": [
      "                                 OLS Regression Results                                \n",
      "=======================================================================================\n",
      "Dep. Variable:                     Y2   R-squared (uncentered):                   0.991\n",
      "Model:                            OLS   Adj. R-squared (uncentered):              0.990\n",
      "Method:                 Least Squares   F-statistic:                              1608.\n",
      "Date:                Thu, 17 Mar 2022   Prob (F-statistic):                    9.15e-46\n",
      "Time:                        12:38:30   Log-Likelihood:                          57.785\n",
      "No. Observations:                  48   AIC:                                     -109.6\n",
      "Df Residuals:                      45   BIC:                                     -104.0\n",
      "Df Model:                           3                                                  \n",
      "Covariance Type:            nonrobust                                                  \n",
      "==============================================================================\n",
      "                 coef    std err          t      P>|t|      [0.025      0.975]\n",
      "------------------------------------------------------------------------------\n",
      "X1             0.2486      0.036      6.919      0.000       0.176       0.321\n",
      "X2             0.3687      0.040      9.117      0.000       0.287       0.450\n",
      "X3             0.4474      0.040     11.051      0.000       0.366       0.529\n",
      "==============================================================================\n",
      "Omnibus:                        2.245   Durbin-Watson:                   2.133\n",
      "Prob(Omnibus):                  0.325   Jarque-Bera (JB):                1.694\n",
      "Skew:                           0.459   Prob(JB):                        0.429\n",
      "Kurtosis:                       3.054   Cond. No.                         5.92\n",
      "==============================================================================\n",
      "\n",
      "Notes:\n",
      "[1] R² is computed without centering (uncentered) since the model does not contain a constant.\n",
      "[2] Standard Errors assume that the covariance matrix of the errors is correctly specified.\n"
     ]
    }
   ],
   "source": [
    "result = sm.OLS(y_train, x_train).fit()\n",
    "print(result.summary())"
   ]
  },
  {
   "cell_type": "code",
   "execution_count": 217,
   "metadata": {},
   "outputs": [
    {
     "name": "stdout",
     "output_type": "stream",
     "text": [
      "MSE (Mean Squared Error) :  0.007139507515967515\n",
      "MAE (Mean Absolute Error):  0.06480204990608898\n",
      "RMSE (Root Mean Squared Error ) :  0.08449560648913951\n",
      "-0.00011042458390120302\n"
     ]
    }
   ],
   "source": [
    "from sklearn.metrics import r2_score\n",
    "MAE2 = metrics.mean_absolute_error(y_test, y_pred)\n",
    "MSE2 = metrics.mean_squared_error(y_test, y_pred)\n",
    "RMSE2 = np.sqrt(MSE2)\n",
    "R_squared = r2_score(y_test,y_pred)\n",
    "\n",
    "print(\"MSE (Mean Squared Error) : \", + MSE)\n",
    "print(\"MAE (Mean Absolute Error): \", + MAE)\n",
    "print(\"RMSE (Root Mean Squared Error ) : \", + RMSE)\n",
    "print(R_squared)"
   ]
  },
  {
   "cell_type": "code",
   "execution_count": 208,
   "metadata": {},
   "outputs": [
    {
     "name": "stdout",
     "output_type": "stream",
     "text": [
      "Regression Equation: \n",
      "Y = 0.743+ (0.0)X1 + (0.0)X2 + (0.0)X3\n"
     ]
    }
   ],
   "source": [
    "print(\"Regression Equation: \")\n",
    "yx = f\"Y = {lasso.intercept_.round(3)}+ ({lasso.coef_[0].round(3)})X1 + ({lasso.coef_[1].round(3)})X2 + ({lasso.coef_[2].round(3)})X3\"\n",
    "print(yx)"
   ]
  },
  {
   "cell_type": "markdown",
   "metadata": {},
   "source": [
    "### Lasso Stage 2"
   ]
  },
  {
   "cell_type": "code",
   "execution_count": 196,
   "metadata": {},
   "outputs": [
    {
     "name": "stdout",
     "output_type": "stream",
     "text": [
      "Intercept :  0.7432337940111878\n",
      "Coefficients :  [0. 0. 0.]\n"
     ]
    }
   ],
   "source": [
    "regression_model1 = Lasso()\n",
    "regression_model1.fit(x_train1,y_train1)\n",
    "print(\"Intercept : \",lasso.intercept_)\n",
    "print(\"Coefficients : \",lasso.coef_)"
   ]
  },
  {
   "cell_type": "code",
   "execution_count": 197,
   "metadata": {},
   "outputs": [
    {
     "name": "stdout",
     "output_type": "stream",
     "text": [
      "Regression Equation: \n",
      "Z1 = 0.743+ (0.0)Y2\n"
     ]
    }
   ],
   "source": [
    "print(\"Regression Equation: \")\n",
    "yx = f\"Z1 = {regression_model1.intercept_.round(3)}+ ({regression_model1.coef_[0].round(3)})Y2\"\n",
    "print(yx)"
   ]
  },
  {
   "cell_type": "markdown",
   "metadata": {},
   "source": [
    "#### The Lasso doesn't indicate which individual regressors are \"more predictive\" than others. It simply has a built-in tendency to estimate coefficients as zero. The larger the penalty coefficient log(λ) is, the greater is that tendency."
   ]
  },
  {
   "cell_type": "code",
   "execution_count": 198,
   "metadata": {},
   "outputs": [
    {
     "name": "stdout",
     "output_type": "stream",
     "text": [
      "[0.74323379 0.74323379 0.74323379 0.74323379 0.74323379 0.74323379\n",
      " 0.74323379 0.74323379 0.74323379 0.74323379 0.74323379 0.74323379\n",
      " 0.74323379 0.74323379 0.74323379 0.74323379]\n"
     ]
    }
   ],
   "source": [
    "predictions1 = regression_model1.predict(x_test1)\n",
    "print(predictions1)"
   ]
  },
  {
   "cell_type": "code",
   "execution_count": 199,
   "metadata": {},
   "outputs": [
    {
     "data": {
      "text/plain": [
       "<matplotlib.collections.PathCollection at 0x214d85bfd30>"
      ]
     },
     "execution_count": 199,
     "metadata": {},
     "output_type": "execute_result"
    },
    {
     "data": {
      "image/png": "[encoded data removed]",
      "text/plain": [
       "<Figure size 432x288 with 1 Axes>"
      ]
     },
     "metadata": {
      "needs_background": "light"
     },
     "output_type": "display_data"
    }
   ],
   "source": [
    "plt.scatter(y_test1, predictions1)"
   ]
  },
  {
   "cell_type": "code",
   "execution_count": 200,
   "metadata": {},
   "outputs": [
    {
     "data": {
      "text/plain": [
       "<matplotlib.legend.Legend at 0x214d8619fd0>"
      ]
     },
     "execution_count": 200,
     "metadata": {},
     "output_type": "execute_result"
    },
    {
     "data": {
      "image/png": "[encoded data removed]",
      "text/plain": [
       "<Figure size 432x288 with 1 Axes>"
      ]
     },
     "metadata": {
      "needs_background": "light"
     },
     "output_type": "display_data"
    }
   ],
   "source": [
    "plt.plot(predictions1, label = 'Predicted Values')\n",
    "plt.plot(y_test1, label = 'Actual Values')\n",
    "plt.legend()"
   ]
  },
  {
   "cell_type": "code",
   "execution_count": 201,
   "metadata": {},
   "outputs": [
    {
     "name": "stdout",
     "output_type": "stream",
     "text": [
      "Actual\t\t\t Predicted\n",
      "0.6870681145113524 \t 0.7432337940111878\n",
      "0.9091806515301086 \t 0.7432337940111878\n",
      "0.6179664363277393 \t 0.7432337940111878\n",
      "0.926949654491609 \t 0.7432337940111878\n",
      "0.7769002961500493 \t 0.7432337940111878\n",
      "0.5715695952615991 \t 0.7432337940111878\n",
      "0.6870681145113524 \t 0.7432337940111878\n",
      "0.874629812438302 \t 0.7432337940111878\n",
      "0.7097729516288253 \t 0.7432337940111878\n",
      "0.6742349457058242 \t 0.7432337940111878\n",
      "0.7058242843040473 \t 0.7432337940111878\n",
      "0.7226061204343533 \t 0.7432337940111878\n",
      "0.9141164856860808 \t 0.7432337940111878\n",
      "0.7295162882527146 \t 0.7432337940111878\n",
      "0.7137216189536032 \t 0.7432337940111878\n",
      "0.6880552813425468 \t 0.7432337940111878\n"
     ]
    }
   ],
   "source": [
    "predictions_list1 = predictions1.tolist()\n",
    "Y_test_list1 = y_test1.tolist()\n",
    "print(\"Actual\\t\\t\\t Predicted\")\n",
    "for i in range(len(Y_test_list1)):\n",
    "    print(Y_test_list1[i], \"\\t\" ,predictions_list1[i])"
   ]
  },
  {
   "cell_type": "code",
   "execution_count": 202,
   "metadata": {},
   "outputs": [],
   "source": [
    "def adj_r21(x_train1, y_train1, model):\n",
    "    r2 = model.score(X, Y)\n",
    "    n = X.shape[0]\n",
    "    p = X.shape[1]\n",
    "    adjusted_r21 = 1 - (1 - r2) * (n - 1) / (n - p - 1)\n",
    "    \n",
    "    return adjusted_r21"
   ]
  },
  {
   "cell_type": "code",
   "execution_count": 203,
   "metadata": {},
   "outputs": [
    {
     "name": "stdout",
     "output_type": "stream",
     "text": [
      "                                 OLS Regression Results                                \n",
      "=======================================================================================\n",
      "Dep. Variable:                     Y2   R-squared (uncentered):                   0.991\n",
      "Model:                            OLS   Adj. R-squared (uncentered):              0.990\n",
      "Method:                 Least Squares   F-statistic:                              1608.\n",
      "Date:                Thu, 17 Mar 2022   Prob (F-statistic):                    9.15e-46\n",
      "Time:                        12:38:31   Log-Likelihood:                          57.785\n",
      "No. Observations:                  48   AIC:                                     -109.6\n",
      "Df Residuals:                      45   BIC:                                     -104.0\n",
      "Df Model:                           3                                                  \n",
      "Covariance Type:            nonrobust                                                  \n",
      "==============================================================================\n",
      "                 coef    std err          t      P>|t|      [0.025      0.975]\n",
      "------------------------------------------------------------------------------\n",
      "X1             0.2486      0.036      6.919      0.000       0.176       0.321\n",
      "X2             0.3687      0.040      9.117      0.000       0.287       0.450\n",
      "X3             0.4474      0.040     11.051      0.000       0.366       0.529\n",
      "==============================================================================\n",
      "Omnibus:                        2.245   Durbin-Watson:                   2.133\n",
      "Prob(Omnibus):                  0.325   Jarque-Bera (JB):                1.694\n",
      "Skew:                           0.459   Prob(JB):                        0.429\n",
      "Kurtosis:                       3.054   Cond. No.                         5.92\n",
      "==============================================================================\n",
      "\n",
      "Notes:\n",
      "[1] R² is computed without centering (uncentered) since the model does not contain a constant.\n",
      "[2] Standard Errors assume that the covariance matrix of the errors is correctly specified.\n"
     ]
    }
   ],
   "source": [
    "result = sm.OLS(y_train, x_train).fit()\n",
    "print(result.summary())"
   ]
  },
  {
   "cell_type": "code",
   "execution_count": 204,
   "metadata": {},
   "outputs": [
    {
     "name": "stdout",
     "output_type": "stream",
     "text": [
      "MSE (Mean Squared Error) :  0.007139507515967515\n",
      "MAE (Mean Absolute Error):  0.06480204990608898\n",
      "RMSE (Root Mean Squared Error ) :  0.08449560648913951\n",
      "Adjusted R squared value :  0.9901437545380545\n"
     ]
    }
   ],
   "source": [
    "MAE2 = metrics.mean_absolute_error(y_test1, predictions1)\n",
    "MSE2 = metrics.mean_squared_error(y_test1,predictions1)\n",
    "RMSE2 = np.sqrt(MSE2)\n",
    "R_squared2 = result.rsquared\n",
    "adjusted_R_squared = result.rsquared_adj\n",
    "\n",
    "print(\"MSE (Mean Squared Error) : \", + MSE)\n",
    "print(\"MAE (Mean Absolute Error): \", + MAE)\n",
    "print(\"RMSE (Root Mean Squared Error ) : \", + RMSE)\n",
    "print(\"Adjusted R squared value : \" , + adjusted_R_squared )"
   ]
  },
  {
   "cell_type": "code",
   "execution_count": 205,
   "metadata": {},
   "outputs": [
    {
     "name": "stdout",
     "output_type": "stream",
     "text": [
      "99.07597698794261 %\n"
     ]
    }
   ],
   "source": [
    "print( R_squared2* 100, '%')"
   ]
  },
  {
   "cell_type": "markdown",
   "metadata": {},
   "source": [
    "### Elastic Net Regression"
   ]
  },
  {
   "cell_type": "markdown",
   "metadata": {},
   "source": [
    "#### Importing the Elastic net modules"
   ]
  },
  {
   "cell_type": "code",
   "execution_count": 206,
   "metadata": {},
   "outputs": [],
   "source": [
    "from sklearn.linear_model import ElasticNet,ElasticNetCV\n",
    "x_train = df_scaled.iloc[:, :4].values"
   ]
  },
  {
   "cell_type": "code",
   "execution_count": 207,
   "metadata": {},
   "outputs": [
    {
     "ename": "ValueError",
     "evalue": "Found input variables with inconsistent numbers of samples: [64, 48]",
     "output_type": "error",
     "traceback": [
      "\u001b[1;31m---------------------------------------------------------------------------\u001b[0m",
      "\u001b[1;31mValueError\u001b[0m                                Traceback (most recent call last)",
      "\u001b[1;32mC:\\Users\\PVABHI~1\\AppData\\Local\\Temp/ipykernel_6496/1008496164.py\u001b[0m in \u001b[0;36m<module>\u001b[1;34m\u001b[0m\n\u001b[0;32m      4\u001b[0m \u001b[1;32mfor\u001b[0m \u001b[0ma\u001b[0m \u001b[1;32min\u001b[0m \u001b[0malphas\u001b[0m\u001b[1;33m:\u001b[0m\u001b[1;33m\u001b[0m\u001b[1;33m\u001b[0m\u001b[0m\n\u001b[0;32m      5\u001b[0m     \u001b[0melastic_net\u001b[0m \u001b[1;33m=\u001b[0m \u001b[0mElasticNet\u001b[0m\u001b[1;33m(\u001b[0m\u001b[0malpha\u001b[0m \u001b[1;33m=\u001b[0m \u001b[0ma\u001b[0m\u001b[1;33m,\u001b[0m \u001b[0ml1_ratio\u001b[0m\u001b[1;33m=\u001b[0m\u001b[1;36m0.5\u001b[0m\u001b[1;33m)\u001b[0m\u001b[1;33m\u001b[0m\u001b[1;33m\u001b[0m\u001b[0m\n\u001b[1;32m----> 6\u001b[1;33m     \u001b[0melastic_net\u001b[0m\u001b[1;33m.\u001b[0m\u001b[0mfit\u001b[0m\u001b[1;33m(\u001b[0m\u001b[0mx_train\u001b[0m\u001b[1;33m,\u001b[0m \u001b[0my_train\u001b[0m\u001b[1;33m)\u001b[0m\u001b[1;33m\u001b[0m\u001b[1;33m\u001b[0m\u001b[0m\n\u001b[0m\u001b[0;32m      7\u001b[0m     \u001b[0mcoef_eln\u001b[0m\u001b[1;33m.\u001b[0m\u001b[0mappend\u001b[0m\u001b[1;33m(\u001b[0m\u001b[0melastic_net\u001b[0m\u001b[1;33m.\u001b[0m\u001b[0mcoef_\u001b[0m\u001b[1;33m)\u001b[0m\u001b[1;33m\u001b[0m\u001b[1;33m\u001b[0m\u001b[0m\n\u001b[0;32m      8\u001b[0m     \u001b[0my_pred\u001b[0m \u001b[1;33m=\u001b[0m \u001b[0melastic_net\u001b[0m\u001b[1;33m.\u001b[0m\u001b[0mpredict\u001b[0m\u001b[1;33m(\u001b[0m\u001b[0mx_test\u001b[0m\u001b[1;33m)\u001b[0m\u001b[1;33m\u001b[0m\u001b[1;33m\u001b[0m\u001b[0m\n",
      "\u001b[1;32m~\\AppData\\Local\\Programs\\Python\\Python39\\lib\\site-packages\\sklearn\\linear_model\\_coordinate_descent.py\u001b[0m in \u001b[0;36mfit\u001b[1;34m(self, X, y, sample_weight, check_input)\u001b[0m\n\u001b[0;32m    933\u001b[0m         \u001b[1;32mif\u001b[0m \u001b[0mcheck_input\u001b[0m\u001b[1;33m:\u001b[0m\u001b[1;33m\u001b[0m\u001b[1;33m\u001b[0m\u001b[0m\n\u001b[0;32m    934\u001b[0m             \u001b[0mX_copied\u001b[0m \u001b[1;33m=\u001b[0m \u001b[0mself\u001b[0m\u001b[1;33m.\u001b[0m\u001b[0mcopy_X\u001b[0m \u001b[1;32mand\u001b[0m \u001b[0mself\u001b[0m\u001b[1;33m.\u001b[0m\u001b[0mfit_intercept\u001b[0m\u001b[1;33m\u001b[0m\u001b[1;33m\u001b[0m\u001b[0m\n\u001b[1;32m--> 935\u001b[1;33m             X, y = self._validate_data(\n\u001b[0m\u001b[0;32m    936\u001b[0m                 \u001b[0mX\u001b[0m\u001b[1;33m,\u001b[0m\u001b[1;33m\u001b[0m\u001b[1;33m\u001b[0m\u001b[0m\n\u001b[0;32m    937\u001b[0m                 \u001b[0my\u001b[0m\u001b[1;33m,\u001b[0m\u001b[1;33m\u001b[0m\u001b[1;33m\u001b[0m\u001b[0m\n",
      "\u001b[1;32m~\\AppData\\Local\\Programs\\Python\\Python39\\lib\\site-packages\\sklearn\\base.py\u001b[0m in \u001b[0;36m_validate_data\u001b[1;34m(self, X, y, reset, validate_separately, **check_params)\u001b[0m\n\u001b[0;32m    579\u001b[0m                 \u001b[0my\u001b[0m \u001b[1;33m=\u001b[0m \u001b[0mcheck_array\u001b[0m\u001b[1;33m(\u001b[0m\u001b[0my\u001b[0m\u001b[1;33m,\u001b[0m \u001b[1;33m**\u001b[0m\u001b[0mcheck_y_params\u001b[0m\u001b[1;33m)\u001b[0m\u001b[1;33m\u001b[0m\u001b[1;33m\u001b[0m\u001b[0m\n\u001b[0;32m    580\u001b[0m             \u001b[1;32melse\u001b[0m\u001b[1;33m:\u001b[0m\u001b[1;33m\u001b[0m\u001b[1;33m\u001b[0m\u001b[0m\n\u001b[1;32m--> 581\u001b[1;33m                 \u001b[0mX\u001b[0m\u001b[1;33m,\u001b[0m \u001b[0my\u001b[0m \u001b[1;33m=\u001b[0m \u001b[0mcheck_X_y\u001b[0m\u001b[1;33m(\u001b[0m\u001b[0mX\u001b[0m\u001b[1;33m,\u001b[0m \u001b[0my\u001b[0m\u001b[1;33m,\u001b[0m \u001b[1;33m**\u001b[0m\u001b[0mcheck_params\u001b[0m\u001b[1;33m)\u001b[0m\u001b[1;33m\u001b[0m\u001b[1;33m\u001b[0m\u001b[0m\n\u001b[0m\u001b[0;32m    582\u001b[0m             \u001b[0mout\u001b[0m \u001b[1;33m=\u001b[0m \u001b[0mX\u001b[0m\u001b[1;33m,\u001b[0m \u001b[0my\u001b[0m\u001b[1;33m\u001b[0m\u001b[1;33m\u001b[0m\u001b[0m\n\u001b[0;32m    583\u001b[0m \u001b[1;33m\u001b[0m\u001b[0m\n",
      "\u001b[1;32m~\\AppData\\Local\\Programs\\Python\\Python39\\lib\\site-packages\\sklearn\\utils\\validation.py\u001b[0m in \u001b[0;36mcheck_X_y\u001b[1;34m(X, y, accept_sparse, accept_large_sparse, dtype, order, copy, force_all_finite, ensure_2d, allow_nd, multi_output, ensure_min_samples, ensure_min_features, y_numeric, estimator)\u001b[0m\n\u001b[0;32m    979\u001b[0m     \u001b[0my\u001b[0m \u001b[1;33m=\u001b[0m \u001b[0m_check_y\u001b[0m\u001b[1;33m(\u001b[0m\u001b[0my\u001b[0m\u001b[1;33m,\u001b[0m \u001b[0mmulti_output\u001b[0m\u001b[1;33m=\u001b[0m\u001b[0mmulti_output\u001b[0m\u001b[1;33m,\u001b[0m \u001b[0my_numeric\u001b[0m\u001b[1;33m=\u001b[0m\u001b[0my_numeric\u001b[0m\u001b[1;33m)\u001b[0m\u001b[1;33m\u001b[0m\u001b[1;33m\u001b[0m\u001b[0m\n\u001b[0;32m    980\u001b[0m \u001b[1;33m\u001b[0m\u001b[0m\n\u001b[1;32m--> 981\u001b[1;33m     \u001b[0mcheck_consistent_length\u001b[0m\u001b[1;33m(\u001b[0m\u001b[0mX\u001b[0m\u001b[1;33m,\u001b[0m \u001b[0my\u001b[0m\u001b[1;33m)\u001b[0m\u001b[1;33m\u001b[0m\u001b[1;33m\u001b[0m\u001b[0m\n\u001b[0m\u001b[0;32m    982\u001b[0m \u001b[1;33m\u001b[0m\u001b[0m\n\u001b[0;32m    983\u001b[0m     \u001b[1;32mreturn\u001b[0m \u001b[0mX\u001b[0m\u001b[1;33m,\u001b[0m \u001b[0my\u001b[0m\u001b[1;33m\u001b[0m\u001b[1;33m\u001b[0m\u001b[0m\n",
      "\u001b[1;32m~\\AppData\\Local\\Programs\\Python\\Python39\\lib\\site-packages\\sklearn\\utils\\validation.py\u001b[0m in \u001b[0;36mcheck_consistent_length\u001b[1;34m(*arrays)\u001b[0m\n\u001b[0;32m    330\u001b[0m     \u001b[0muniques\u001b[0m \u001b[1;33m=\u001b[0m \u001b[0mnp\u001b[0m\u001b[1;33m.\u001b[0m\u001b[0munique\u001b[0m\u001b[1;33m(\u001b[0m\u001b[0mlengths\u001b[0m\u001b[1;33m)\u001b[0m\u001b[1;33m\u001b[0m\u001b[1;33m\u001b[0m\u001b[0m\n\u001b[0;32m    331\u001b[0m     \u001b[1;32mif\u001b[0m \u001b[0mlen\u001b[0m\u001b[1;33m(\u001b[0m\u001b[0muniques\u001b[0m\u001b[1;33m)\u001b[0m \u001b[1;33m>\u001b[0m \u001b[1;36m1\u001b[0m\u001b[1;33m:\u001b[0m\u001b[1;33m\u001b[0m\u001b[1;33m\u001b[0m\u001b[0m\n\u001b[1;32m--> 332\u001b[1;33m         raise ValueError(\n\u001b[0m\u001b[0;32m    333\u001b[0m             \u001b[1;34m\"Found input variables with inconsistent numbers of samples: %r\"\u001b[0m\u001b[1;33m\u001b[0m\u001b[1;33m\u001b[0m\u001b[0m\n\u001b[0;32m    334\u001b[0m             \u001b[1;33m%\u001b[0m \u001b[1;33m[\u001b[0m\u001b[0mint\u001b[0m\u001b[1;33m(\u001b[0m\u001b[0ml\u001b[0m\u001b[1;33m)\u001b[0m \u001b[1;32mfor\u001b[0m \u001b[0ml\u001b[0m \u001b[1;32min\u001b[0m \u001b[0mlengths\u001b[0m\u001b[1;33m]\u001b[0m\u001b[1;33m\u001b[0m\u001b[1;33m\u001b[0m\u001b[0m\n",
      "\u001b[1;31mValueError\u001b[0m: Found input variables with inconsistent numbers of samples: [64, 48]"
     ]
    }
   ],
   "source": [
    "coef_eln = []\n",
    "err_eln = []\n",
    "baseline = []\n",
    "for a in alphas:\n",
    "    elastic_net = ElasticNet(alpha = a, l1_ratio=0.5)\n",
    "    elastic_net.fit(x_train, y_train)\n",
    "    coef_eln.append(elastic_net.coef_)\n",
    "    y_pred = elastic_net.predict(x_test)\n",
    "    elasticnet_error = metrics.mean_squared_error(y_pred, y_test)\n",
    "    elasticnet_error = elasticnet_error / np.linalg.norm(y_test)\n",
    "    err_eln.append(elasticnet_error)\n",
    "    baseline.append(baseline_error)"
   ]
  },
  {
   "cell_type": "code",
   "execution_count": null,
   "metadata": {},
   "outputs": [
    {
     "data": {
      "text/plain": [
       "9.862495519152226"
      ]
     },
     "execution_count": 96,
     "metadata": {},
     "output_type": "execute_result"
    }
   ],
   "source": [
    "alpha = E_cv.alpha_\n",
    "alpha"
   ]
  },
  {
   "cell_type": "code",
   "execution_count": null,
   "metadata": {},
   "outputs": [
    {
     "data": {
      "text/plain": [
       "ElasticNet(alpha=9.862495519152226)"
      ]
     },
     "execution_count": 97,
     "metadata": {},
     "output_type": "execute_result"
    }
   ],
   "source": [
    "elastic= ElasticNet(alpha = E_cv.alpha_)\n",
    "elastic.fit(x_train, y_train)"
   ]
  },
  {
   "cell_type": "code",
   "execution_count": null,
   "metadata": {},
   "outputs": [
    {
     "data": {
      "text/plain": [
       "0.0"
      ]
     },
     "execution_count": 98,
     "metadata": {},
     "output_type": "execute_result"
    }
   ],
   "source": [
    "elastic.score(x_train, y_train)"
   ]
  }
 ],
 "metadata": {
  "interpreter": {
   "hash": "07774c1517c852ae118f3f239a2d5a1f1ba4bd5523a10d28c28bc0d58e2851ef"
  },
  "kernelspec": {
   "display_name": "Python 3",
   "language": "python",
   "name": "python3"
  },
  "language_info": {
   "codemirror_mode": {
    "name": "ipython",
    "version": 3
   },
   "file_extension": ".py",
   "mimetype": "text/x-python",
   "name": "python",
   "nbconvert_exporter": "python",
   "pygments_lexer": "ipython3",
   "version": "3.9.0"
  }
 },
 "nbformat": 4,
 "nbformat_minor": 2
}
