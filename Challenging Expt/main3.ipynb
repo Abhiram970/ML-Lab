{
 "cells": [
  {
   "cell_type": "markdown",
   "metadata": {},
   "source": [
    "# CSE1015 - Machine Learning Essentials\n",
    "# Pinni Venkata Abhiram\n",
    "# 20BAI1132"
   ]
  },
  {
   "cell_type": "markdown",
   "metadata": {},
   "source": [
    "### Challenging Experiment \n",
    "### Various types of regression "
   ]
  },
  {
   "cell_type": "markdown",
   "metadata": {},
   "source": [
    "### Importing all the modules"
   ]
  },
  {
   "cell_type": "code",
   "execution_count": 2,
   "metadata": {},
   "outputs": [],
   "source": [
    "import numpy as np\n",
    "import pandas as pd\n",
    "import matplotlib.pyplot as plt\n",
    "import seaborn as sns\n",
    "import warnings\n",
    "from sklearn.linear_model import LinearRegression as linearreg\n",
    "import statsmodels.api as sm\n",
    "from statsmodels.stats.outliers_influence import variance_inflation_factor\n",
    "from sklearn import metrics\n",
    "from scipy.stats import pearsonr\n",
    "from sklearn.model_selection import train_test_split as tsplit\n",
    "from sklearn.preprocessing import MinMaxScaler\n",
    "from tabulate import tabulate"
   ]
  },
  {
   "cell_type": "markdown",
   "metadata": {},
   "source": [
    "### Ignoring the Warnings"
   ]
  },
  {
   "cell_type": "code",
   "execution_count": 3,
   "metadata": {},
   "outputs": [],
   "source": [
    "warnings.filterwarnings('ignore')"
   ]
  },
  {
   "cell_type": "markdown",
   "metadata": {},
   "source": [
    "### Preprocessing for the dataset"
   ]
  },
  {
   "cell_type": "markdown",
   "metadata": {},
   "source": [
    "#### Importing the dataset"
   ]
  },
  {
   "cell_type": "code",
   "execution_count": 4,
   "metadata": {},
   "outputs": [],
   "source": [
    "df = pd.read_csv('data.csv')"
   ]
  },
  {
   "cell_type": "code",
   "execution_count": 5,
   "metadata": {},
   "outputs": [
    {
     "data": {
      "text/plain": [
       "Index(['Sample Number', 'X1', 'X2', 'X3', 'Y2', 'Z1'], dtype='object')"
      ]
     },
     "execution_count": 5,
     "metadata": {},
     "output_type": "execute_result"
    }
   ],
   "source": [
    "df.columns"
   ]
  },
  {
   "cell_type": "markdown",
   "metadata": {},
   "source": [
    "#### For the given Stage - 1 Classifier the Sample Number and the value of Z1 aren't required so we drop them"
   ]
  },
  {
   "cell_type": "code",
   "execution_count": 6,
   "metadata": {},
   "outputs": [],
   "source": [
    "df = df.drop([\"Sample Number\",\"Z1\"],axis = 1)"
   ]
  },
  {
   "cell_type": "markdown",
   "metadata": {},
   "source": [
    "#### Viewing the dataset"
   ]
  },
  {
   "cell_type": "code",
   "execution_count": 7,
   "metadata": {},
   "outputs": [
    {
     "data": {
      "text/html": [
       "<div>\n",
       "<style scoped>\n",
       "    .dataframe tbody tr th:only-of-type {\n",
       "        vertical-align: middle;\n",
       "    }\n",
       "\n",
       "    .dataframe tbody tr th {\n",
       "        vertical-align: top;\n",
       "    }\n",
       "\n",
       "    .dataframe thead th {\n",
       "        text-align: right;\n",
       "    }\n",
       "</style>\n",
       "<table border=\"1\" class=\"dataframe\">\n",
       "  <thead>\n",
       "    <tr style=\"text-align: right;\">\n",
       "      <th></th>\n",
       "      <th>X1</th>\n",
       "      <th>X2</th>\n",
       "      <th>X3</th>\n",
       "      <th>Y2</th>\n",
       "    </tr>\n",
       "  </thead>\n",
       "  <tbody>\n",
       "    <tr>\n",
       "      <th>0</th>\n",
       "      <td>50.0</td>\n",
       "      <td>6.0</td>\n",
       "      <td>30.0</td>\n",
       "      <td>4.86</td>\n",
       "    </tr>\n",
       "    <tr>\n",
       "      <th>1</th>\n",
       "      <td>50.0</td>\n",
       "      <td>6.0</td>\n",
       "      <td>45.0</td>\n",
       "      <td>4.97</td>\n",
       "    </tr>\n",
       "    <tr>\n",
       "      <th>2</th>\n",
       "      <td>50.0</td>\n",
       "      <td>6.0</td>\n",
       "      <td>60.0</td>\n",
       "      <td>5.79</td>\n",
       "    </tr>\n",
       "    <tr>\n",
       "      <th>3</th>\n",
       "      <td>50.0</td>\n",
       "      <td>6.0</td>\n",
       "      <td>75.0</td>\n",
       "      <td>6.28</td>\n",
       "    </tr>\n",
       "    <tr>\n",
       "      <th>4</th>\n",
       "      <td>50.0</td>\n",
       "      <td>8.0</td>\n",
       "      <td>30.0</td>\n",
       "      <td>5.06</td>\n",
       "    </tr>\n",
       "    <tr>\n",
       "      <th>5</th>\n",
       "      <td>50.0</td>\n",
       "      <td>8.0</td>\n",
       "      <td>45.0</td>\n",
       "      <td>5.20</td>\n",
       "    </tr>\n",
       "    <tr>\n",
       "      <th>6</th>\n",
       "      <td>50.0</td>\n",
       "      <td>8.0</td>\n",
       "      <td>60.0</td>\n",
       "      <td>5.91</td>\n",
       "    </tr>\n",
       "    <tr>\n",
       "      <th>7</th>\n",
       "      <td>50.0</td>\n",
       "      <td>8.0</td>\n",
       "      <td>75.0</td>\n",
       "      <td>8.65</td>\n",
       "    </tr>\n",
       "    <tr>\n",
       "      <th>8</th>\n",
       "      <td>50.0</td>\n",
       "      <td>10.0</td>\n",
       "      <td>30.0</td>\n",
       "      <td>5.78</td>\n",
       "    </tr>\n",
       "    <tr>\n",
       "      <th>9</th>\n",
       "      <td>50.0</td>\n",
       "      <td>10.0</td>\n",
       "      <td>45.0</td>\n",
       "      <td>5.90</td>\n",
       "    </tr>\n",
       "  </tbody>\n",
       "</table>\n",
       "</div>"
      ],
      "text/plain": [
       "     X1    X2    X3    Y2\n",
       "0  50.0   6.0  30.0  4.86\n",
       "1  50.0   6.0  45.0  4.97\n",
       "2  50.0   6.0  60.0  5.79\n",
       "3  50.0   6.0  75.0  6.28\n",
       "4  50.0   8.0  30.0  5.06\n",
       "5  50.0   8.0  45.0  5.20\n",
       "6  50.0   8.0  60.0  5.91\n",
       "7  50.0   8.0  75.0  8.65\n",
       "8  50.0  10.0  30.0  5.78\n",
       "9  50.0  10.0  45.0  5.90"
      ]
     },
     "execution_count": 7,
     "metadata": {},
     "output_type": "execute_result"
    }
   ],
   "source": [
    "df.head(10)"
   ]
  },
  {
   "cell_type": "markdown",
   "metadata": {},
   "source": [
    "#### Info about the dataset"
   ]
  },
  {
   "cell_type": "code",
   "execution_count": 8,
   "metadata": {},
   "outputs": [
    {
     "name": "stdout",
     "output_type": "stream",
     "text": [
      "<class 'pandas.core.frame.DataFrame'>\n",
      "RangeIndex: 71 entries, 0 to 70\n",
      "Data columns (total 4 columns):\n",
      " #   Column  Non-Null Count  Dtype  \n",
      "---  ------  --------------  -----  \n",
      " 0   X1      66 non-null     float64\n",
      " 1   X2      64 non-null     float64\n",
      " 2   X3      64 non-null     float64\n",
      " 3   Y2      64 non-null     float64\n",
      "dtypes: float64(4)\n",
      "memory usage: 2.3 KB\n"
     ]
    }
   ],
   "source": [
    "df.info()"
   ]
  },
  {
   "cell_type": "markdown",
   "metadata": {},
   "source": [
    "#### Describing the dataset"
   ]
  },
  {
   "cell_type": "code",
   "execution_count": 9,
   "metadata": {},
   "outputs": [
    {
     "data": {
      "text/html": [
       "<div>\n",
       "<style scoped>\n",
       "    .dataframe tbody tr th:only-of-type {\n",
       "        vertical-align: middle;\n",
       "    }\n",
       "\n",
       "    .dataframe tbody tr th {\n",
       "        vertical-align: top;\n",
       "    }\n",
       "\n",
       "    .dataframe thead th {\n",
       "        text-align: right;\n",
       "    }\n",
       "</style>\n",
       "<table border=\"1\" class=\"dataframe\">\n",
       "  <thead>\n",
       "    <tr style=\"text-align: right;\">\n",
       "      <th></th>\n",
       "      <th>X1</th>\n",
       "      <th>X2</th>\n",
       "      <th>X3</th>\n",
       "      <th>Y2</th>\n",
       "    </tr>\n",
       "  </thead>\n",
       "  <tbody>\n",
       "    <tr>\n",
       "      <th>count</th>\n",
       "      <td>66.000000</td>\n",
       "      <td>64.000000</td>\n",
       "      <td>64.000000</td>\n",
       "      <td>64.000000</td>\n",
       "    </tr>\n",
       "    <tr>\n",
       "      <th>mean</th>\n",
       "      <td>125.000000</td>\n",
       "      <td>9.000000</td>\n",
       "      <td>52.500000</td>\n",
       "      <td>7.531719</td>\n",
       "    </tr>\n",
       "    <tr>\n",
       "      <th>std</th>\n",
       "      <td>57.008771</td>\n",
       "      <td>2.253745</td>\n",
       "      <td>16.903085</td>\n",
       "      <td>1.299308</td>\n",
       "    </tr>\n",
       "    <tr>\n",
       "      <th>min</th>\n",
       "      <td>50.000000</td>\n",
       "      <td>6.000000</td>\n",
       "      <td>30.000000</td>\n",
       "      <td>4.860000</td>\n",
       "    </tr>\n",
       "    <tr>\n",
       "      <th>25%</th>\n",
       "      <td>62.500000</td>\n",
       "      <td>7.500000</td>\n",
       "      <td>41.250000</td>\n",
       "      <td>6.947500</td>\n",
       "    </tr>\n",
       "    <tr>\n",
       "      <th>50%</th>\n",
       "      <td>125.000000</td>\n",
       "      <td>9.000000</td>\n",
       "      <td>52.500000</td>\n",
       "      <td>7.210000</td>\n",
       "    </tr>\n",
       "    <tr>\n",
       "      <th>75%</th>\n",
       "      <td>187.500000</td>\n",
       "      <td>10.500000</td>\n",
       "      <td>63.750000</td>\n",
       "      <td>8.702500</td>\n",
       "    </tr>\n",
       "    <tr>\n",
       "      <th>max</th>\n",
       "      <td>200.000000</td>\n",
       "      <td>12.000000</td>\n",
       "      <td>75.000000</td>\n",
       "      <td>10.130000</td>\n",
       "    </tr>\n",
       "  </tbody>\n",
       "</table>\n",
       "</div>"
      ],
      "text/plain": [
       "               X1         X2         X3         Y2\n",
       "count   66.000000  64.000000  64.000000  64.000000\n",
       "mean   125.000000   9.000000  52.500000   7.531719\n",
       "std     57.008771   2.253745  16.903085   1.299308\n",
       "min     50.000000   6.000000  30.000000   4.860000\n",
       "25%     62.500000   7.500000  41.250000   6.947500\n",
       "50%    125.000000   9.000000  52.500000   7.210000\n",
       "75%    187.500000  10.500000  63.750000   8.702500\n",
       "max    200.000000  12.000000  75.000000  10.130000"
      ]
     },
     "execution_count": 9,
     "metadata": {},
     "output_type": "execute_result"
    }
   ],
   "source": [
    "df.describe()"
   ]
  },
  {
   "cell_type": "markdown",
   "metadata": {},
   "source": [
    "### As we can observe the dataset is random and we need to scale it , we can use the method of Min Max Scalar for this process\n"
   ]
  },
  {
   "cell_type": "markdown",
   "metadata": {},
   "source": [
    "#### Importing and using the Min Max Scalar"
   ]
  },
  {
   "cell_type": "code",
   "execution_count": 10,
   "metadata": {},
   "outputs": [],
   "source": [
    "from sklearn.preprocessing import MinMaxScaler\n",
    "scalar = MinMaxScaler()"
   ]
  },
  {
   "cell_type": "code",
   "execution_count": 11,
   "metadata": {},
   "outputs": [],
   "source": [
    "df_scaled1 = scalar.fit_transform(df)"
   ]
  },
  {
   "cell_type": "markdown",
   "metadata": {},
   "source": [
    "#### Viewing the data after the Min Max Scalar where the minimum value of input is marked as zero and the max input value is marked as 1 and each input is given a decimal accordingly"
   ]
  },
  {
   "cell_type": "code",
   "execution_count": 12,
   "metadata": {},
   "outputs": [
    {
     "data": {
      "text/plain": [
       "array([[0.        , 0.        , 0.        , 0.        ],\n",
       "       [0.        , 0.        , 0.33333333, 0.02087287],\n",
       "       [0.        , 0.        , 0.66666667, 0.17647059],\n",
       "       [0.        , 0.        , 1.        , 0.26944972],\n",
       "       [0.        , 0.33333333, 0.        , 0.03795066],\n",
       "       [0.        , 0.33333333, 0.33333333, 0.06451613],\n",
       "       [0.        , 0.33333333, 0.66666667, 0.19924099],\n",
       "       [0.        , 0.33333333, 1.        , 0.71916509],\n",
       "       [0.        , 0.66666667, 0.        , 0.17457306],\n",
       "       [0.        , 0.66666667, 0.33333333, 0.19734345],\n",
       "       [0.        , 0.66666667, 0.66666667, 0.33206831],\n",
       "       [0.        , 0.66666667, 1.        , 0.76470588],\n",
       "       [0.        , 1.        , 0.        , 0.32827324],\n",
       "       [0.        , 1.        , 0.33333333, 0.41555977],\n",
       "       [0.        , 1.        , 0.66666667, 0.54079696],\n",
       "       [0.        , 1.        , 1.        , 0.80455408],\n",
       "       [0.33333333, 0.        , 0.        , 0.39658444],\n",
       "       [0.33333333, 0.        , 0.33333333, 0.39848197],\n",
       "       [0.33333333, 0.        , 0.66666667, 0.42314991],\n",
       "       [0.33333333, 0.        , 1.        , 0.81593928],\n",
       "       [0.33333333, 0.33333333, 0.        , 0.39468691],\n",
       "       [0.33333333, 0.33333333, 0.33333333, 0.39848197],\n",
       "       [0.33333333, 0.33333333, 0.66666667, 0.4516129 ],\n",
       "       [0.33333333, 0.33333333, 1.        , 0.82922201],\n",
       "       [0.33333333, 0.66666667, 0.        , 0.39848197],\n",
       "       [0.33333333, 0.66666667, 0.33333333, 0.40986717],\n",
       "       [0.33333333, 0.66666667, 0.66666667, 0.4800759 ],\n",
       "       [0.33333333, 0.66666667, 1.        , 0.85958254],\n",
       "       [0.33333333, 1.        , 0.        , 0.53889943],\n",
       "       [0.33333333, 1.        , 0.33333333, 0.61669829],\n",
       "       [0.33333333, 1.        , 0.66666667, 0.70208729],\n",
       "       [0.33333333, 1.        , 1.        , 0.91271347],\n",
       "       [0.66666667, 0.        , 0.        , 0.41935484],\n",
       "       [0.66666667, 0.        , 0.33333333, 0.42125237],\n",
       "       [0.66666667, 0.        , 0.66666667, 0.37191651],\n",
       "       [0.66666667, 0.        , 1.        , 0.83491461],\n",
       "       [0.66666667, 0.33333333, 0.        , 0.23908918],\n",
       "       [0.66666667, 0.33333333, 0.33333333, 0.4288425 ],\n",
       "       [0.66666667, 0.33333333, 0.66666667, 0.4345351 ],\n",
       "       [0.66666667, 0.33333333, 1.        , 0.82542694],\n",
       "       [0.66666667, 0.66666667, 0.        , 0.40417457],\n",
       "       [0.66666667, 0.66666667, 0.33333333, 0.44212524],\n",
       "       [0.66666667, 0.66666667, 0.66666667, 0.4686907 ],\n",
       "       [0.66666667, 0.66666667, 1.        , 0.86907021],\n",
       "       [0.66666667, 1.        , 0.        , 0.5711575 ],\n",
       "       [0.66666667, 1.        , 0.33333333, 0.55028463],\n",
       "       [0.66666667, 1.        , 0.66666667, 0.71157495],\n",
       "       [0.66666667, 1.        , 1.        , 0.9316888 ],\n",
       "       [1.        , 0.        , 0.        , 0.40417457],\n",
       "       [1.        , 0.        , 0.33333333, 0.40037951],\n",
       "       [1.        , 0.        , 0.66666667, 0.37381404],\n",
       "       [1.        , 0.        , 1.        , 0.81214421],\n",
       "       [1.        , 0.33333333, 0.        , 0.26565465],\n",
       "       [1.        , 0.33333333, 0.33333333, 0.44971537],\n",
       "       [1.        , 0.33333333, 0.66666667, 0.46679317],\n",
       "       [1.        , 0.33333333, 1.        , 0.84629981],\n",
       "       [1.        , 0.66666667, 0.        , 0.40037951],\n",
       "       [1.        , 0.66666667, 0.33333333, 0.44971537],\n",
       "       [1.        , 0.66666667, 0.66666667, 0.5483871 ],\n",
       "       [1.        , 0.66666667, 1.        , 0.88614801],\n",
       "       [1.        , 1.        , 0.        , 0.61100569],\n",
       "       [1.        , 1.        , 0.33333333, 0.77609108],\n",
       "       [1.        , 1.        , 0.66666667, 0.75901328],\n",
       "       [1.        , 1.        , 1.        , 1.        ],\n",
       "       [       nan,        nan,        nan,        nan],\n",
       "       [       nan,        nan,        nan,        nan],\n",
       "       [       nan,        nan,        nan,        nan],\n",
       "       [       nan,        nan,        nan,        nan],\n",
       "       [       nan,        nan,        nan,        nan],\n",
       "       [1.        ,        nan,        nan,        nan],\n",
       "       [0.        ,        nan,        nan,        nan]])"
      ]
     },
     "execution_count": 12,
     "metadata": {},
     "output_type": "execute_result"
    }
   ],
   "source": [
    "df_scaled1"
   ]
  },
  {
   "cell_type": "markdown",
   "metadata": {},
   "source": [
    "#### Now we can see that this is a numpy array and we need to convert it into a pandas dataframe"
   ]
  },
  {
   "cell_type": "code",
   "execution_count": 13,
   "metadata": {},
   "outputs": [],
   "source": [
    "df_scaled_final = pd.DataFrame(df_scaled1, columns = ['X1','X2','X3','Y2'])"
   ]
  },
  {
   "cell_type": "code",
   "execution_count": 14,
   "metadata": {},
   "outputs": [
    {
     "data": {
      "text/html": [
       "<div>\n",
       "<style scoped>\n",
       "    .dataframe tbody tr th:only-of-type {\n",
       "        vertical-align: middle;\n",
       "    }\n",
       "\n",
       "    .dataframe tbody tr th {\n",
       "        vertical-align: top;\n",
       "    }\n",
       "\n",
       "    .dataframe thead th {\n",
       "        text-align: right;\n",
       "    }\n",
       "</style>\n",
       "<table border=\"1\" class=\"dataframe\">\n",
       "  <thead>\n",
       "    <tr style=\"text-align: right;\">\n",
       "      <th></th>\n",
       "      <th>X1</th>\n",
       "      <th>X2</th>\n",
       "      <th>X3</th>\n",
       "      <th>Y2</th>\n",
       "    </tr>\n",
       "  </thead>\n",
       "  <tbody>\n",
       "    <tr>\n",
       "      <th>0</th>\n",
       "      <td>0.0</td>\n",
       "      <td>0.000000</td>\n",
       "      <td>0.000000</td>\n",
       "      <td>0.000000</td>\n",
       "    </tr>\n",
       "    <tr>\n",
       "      <th>1</th>\n",
       "      <td>0.0</td>\n",
       "      <td>0.000000</td>\n",
       "      <td>0.333333</td>\n",
       "      <td>0.020873</td>\n",
       "    </tr>\n",
       "    <tr>\n",
       "      <th>2</th>\n",
       "      <td>0.0</td>\n",
       "      <td>0.000000</td>\n",
       "      <td>0.666667</td>\n",
       "      <td>0.176471</td>\n",
       "    </tr>\n",
       "    <tr>\n",
       "      <th>3</th>\n",
       "      <td>0.0</td>\n",
       "      <td>0.000000</td>\n",
       "      <td>1.000000</td>\n",
       "      <td>0.269450</td>\n",
       "    </tr>\n",
       "    <tr>\n",
       "      <th>4</th>\n",
       "      <td>0.0</td>\n",
       "      <td>0.333333</td>\n",
       "      <td>0.000000</td>\n",
       "      <td>0.037951</td>\n",
       "    </tr>\n",
       "    <tr>\n",
       "      <th>5</th>\n",
       "      <td>0.0</td>\n",
       "      <td>0.333333</td>\n",
       "      <td>0.333333</td>\n",
       "      <td>0.064516</td>\n",
       "    </tr>\n",
       "    <tr>\n",
       "      <th>6</th>\n",
       "      <td>0.0</td>\n",
       "      <td>0.333333</td>\n",
       "      <td>0.666667</td>\n",
       "      <td>0.199241</td>\n",
       "    </tr>\n",
       "    <tr>\n",
       "      <th>7</th>\n",
       "      <td>0.0</td>\n",
       "      <td>0.333333</td>\n",
       "      <td>1.000000</td>\n",
       "      <td>0.719165</td>\n",
       "    </tr>\n",
       "    <tr>\n",
       "      <th>8</th>\n",
       "      <td>0.0</td>\n",
       "      <td>0.666667</td>\n",
       "      <td>0.000000</td>\n",
       "      <td>0.174573</td>\n",
       "    </tr>\n",
       "    <tr>\n",
       "      <th>9</th>\n",
       "      <td>0.0</td>\n",
       "      <td>0.666667</td>\n",
       "      <td>0.333333</td>\n",
       "      <td>0.197343</td>\n",
       "    </tr>\n",
       "  </tbody>\n",
       "</table>\n",
       "</div>"
      ],
      "text/plain": [
       "    X1        X2        X3        Y2\n",
       "0  0.0  0.000000  0.000000  0.000000\n",
       "1  0.0  0.000000  0.333333  0.020873\n",
       "2  0.0  0.000000  0.666667  0.176471\n",
       "3  0.0  0.000000  1.000000  0.269450\n",
       "4  0.0  0.333333  0.000000  0.037951\n",
       "5  0.0  0.333333  0.333333  0.064516\n",
       "6  0.0  0.333333  0.666667  0.199241\n",
       "7  0.0  0.333333  1.000000  0.719165\n",
       "8  0.0  0.666667  0.000000  0.174573\n",
       "9  0.0  0.666667  0.333333  0.197343"
      ]
     },
     "execution_count": 14,
     "metadata": {},
     "output_type": "execute_result"
    }
   ],
   "source": [
    "df_scaled_final.head(10)"
   ]
  },
  {
   "cell_type": "markdown",
   "metadata": {},
   "source": [
    "#### Min Max Scalar normalised the data and we can now check for the null rows"
   ]
  },
  {
   "cell_type": "code",
   "execution_count": 15,
   "metadata": {},
   "outputs": [
    {
     "data": {
      "text/plain": [
       "Index(['X1', 'X2', 'X3', 'Y2'], dtype='object')"
      ]
     },
     "execution_count": 15,
     "metadata": {},
     "output_type": "execute_result"
    }
   ],
   "source": [
    "df_scaled_final.columns"
   ]
  },
  {
   "cell_type": "code",
   "execution_count": 16,
   "metadata": {},
   "outputs": [
    {
     "data": {
      "text/plain": [
       "X1    5\n",
       "X2    7\n",
       "X3    7\n",
       "Y2    7\n",
       "dtype: int64"
      ]
     },
     "execution_count": 16,
     "metadata": {},
     "output_type": "execute_result"
    }
   ],
   "source": [
    "df_scaled_final.isnull().sum()"
   ]
  },
  {
   "cell_type": "markdown",
   "metadata": {},
   "source": [
    "#### There are null rows so we drop them"
   ]
  },
  {
   "cell_type": "code",
   "execution_count": 17,
   "metadata": {},
   "outputs": [
    {
     "data": {
      "text/html": [
       "<div>\n",
       "<style scoped>\n",
       "    .dataframe tbody tr th:only-of-type {\n",
       "        vertical-align: middle;\n",
       "    }\n",
       "\n",
       "    .dataframe tbody tr th {\n",
       "        vertical-align: top;\n",
       "    }\n",
       "\n",
       "    .dataframe thead th {\n",
       "        text-align: right;\n",
       "    }\n",
       "</style>\n",
       "<table border=\"1\" class=\"dataframe\">\n",
       "  <thead>\n",
       "    <tr style=\"text-align: right;\">\n",
       "      <th></th>\n",
       "      <th>X1</th>\n",
       "      <th>X2</th>\n",
       "      <th>X3</th>\n",
       "      <th>Y2</th>\n",
       "    </tr>\n",
       "  </thead>\n",
       "  <tbody>\n",
       "    <tr>\n",
       "      <th>0</th>\n",
       "      <td>0.0</td>\n",
       "      <td>0.000000</td>\n",
       "      <td>0.000000</td>\n",
       "      <td>0.000000</td>\n",
       "    </tr>\n",
       "    <tr>\n",
       "      <th>1</th>\n",
       "      <td>0.0</td>\n",
       "      <td>0.000000</td>\n",
       "      <td>0.333333</td>\n",
       "      <td>0.020873</td>\n",
       "    </tr>\n",
       "    <tr>\n",
       "      <th>2</th>\n",
       "      <td>0.0</td>\n",
       "      <td>0.000000</td>\n",
       "      <td>0.666667</td>\n",
       "      <td>0.176471</td>\n",
       "    </tr>\n",
       "    <tr>\n",
       "      <th>3</th>\n",
       "      <td>0.0</td>\n",
       "      <td>0.000000</td>\n",
       "      <td>1.000000</td>\n",
       "      <td>0.269450</td>\n",
       "    </tr>\n",
       "    <tr>\n",
       "      <th>4</th>\n",
       "      <td>0.0</td>\n",
       "      <td>0.333333</td>\n",
       "      <td>0.000000</td>\n",
       "      <td>0.037951</td>\n",
       "    </tr>\n",
       "    <tr>\n",
       "      <th>...</th>\n",
       "      <td>...</td>\n",
       "      <td>...</td>\n",
       "      <td>...</td>\n",
       "      <td>...</td>\n",
       "    </tr>\n",
       "    <tr>\n",
       "      <th>59</th>\n",
       "      <td>1.0</td>\n",
       "      <td>0.666667</td>\n",
       "      <td>1.000000</td>\n",
       "      <td>0.886148</td>\n",
       "    </tr>\n",
       "    <tr>\n",
       "      <th>60</th>\n",
       "      <td>1.0</td>\n",
       "      <td>1.000000</td>\n",
       "      <td>0.000000</td>\n",
       "      <td>0.611006</td>\n",
       "    </tr>\n",
       "    <tr>\n",
       "      <th>61</th>\n",
       "      <td>1.0</td>\n",
       "      <td>1.000000</td>\n",
       "      <td>0.333333</td>\n",
       "      <td>0.776091</td>\n",
       "    </tr>\n",
       "    <tr>\n",
       "      <th>62</th>\n",
       "      <td>1.0</td>\n",
       "      <td>1.000000</td>\n",
       "      <td>0.666667</td>\n",
       "      <td>0.759013</td>\n",
       "    </tr>\n",
       "    <tr>\n",
       "      <th>63</th>\n",
       "      <td>1.0</td>\n",
       "      <td>1.000000</td>\n",
       "      <td>1.000000</td>\n",
       "      <td>1.000000</td>\n",
       "    </tr>\n",
       "  </tbody>\n",
       "</table>\n",
       "<p>64 rows × 4 columns</p>\n",
       "</div>"
      ],
      "text/plain": [
       "     X1        X2        X3        Y2\n",
       "0   0.0  0.000000  0.000000  0.000000\n",
       "1   0.0  0.000000  0.333333  0.020873\n",
       "2   0.0  0.000000  0.666667  0.176471\n",
       "3   0.0  0.000000  1.000000  0.269450\n",
       "4   0.0  0.333333  0.000000  0.037951\n",
       "..  ...       ...       ...       ...\n",
       "59  1.0  0.666667  1.000000  0.886148\n",
       "60  1.0  1.000000  0.000000  0.611006\n",
       "61  1.0  1.000000  0.333333  0.776091\n",
       "62  1.0  1.000000  0.666667  0.759013\n",
       "63  1.0  1.000000  1.000000  1.000000\n",
       "\n",
       "[64 rows x 4 columns]"
      ]
     },
     "execution_count": 17,
     "metadata": {},
     "output_type": "execute_result"
    }
   ],
   "source": [
    "df_scaled_final = df_scaled_final.dropna()\n",
    "df_scaled_final"
   ]
  },
  {
   "cell_type": "code",
   "execution_count": 18,
   "metadata": {},
   "outputs": [
    {
     "data": {
      "text/plain": [
       "X1    0\n",
       "X2    0\n",
       "X3    0\n",
       "Y2    0\n",
       "dtype: int64"
      ]
     },
     "execution_count": 18,
     "metadata": {},
     "output_type": "execute_result"
    }
   ],
   "source": [
    "df_scaled_final.isnull().sum()"
   ]
  },
  {
   "cell_type": "code",
   "execution_count": 19,
   "metadata": {},
   "outputs": [
    {
     "data": {
      "text/plain": [
       "Index(['X1', 'X2', 'X3', 'Y2'], dtype='object')"
      ]
     },
     "execution_count": 19,
     "metadata": {},
     "output_type": "execute_result"
    }
   ],
   "source": [
    "df_scaled_final.columns"
   ]
  },
  {
   "cell_type": "markdown",
   "metadata": {},
   "source": [
    "### Correlation values "
   ]
  },
  {
   "cell_type": "code",
   "execution_count": 20,
   "metadata": {},
   "outputs": [
    {
     "data": {
      "text/plain": [
       "X1    0.374505\n",
       "X2    0.392176\n",
       "X3    0.662444\n",
       "Y2    1.000000\n",
       "Name: Y2, dtype: float64"
      ]
     },
     "execution_count": 20,
     "metadata": {},
     "output_type": "execute_result"
    }
   ],
   "source": [
    "correlation = df_scaled_final.corr()\n",
    "correlation['Y2']"
   ]
  },
  {
   "cell_type": "markdown",
   "metadata": {},
   "source": [
    "#### The target var for the question is Y2 so we find the correlation between the Y2 and the other variables\n",
    "#### In the aboue result there is positive correlation and it's significant , the positive correlation means that means the values of the input variable and the output variable change in the same directions.\n",
    "#### Therefore we have significant correlations so we don't drop any columns , all columns are important."
   ]
  },
  {
   "cell_type": "markdown",
   "metadata": {},
   "source": [
    "#### Correlation between explanatory variables"
   ]
  },
  {
   "cell_type": "code",
   "execution_count": 21,
   "metadata": {},
   "outputs": [
    {
     "data": {
      "text/html": [
       "<div>\n",
       "<style scoped>\n",
       "    .dataframe tbody tr th:only-of-type {\n",
       "        vertical-align: middle;\n",
       "    }\n",
       "\n",
       "    .dataframe tbody tr th {\n",
       "        vertical-align: top;\n",
       "    }\n",
       "\n",
       "    .dataframe thead th {\n",
       "        text-align: right;\n",
       "    }\n",
       "</style>\n",
       "<table border=\"1\" class=\"dataframe\">\n",
       "  <thead>\n",
       "    <tr style=\"text-align: right;\">\n",
       "      <th></th>\n",
       "      <th>X1</th>\n",
       "      <th>X2</th>\n",
       "      <th>X3</th>\n",
       "    </tr>\n",
       "  </thead>\n",
       "  <tbody>\n",
       "    <tr>\n",
       "      <th>X1</th>\n",
       "      <td>1.000000e+00</td>\n",
       "      <td>1.811051e-16</td>\n",
       "      <td>7.494005e-17</td>\n",
       "    </tr>\n",
       "    <tr>\n",
       "      <th>X2</th>\n",
       "      <td>1.811051e-16</td>\n",
       "      <td>1.000000e+00</td>\n",
       "      <td>6.245005e-18</td>\n",
       "    </tr>\n",
       "    <tr>\n",
       "      <th>X3</th>\n",
       "      <td>7.494005e-17</td>\n",
       "      <td>6.245005e-18</td>\n",
       "      <td>1.000000e+00</td>\n",
       "    </tr>\n",
       "    <tr>\n",
       "      <th>Y2</th>\n",
       "      <td>3.745051e-01</td>\n",
       "      <td>3.921761e-01</td>\n",
       "      <td>6.624442e-01</td>\n",
       "    </tr>\n",
       "  </tbody>\n",
       "</table>\n",
       "</div>"
      ],
      "text/plain": [
       "              X1            X2            X3\n",
       "X1  1.000000e+00  1.811051e-16  7.494005e-17\n",
       "X2  1.811051e-16  1.000000e+00  6.245005e-18\n",
       "X3  7.494005e-17  6.245005e-18  1.000000e+00\n",
       "Y2  3.745051e-01  3.921761e-01  6.624442e-01"
      ]
     },
     "execution_count": 21,
     "metadata": {},
     "output_type": "execute_result"
    }
   ],
   "source": [
    "correlation = df_scaled_final.corr()\n",
    "correlation[['X1','X2','X3']]"
   ]
  },
  {
   "cell_type": "markdown",
   "metadata": {},
   "source": [
    "### Correlation Plots"
   ]
  },
  {
   "cell_type": "code",
   "execution_count": 22,
   "metadata": {},
   "outputs": [
    {
     "data": {
      "text/plain": [
       "<AxesSubplot:>"
      ]
     },
     "execution_count": 22,
     "metadata": {},
     "output_type": "execute_result"
    },
    {
     "data": {
      "image/png": "[encoded data removed]",
      "text/plain": [
       "<Figure size 720x720 with 2 Axes>"
      ]
     },
     "metadata": {
      "needs_background": "light"
     },
     "output_type": "display_data"
    }
   ],
   "source": [
    "corr = df_scaled_final.corr().round(2)\n",
    "f, ax = plt.subplots(figsize=(10, 10))\n",
    "sns.heatmap(corr, vmin=-1, vmax=1, center=0,square=True, linewidths=1, cbar_kws={\"shrink\": 1}, annot=True)"
   ]
  },
  {
   "cell_type": "markdown",
   "metadata": {},
   "source": [
    "#### Pairplot\n",
    "#### Pairplot is usually a grid of plots for each variable in your dataset. Hence you can quickly see how all the variables are related. This can help to infer which variables are useful, which have skewed distribution etc."
   ]
  },
  {
   "cell_type": "code",
   "execution_count": 23,
   "metadata": {},
   "outputs": [
    {
     "data": {
      "text/plain": [
       "<seaborn.axisgrid.PairGrid at 0x217ef926dc0>"
      ]
     },
     "execution_count": 23,
     "metadata": {},
     "output_type": "execute_result"
    },
    {
     "data": {
      "image/png": "[encoded data removed]",
      "text/plain": [
       "<Figure size 720x720 with 20 Axes>"
      ]
     },
     "metadata": {
      "needs_background": "light"
     },
     "output_type": "display_data"
    }
   ],
   "source": [
    "sns.pairplot(df_scaled_final)"
   ]
  },
  {
   "cell_type": "code",
   "execution_count": 24,
   "metadata": {},
   "outputs": [],
   "source": [
    "X = df_scaled_final.drop(['Y2'],axis=1)\n",
    "Y = df_scaled_final['Y2']\n",
    "\n",
    "x_train , x_test, y_train , y_test = tsplit(X,Y,train_size=0.80,random_state = 101)"
   ]
  },
  {
   "cell_type": "code",
   "execution_count": 25,
   "metadata": {},
   "outputs": [
    {
     "name": "stdout",
     "output_type": "stream",
     "text": [
      "<bound method NDFrame.head of      X1        X2        X3\n",
      "0   0.0  0.000000  0.000000\n",
      "1   0.0  0.000000  0.333333\n",
      "2   0.0  0.000000  0.666667\n",
      "3   0.0  0.000000  1.000000\n",
      "4   0.0  0.333333  0.000000\n",
      "..  ...       ...       ...\n",
      "59  1.0  0.666667  1.000000\n",
      "60  1.0  1.000000  0.000000\n",
      "61  1.0  1.000000  0.333333\n",
      "62  1.0  1.000000  0.666667\n",
      "63  1.0  1.000000  1.000000\n",
      "\n",
      "[64 rows x 3 columns]> <bound method NDFrame.head of 0     0.000000\n",
      "1     0.020873\n",
      "2     0.176471\n",
      "3     0.269450\n",
      "4     0.037951\n",
      "        ...   \n",
      "59    0.886148\n",
      "60    0.611006\n",
      "61    0.776091\n",
      "62    0.759013\n",
      "63    1.000000\n",
      "Name: Y2, Length: 64, dtype: float64>\n"
     ]
    }
   ],
   "source": [
    "print (X.head , Y.head)"
   ]
  },
  {
   "cell_type": "markdown",
   "metadata": {},
   "source": [
    "### Linear Regression Model"
   ]
  },
  {
   "cell_type": "markdown",
   "metadata": {},
   "source": [
    "#### Importing the regression model"
   ]
  },
  {
   "cell_type": "code",
   "execution_count": 26,
   "metadata": {},
   "outputs": [],
   "source": [
    "model1 = linearreg()"
   ]
  },
  {
   "cell_type": "code",
   "execution_count": 27,
   "metadata": {},
   "outputs": [
    {
     "data": {
      "text/plain": [
       "LinearRegression()"
      ]
     },
     "execution_count": 27,
     "metadata": {},
     "output_type": "execute_result"
    }
   ],
   "source": [
    "model1.fit(x_train,y_train)"
   ]
  },
  {
   "cell_type": "code",
   "execution_count": 28,
   "metadata": {},
   "outputs": [
    {
     "data": {
      "text/plain": [
       "0.00892281401911954"
      ]
     },
     "execution_count": 28,
     "metadata": {},
     "output_type": "execute_result"
    }
   ],
   "source": [
    "intercept = model1.intercept_\n",
    "intercept"
   ]
  },
  {
   "cell_type": "markdown",
   "metadata": {},
   "source": [
    "#### Coefficients of the linear regression model"
   ]
  },
  {
   "cell_type": "code",
   "execution_count": 29,
   "metadata": {},
   "outputs": [
    {
     "data": {
      "text/html": [
       "<div>\n",
       "<style scoped>\n",
       "    .dataframe tbody tr th:only-of-type {\n",
       "        vertical-align: middle;\n",
       "    }\n",
       "\n",
       "    .dataframe tbody tr th {\n",
       "        vertical-align: top;\n",
       "    }\n",
       "\n",
       "    .dataframe thead th {\n",
       "        text-align: right;\n",
       "    }\n",
       "</style>\n",
       "<table border=\"1\" class=\"dataframe\">\n",
       "  <thead>\n",
       "    <tr style=\"text-align: right;\">\n",
       "      <th></th>\n",
       "      <th>coef</th>\n",
       "    </tr>\n",
       "  </thead>\n",
       "  <tbody>\n",
       "    <tr>\n",
       "      <th>X3</th>\n",
       "      <td>0.478069</td>\n",
       "    </tr>\n",
       "    <tr>\n",
       "      <th>X2</th>\n",
       "      <td>0.291592</td>\n",
       "    </tr>\n",
       "    <tr>\n",
       "      <th>X1</th>\n",
       "      <td>0.213084</td>\n",
       "    </tr>\n",
       "  </tbody>\n",
       "</table>\n",
       "</div>"
      ],
      "text/plain": [
       "        coef\n",
       "X3  0.478069\n",
       "X2  0.291592\n",
       "X1  0.213084"
      ]
     },
     "execution_count": 29,
     "metadata": {},
     "output_type": "execute_result"
    }
   ],
   "source": [
    "coefficients = pd.DataFrame(model1.coef_, x_train.columns, columns = ['coef']).sort_values(by = 'coef', ascending = False)\n",
    "coefficients"
   ]
  },
  {
   "cell_type": "code",
   "execution_count": 30,
   "metadata": {},
   "outputs": [
    {
     "name": "stdout",
     "output_type": "stream",
     "text": [
      "Y = 0.00892 + (0.21308)X1 + (0.29159)X2 + (0.47807)X3\n"
     ]
    }
   ],
   "source": [
    "reg_equation = \"Y = \" + str(intercept.round(5)) + \" + \"\n",
    "reg_equation += \"(\" + str(coefficients.coef['X1'].round(5)) + \")\" + X.columns[0]\n",
    "for i in range(1, len(X.columns)):\n",
    "    col = X.columns[i]\n",
    "    reg_equation += \" + (\" + str(coefficients.coef[col].round(5)) + \")\" + col\n",
    "print(reg_equation)"
   ]
  },
  {
   "cell_type": "markdown",
   "metadata": {},
   "source": [
    "#### From the regression equation, it is evident that the variables move in same direction as compared to Y since they have the positive correlation coefficient."
   ]
  },
  {
   "cell_type": "markdown",
   "metadata": {},
   "source": [
    "#### Summary of result using the statsmodels api"
   ]
  },
  {
   "cell_type": "code",
   "execution_count": 31,
   "metadata": {},
   "outputs": [
    {
     "name": "stdout",
     "output_type": "stream",
     "text": [
      "                                 OLS Regression Results                                \n",
      "=======================================================================================\n",
      "Dep. Variable:                     Y2   R-squared (uncentered):                   0.956\n",
      "Model:                            OLS   Adj. R-squared (uncentered):              0.953\n",
      "Method:                 Least Squares   F-statistic:                              348.7\n",
      "Date:                Sun, 20 Mar 2022   Prob (F-statistic):                    1.42e-32\n",
      "Time:                        11:08:41   Log-Likelihood:                          35.809\n",
      "No. Observations:                  51   AIC:                                     -65.62\n",
      "Df Residuals:                      48   BIC:                                     -59.82\n",
      "Df Model:                           3                                                  \n",
      "Covariance Type:            nonrobust                                                  \n",
      "==============================================================================\n",
      "                 coef    std err          t      P>|t|      [0.025      0.975]\n",
      "------------------------------------------------------------------------------\n",
      "X1             0.2178      0.040      5.447      0.000       0.137       0.298\n",
      "X2             0.2970      0.038      7.855      0.000       0.221       0.373\n",
      "X3             0.4828      0.038     12.669      0.000       0.406       0.559\n",
      "==============================================================================\n",
      "Omnibus:                        1.089   Durbin-Watson:                   2.555\n",
      "Prob(Omnibus):                  0.580   Jarque-Bera (JB):                0.919\n",
      "Skew:                          -0.005   Prob(JB):                        0.631\n",
      "Kurtosis:                       2.342   Cond. No.                         2.57\n",
      "==============================================================================\n",
      "\n",
      "Notes:\n",
      "[1] R² is computed without centering (uncentered) since the model does not contain a constant.\n",
      "[2] Standard Errors assume that the covariance matrix of the errors is correctly specified.\n"
     ]
    }
   ],
   "source": [
    "result1 = sm.OLS(y_train, x_train).fit()\n",
    "print(result1.summary())"
   ]
  },
  {
   "cell_type": "markdown",
   "metadata": {},
   "source": [
    "#### The p statistic values of columns are 0 so we move on to check the Variance Inflation Factor or VIF valueBased off of the VIF Values, we drop the ones with the highest VIF values. Drop unnecessary input variables"
   ]
  },
  {
   "cell_type": "code",
   "execution_count": 32,
   "metadata": {},
   "outputs": [
    {
     "data": {
      "text/html": [
       "<div>\n",
       "<style scoped>\n",
       "    .dataframe tbody tr th:only-of-type {\n",
       "        vertical-align: middle;\n",
       "    }\n",
       "\n",
       "    .dataframe tbody tr th {\n",
       "        vertical-align: top;\n",
       "    }\n",
       "\n",
       "    .dataframe thead th {\n",
       "        text-align: right;\n",
       "    }\n",
       "</style>\n",
       "<table border=\"1\" class=\"dataframe\">\n",
       "  <thead>\n",
       "    <tr style=\"text-align: right;\">\n",
       "      <th></th>\n",
       "      <th>variables</th>\n",
       "      <th>VIF</th>\n",
       "    </tr>\n",
       "  </thead>\n",
       "  <tbody>\n",
       "    <tr>\n",
       "      <th>0</th>\n",
       "      <td>X1</td>\n",
       "      <td>2.0125</td>\n",
       "    </tr>\n",
       "    <tr>\n",
       "      <th>1</th>\n",
       "      <td>X2</td>\n",
       "      <td>2.0125</td>\n",
       "    </tr>\n",
       "    <tr>\n",
       "      <th>2</th>\n",
       "      <td>X3</td>\n",
       "      <td>2.0125</td>\n",
       "    </tr>\n",
       "  </tbody>\n",
       "</table>\n",
       "</div>"
      ],
      "text/plain": [
       "  variables     VIF\n",
       "0        X1  2.0125\n",
       "1        X2  2.0125\n",
       "2        X3  2.0125"
      ]
     },
     "execution_count": 32,
     "metadata": {},
     "output_type": "execute_result"
    }
   ],
   "source": [
    "vif  = pd.DataFrame()\n",
    "vif['variables'] = X.columns\n",
    "vif['VIF'] = [variance_inflation_factor(X.values, i) for i in range(X.shape[1])]\n",
    "vif"
   ]
  },
  {
   "cell_type": "markdown",
   "metadata": {},
   "source": [
    "#### VIF values are low and we can say the final regression equation is the one we got above because we aren't dropping any columns"
   ]
  },
  {
   "cell_type": "markdown",
   "metadata": {},
   "source": [
    "#### Scatter Plot for explanatory variables"
   ]
  },
  {
   "cell_type": "code",
   "execution_count": 33,
   "metadata": {},
   "outputs": [
    {
     "data": {
      "text/plain": [
       "[<matplotlib.lines.Line2D at 0x217f57e7a00>]"
      ]
     },
     "execution_count": 33,
     "metadata": {},
     "output_type": "execute_result"
    },
    {
     "data": {
      "image/png": "[encoded data removed]",
      "text/plain": [
       "<Figure size 432x288 with 1 Axes>"
      ]
     },
     "metadata": {
      "needs_background": "light"
     },
     "output_type": "display_data"
    }
   ],
   "source": [
    "plt.scatter(X['X1'],Y)\n",
    "eq = X*model1.coef_\n",
    "eq = eq.sum(axis=1)+model1.intercept_\n",
    "plt.plot(X['X1'], eq)"
   ]
  },
  {
   "cell_type": "code",
   "execution_count": 34,
   "metadata": {},
   "outputs": [
    {
     "data": {
      "text/plain": [
       "[<matplotlib.lines.Line2D at 0x217f584b9d0>]"
      ]
     },
     "execution_count": 34,
     "metadata": {},
     "output_type": "execute_result"
    },
    {
     "data": {
      "image/png": "[encoded data removed]",
      "text/plain": [
       "<Figure size 432x288 with 1 Axes>"
      ]
     },
     "metadata": {
      "needs_background": "light"
     },
     "output_type": "display_data"
    }
   ],
   "source": [
    "plt.scatter(X['X2'],Y)\n",
    "eq = X*model1.coef_\n",
    "eq = eq.sum(axis=1)+model1.intercept_\n",
    "plt.plot(X['X2'], eq)"
   ]
  },
  {
   "cell_type": "code",
   "execution_count": 35,
   "metadata": {},
   "outputs": [
    {
     "data": {
      "text/plain": [
       "[<matplotlib.lines.Line2D at 0x217f584bd00>]"
      ]
     },
     "execution_count": 35,
     "metadata": {},
     "output_type": "execute_result"
    },
    {
     "data": {
      "image/png": "[encoded data removed]",
      "text/plain": [
       "<Figure size 432x288 with 1 Axes>"
      ]
     },
     "metadata": {
      "needs_background": "light"
     },
     "output_type": "display_data"
    }
   ],
   "source": [
    "plt.scatter(X['X3'],Y)\n",
    "eq = X*model1.coef_\n",
    "eq = eq.sum(axis=1)+model1.intercept_\n",
    "plt.plot(X['X3'], eq)"
   ]
  },
  {
   "cell_type": "code",
   "execution_count": 36,
   "metadata": {},
   "outputs": [
    {
     "name": "stdout",
     "output_type": "stream",
     "text": [
      "Final Linear Regression Equation is  Y = 0.00892 + (0.21308)X1 + (0.29159)X2 + (0.47807)X3\n"
     ]
    }
   ],
   "source": [
    "print(\"Final Linear Regression Equation is \", reg_equation)"
   ]
  },
  {
   "cell_type": "code",
   "execution_count": 37,
   "metadata": {},
   "outputs": [
    {
     "name": "stdout",
     "output_type": "stream",
     "text": [
      "[0.49586066 0.07995095 0.32763521 0.43370176 0.67295534 0.79727314\n",
      " 0.33650446 0.22200724 0.73511424 0.70007584 0.1509791  0.16827901\n",
      " 0.59305796]\n"
     ]
    }
   ],
   "source": [
    "predictions = model1.predict(x_test)\n",
    "print(predictions)"
   ]
  },
  {
   "cell_type": "code",
   "execution_count": 38,
   "metadata": {},
   "outputs": [
    {
     "data": {
      "text/plain": [
       "<matplotlib.collections.PathCollection at 0x217f590fbe0>"
      ]
     },
     "execution_count": 38,
     "metadata": {},
     "output_type": "execute_result"
    },
    {
     "data": {
      "image/png": "[encoded data removed]",
      "text/plain": [
       "<Figure size 432x288 with 1 Axes>"
      ]
     },
     "metadata": {
      "needs_background": "light"
     },
     "output_type": "display_data"
    }
   ],
   "source": [
    "plt.scatter(y_test, predictions)"
   ]
  },
  {
   "cell_type": "code",
   "execution_count": 39,
   "metadata": {},
   "outputs": [
    {
     "data": {
      "text/plain": [
       "<matplotlib.legend.Legend at 0x217f5970490>"
      ]
     },
     "execution_count": 39,
     "metadata": {},
     "output_type": "execute_result"
    },
    {
     "data": {
      "image/png": "[encoded data removed]",
      "text/plain": [
       "<Figure size 432x288 with 1 Axes>"
      ]
     },
     "metadata": {
      "needs_background": "light"
     },
     "output_type": "display_data"
    }
   ],
   "source": [
    "plt.plot(predictions, label = 'Predicted Values')\n",
    "plt.plot(y_test, label = 'Actual Values')\n",
    "plt.legend()"
   ]
  },
  {
   "cell_type": "code",
   "execution_count": 40,
   "metadata": {},
   "outputs": [
    {
     "name": "stdout",
     "output_type": "stream",
     "text": [
      "Actual\tPredicted\n",
      "0.4516129032258065 \t 0.4958606559322021\n",
      "0.3965844402277039 \t 0.07995095472325213\n",
      "0.17647058823529416 \t 0.3276352136265172\n",
      "0.40986717267552164 \t 0.4337017577300555\n",
      "0.7760910815939277 \t 0.672955340739873\n",
      "0.8462998102466792 \t 0.797273137144166\n",
      "0.39848197343453506 \t 0.3365044561285032\n",
      "0.40417457305502835 \t 0.2220072361315173\n",
      "0.5483870967741935 \t 0.7351142389420195\n",
      "0.812144212523719 \t 0.7000758355426138\n",
      "0.4193548387096775 \t 0.1509790954273847\n",
      "0.020872865275142205 \t 0.16827901382281832\n",
      "0.48007590132827316 \t 0.5930579575337543\n"
     ]
    }
   ],
   "source": [
    "predictions_list = predictions.tolist()\n",
    "Y_test_list = y_test.tolist()\n",
    "print(\"Actual\\tPredicted\")\n",
    "for i in range(len(Y_test_list)):\n",
    "    print(Y_test_list[i], \"\\t\" ,predictions_list[i])"
   ]
  },
  {
   "cell_type": "code",
   "execution_count": 41,
   "metadata": {},
   "outputs": [
    {
     "name": "stdout",
     "output_type": "stream",
     "text": [
      "MSE (Mean Squared Error) :  0.02535735462804904\n",
      "MAE (Mean Absolute Error):  0.13536516800208437\n",
      "RMSE (Root Mean Squared Error ) :  0.1592399278700196\n",
      "Adjusted R squared value :  0.48165993830916165\n"
     ]
    }
   ],
   "source": [
    "MAE = metrics.mean_absolute_error(y_test, predictions)\n",
    "MSE = metrics.mean_squared_error(y_test,predictions)\n",
    "RMSE = np.sqrt(MSE)\n",
    "R_squared = metrics.r2_score(y_test,predictions)\n",
    "adjusted_R_squared = 1 - (1 - metrics.r2_score(y_test, predictions)) * (len(Y)-1)/(len(Y)-X.shape[1]-1)\n",
    "\n",
    "print(\"MSE (Mean Squared Error) : \", + MSE)\n",
    "print(\"MAE (Mean Absolute Error): \", + MAE)\n",
    "print(\"RMSE (Root Mean Squared Error ) : \", + RMSE)\n",
    "print(\"Adjusted R squared value : \" , adjusted_R_squared)"
   ]
  },
  {
   "cell_type": "code",
   "execution_count": 42,
   "metadata": {},
   "outputs": [
    {
     "name": "stdout",
     "output_type": "stream",
     "text": [
      "Input Variable Names    Regression                                                   MSE       MAE     RMSE    R-Squared    Adjusted R-Squared\n",
      "----------------------  -----------------------------------------------------  ---------  --------  -------  -----------  --------------------\n",
      "['X1', 'X2', 'X3']      Y = 0.00892 + (0.21308)X1 + (0.29159)X2 + (0.47807)X3  0.0253574  0.135365  0.15924     0.506343               0.48166\n"
     ]
    }
   ],
   "source": [
    "table_testing = [\n",
    "                ['Input Variable Names', 'Regression', 'MSE', 'MAE', 'RMSE', 'R-Squared', 'Adjusted R-Squared'],\n",
    "                [[X.columns[0],X.columns[1],X.columns[2]], reg_equation, MSE, MAE, RMSE, R_squared, adjusted_R_squared]\n",
    "                ]\n",
    "print(tabulate(table_testing, headers='firstrow'))"
   ]
  },
  {
   "cell_type": "markdown",
   "metadata": {},
   "source": [
    "### Stage - 2 Classifier "
   ]
  },
  {
   "cell_type": "code",
   "execution_count": 58,
   "metadata": {},
   "outputs": [
    {
     "data": {
      "text/html": [
       "<div>\n",
       "<style scoped>\n",
       "    .dataframe tbody tr th:only-of-type {\n",
       "        vertical-align: middle;\n",
       "    }\n",
       "\n",
       "    .dataframe tbody tr th {\n",
       "        vertical-align: top;\n",
       "    }\n",
       "\n",
       "    .dataframe thead th {\n",
       "        text-align: right;\n",
       "    }\n",
       "</style>\n",
       "<table border=\"1\" class=\"dataframe\">\n",
       "  <thead>\n",
       "    <tr style=\"text-align: right;\">\n",
       "      <th></th>\n",
       "      <th>X1</th>\n",
       "      <th>X2</th>\n",
       "      <th>X3</th>\n",
       "      <th>Y2</th>\n",
       "      <th>Z1</th>\n",
       "    </tr>\n",
       "  </thead>\n",
       "  <tbody>\n",
       "    <tr>\n",
       "      <th>0</th>\n",
       "      <td>50.0</td>\n",
       "      <td>6.0</td>\n",
       "      <td>30.0</td>\n",
       "      <td>4.86</td>\n",
       "      <td>18.0</td>\n",
       "    </tr>\n",
       "    <tr>\n",
       "      <th>1</th>\n",
       "      <td>50.0</td>\n",
       "      <td>6.0</td>\n",
       "      <td>45.0</td>\n",
       "      <td>4.97</td>\n",
       "      <td>19.0</td>\n",
       "    </tr>\n",
       "    <tr>\n",
       "      <th>2</th>\n",
       "      <td>50.0</td>\n",
       "      <td>6.0</td>\n",
       "      <td>60.0</td>\n",
       "      <td>5.79</td>\n",
       "      <td>20.0</td>\n",
       "    </tr>\n",
       "    <tr>\n",
       "      <th>3</th>\n",
       "      <td>50.0</td>\n",
       "      <td>6.0</td>\n",
       "      <td>75.0</td>\n",
       "      <td>6.28</td>\n",
       "      <td>27.0</td>\n",
       "    </tr>\n",
       "    <tr>\n",
       "      <th>4</th>\n",
       "      <td>50.0</td>\n",
       "      <td>8.0</td>\n",
       "      <td>30.0</td>\n",
       "      <td>5.06</td>\n",
       "      <td>19.0</td>\n",
       "    </tr>\n",
       "    <tr>\n",
       "      <th>...</th>\n",
       "      <td>...</td>\n",
       "      <td>...</td>\n",
       "      <td>...</td>\n",
       "      <td>...</td>\n",
       "      <td>...</td>\n",
       "    </tr>\n",
       "    <tr>\n",
       "      <th>66</th>\n",
       "      <td>NaN</td>\n",
       "      <td>NaN</td>\n",
       "      <td>NaN</td>\n",
       "      <td>NaN</td>\n",
       "      <td>NaN</td>\n",
       "    </tr>\n",
       "    <tr>\n",
       "      <th>67</th>\n",
       "      <td>NaN</td>\n",
       "      <td>NaN</td>\n",
       "      <td>NaN</td>\n",
       "      <td>NaN</td>\n",
       "      <td>NaN</td>\n",
       "    </tr>\n",
       "    <tr>\n",
       "      <th>68</th>\n",
       "      <td>NaN</td>\n",
       "      <td>NaN</td>\n",
       "      <td>NaN</td>\n",
       "      <td>NaN</td>\n",
       "      <td>NaN</td>\n",
       "    </tr>\n",
       "    <tr>\n",
       "      <th>69</th>\n",
       "      <td>200.0</td>\n",
       "      <td>NaN</td>\n",
       "      <td>NaN</td>\n",
       "      <td>NaN</td>\n",
       "      <td>NaN</td>\n",
       "    </tr>\n",
       "    <tr>\n",
       "      <th>70</th>\n",
       "      <td>50.0</td>\n",
       "      <td>NaN</td>\n",
       "      <td>NaN</td>\n",
       "      <td>NaN</td>\n",
       "      <td>NaN</td>\n",
       "    </tr>\n",
       "  </tbody>\n",
       "</table>\n",
       "<p>71 rows × 5 columns</p>\n",
       "</div>"
      ],
      "text/plain": [
       "       X1   X2    X3    Y2    Z1\n",
       "0    50.0  6.0  30.0  4.86  18.0\n",
       "1    50.0  6.0  45.0  4.97  19.0\n",
       "2    50.0  6.0  60.0  5.79  20.0\n",
       "3    50.0  6.0  75.0  6.28  27.0\n",
       "4    50.0  8.0  30.0  5.06  19.0\n",
       "..    ...  ...   ...   ...   ...\n",
       "66    NaN  NaN   NaN   NaN   NaN\n",
       "67    NaN  NaN   NaN   NaN   NaN\n",
       "68    NaN  NaN   NaN   NaN   NaN\n",
       "69  200.0  NaN   NaN   NaN   NaN\n",
       "70   50.0  NaN   NaN   NaN   NaN\n",
       "\n",
       "[71 rows x 5 columns]"
      ]
     },
     "execution_count": 58,
     "metadata": {},
     "output_type": "execute_result"
    }
   ],
   "source": [
    "df2 = pd.read_csv('data.csv')\n",
    "df2 = df2.drop(['Sample Number'],axis=1)\n",
    "df2"
   ]
  },
  {
   "cell_type": "markdown",
   "metadata": {},
   "source": [
    "### Preprocessing and removing the unnecessary columns"
   ]
  },
  {
   "cell_type": "code",
   "execution_count": 59,
   "metadata": {},
   "outputs": [
    {
     "data": {
      "text/plain": [
       "array([[0.        , 0.        , 0.        , 0.        , 0.        ],\n",
       "       [0.        , 0.        , 0.33333333, 0.02087287, 0.03846154],\n",
       "       [0.        , 0.        , 0.66666667, 0.17647059, 0.07692308],\n",
       "       [0.        , 0.        , 1.        , 0.26944972, 0.34615385],\n",
       "       [0.        , 0.33333333, 0.        , 0.03795066, 0.03846154],\n",
       "       [0.        , 0.33333333, 0.33333333, 0.06451613, 0.23076923],\n",
       "       [0.        , 0.33333333, 0.66666667, 0.19924099, 0.11538462],\n",
       "       [0.        , 0.33333333, 1.        , 0.71916509, 0.19230769],\n",
       "       [0.        , 0.66666667, 0.        , 0.17457306, 0.07692308],\n",
       "       [0.        , 0.66666667, 0.33333333, 0.19734345, 0.07692308],\n",
       "       [0.        , 0.66666667, 0.66666667, 0.33206831, 0.11538462],\n",
       "       [0.        , 0.66666667, 1.        , 0.76470588, 0.23076923],\n",
       "       [0.        , 1.        , 0.        , 0.32827324, 0.11538462],\n",
       "       [0.        , 1.        , 0.33333333, 0.41555977, 0.15384615],\n",
       "       [0.        , 1.        , 0.66666667, 0.54079696, 0.42307692],\n",
       "       [0.        , 1.        , 1.        , 0.80455408, 0.26923077],\n",
       "       [0.33333333, 0.        , 0.        , 0.39658444, 0.23076923],\n",
       "       [0.33333333, 0.        , 0.33333333, 0.39848197, 0.23076923],\n",
       "       [0.33333333, 0.        , 0.66666667, 0.42314991, 0.30769231],\n",
       "       [0.33333333, 0.        , 1.        , 0.81593928, 0.34615385],\n",
       "       [0.33333333, 0.33333333, 0.        , 0.39468691, 0.42307692],\n",
       "       [0.33333333, 0.33333333, 0.33333333, 0.39848197, 0.34615385],\n",
       "       [0.33333333, 0.33333333, 0.66666667, 0.4516129 , 0.42307692],\n",
       "       [0.33333333, 0.33333333, 1.        , 0.82922201, 0.34615385],\n",
       "       [0.33333333, 0.66666667, 0.        , 0.39848197, 0.34615385],\n",
       "       [0.33333333, 0.66666667, 0.33333333, 0.40986717, 0.42307692],\n",
       "       [0.33333333, 0.66666667, 0.66666667, 0.4800759 , 0.5       ],\n",
       "       [0.33333333, 0.66666667, 1.        , 0.85958254, 0.53846154],\n",
       "       [0.33333333, 1.        , 0.        , 0.53889943, 0.5       ],\n",
       "       [0.33333333, 1.        , 0.33333333, 0.61669829, 0.5       ],\n",
       "       [0.33333333, 1.        , 0.66666667, 0.70208729, 0.53846154],\n",
       "       [0.33333333, 1.        , 1.        , 0.91271347, 0.57692308],\n",
       "       [0.66666667, 0.        , 0.        , 0.41935484, 0.53846154],\n",
       "       [0.66666667, 0.        , 0.33333333, 0.42125237, 0.57692308],\n",
       "       [0.66666667, 0.        , 0.66666667, 0.37191651, 0.53846154],\n",
       "       [0.66666667, 0.        , 1.        , 0.83491461, 0.69230769],\n",
       "       [0.66666667, 0.33333333, 0.        , 0.23908918, 0.65384615],\n",
       "       [0.66666667, 0.33333333, 0.33333333, 0.4288425 , 0.57692308],\n",
       "       [0.66666667, 0.33333333, 0.66666667, 0.4345351 , 0.53846154],\n",
       "       [0.66666667, 0.33333333, 1.        , 0.82542694, 0.76923077],\n",
       "       [0.66666667, 0.66666667, 0.        , 0.40417457, 0.53846154],\n",
       "       [0.66666667, 0.66666667, 0.33333333, 0.44212524, 0.57692308],\n",
       "       [0.66666667, 0.66666667, 0.66666667, 0.4686907 , 0.57692308],\n",
       "       [0.66666667, 0.66666667, 1.        , 0.86907021, 0.57692308],\n",
       "       [0.66666667, 1.        , 0.        , 0.5711575 , 0.61538462],\n",
       "       [0.66666667, 1.        , 0.33333333, 0.55028463, 0.65384615],\n",
       "       [0.66666667, 1.        , 0.66666667, 0.71157495, 0.76923077],\n",
       "       [0.66666667, 1.        , 1.        , 0.9316888 , 0.76923077],\n",
       "       [1.        , 0.        , 0.        , 0.40417457, 0.57692308],\n",
       "       [1.        , 0.        , 0.33333333, 0.40037951, 0.61538462],\n",
       "       [1.        , 0.        , 0.66666667, 0.37381404, 0.61538462],\n",
       "       [1.        , 0.        , 1.        , 0.81214421, 0.53846154],\n",
       "       [1.        , 0.33333333, 0.        , 0.26565465, 0.76923077],\n",
       "       [1.        , 0.33333333, 0.33333333, 0.44971537, 0.80769231],\n",
       "       [1.        , 0.33333333, 0.66666667, 0.46679317, 0.73076923],\n",
       "       [1.        , 0.33333333, 1.        , 0.84629981, 0.92307692],\n",
       "       [1.        , 0.66666667, 0.        , 0.40037951, 0.88461538],\n",
       "       [1.        , 0.66666667, 0.33333333, 0.44971537, 0.69230769],\n",
       "       [1.        , 0.66666667, 0.66666667, 0.5483871 , 0.76923077],\n",
       "       [1.        , 0.66666667, 1.        , 0.88614801, 0.73076923],\n",
       "       [1.        , 1.        , 0.        , 0.61100569, 0.80769231],\n",
       "       [1.        , 1.        , 0.33333333, 0.77609108, 1.        ],\n",
       "       [1.        , 1.        , 0.66666667, 0.75901328, 0.96153846],\n",
       "       [1.        , 1.        , 1.        , 1.        , 0.76923077],\n",
       "       [       nan,        nan,        nan,        nan,        nan],\n",
       "       [       nan,        nan,        nan,        nan,        nan],\n",
       "       [       nan,        nan,        nan,        nan,        nan],\n",
       "       [       nan,        nan,        nan,        nan,        nan],\n",
       "       [       nan,        nan,        nan,        nan,        nan],\n",
       "       [1.        ,        nan,        nan,        nan,        nan],\n",
       "       [0.        ,        nan,        nan,        nan,        nan]])"
      ]
     },
     "execution_count": 59,
     "metadata": {},
     "output_type": "execute_result"
    }
   ],
   "source": [
    "scalar = MinMaxScaler()\n",
    "df2 = scalar.fit_transform(df2)\n",
    "df2"
   ]
  },
  {
   "cell_type": "code",
   "execution_count": 62,
   "metadata": {},
   "outputs": [
    {
     "data": {
      "text/plain": [
       "0     0.000000\n",
       "1     0.038462\n",
       "2     0.076923\n",
       "3     0.346154\n",
       "4     0.038462\n",
       "        ...   \n",
       "66         NaN\n",
       "67         NaN\n",
       "68         NaN\n",
       "69         NaN\n",
       "70         NaN\n",
       "Name: Z1, Length: 71, dtype: float64"
      ]
     },
     "execution_count": 62,
     "metadata": {},
     "output_type": "execute_result"
    }
   ],
   "source": [
    "df2_scaled_final = pd.DataFrame(df2, columns = ['X1','X2','X3','Y2','Z1'])\n",
    "df2_scaled_final = df2_scaled_final[\"Z1\"]\n",
    "df2_scaled_final"
   ]
  },
  {
   "cell_type": "code",
   "execution_count": 64,
   "metadata": {},
   "outputs": [
    {
     "data": {
      "text/plain": [
       "7"
      ]
     },
     "execution_count": 64,
     "metadata": {},
     "output_type": "execute_result"
    }
   ],
   "source": [
    "df2_scaled_final.isnull().sum()"
   ]
  },
  {
   "cell_type": "code",
   "execution_count": 68,
   "metadata": {},
   "outputs": [],
   "source": [
    "df2_scaled_final = df2_scaled_final.dropna()"
   ]
  },
  {
   "cell_type": "code",
   "execution_count": 69,
   "metadata": {},
   "outputs": [
    {
     "data": {
      "text/plain": [
       "0"
      ]
     },
     "execution_count": 69,
     "metadata": {},
     "output_type": "execute_result"
    }
   ],
   "source": [
    "df2_scaled_final.isnull().sum()"
   ]
  },
  {
   "cell_type": "markdown",
   "metadata": {},
   "source": [
    "### Linear Regression Model"
   ]
  },
  {
   "cell_type": "code",
   "execution_count": 73,
   "metadata": {},
   "outputs": [
    {
     "data": {
      "text/html": [
       "<div>\n",
       "<style scoped>\n",
       "    .dataframe tbody tr th:only-of-type {\n",
       "        vertical-align: middle;\n",
       "    }\n",
       "\n",
       "    .dataframe tbody tr th {\n",
       "        vertical-align: top;\n",
       "    }\n",
       "\n",
       "    .dataframe thead th {\n",
       "        text-align: right;\n",
       "    }\n",
       "</style>\n",
       "<table border=\"1\" class=\"dataframe\">\n",
       "  <thead>\n",
       "    <tr style=\"text-align: right;\">\n",
       "      <th></th>\n",
       "      <th>Y2</th>\n",
       "    </tr>\n",
       "  </thead>\n",
       "  <tbody>\n",
       "    <tr>\n",
       "      <th>0</th>\n",
       "      <td>0.495861</td>\n",
       "    </tr>\n",
       "    <tr>\n",
       "      <th>1</th>\n",
       "      <td>0.079951</td>\n",
       "    </tr>\n",
       "    <tr>\n",
       "      <th>2</th>\n",
       "      <td>0.327635</td>\n",
       "    </tr>\n",
       "    <tr>\n",
       "      <th>3</th>\n",
       "      <td>0.433702</td>\n",
       "    </tr>\n",
       "    <tr>\n",
       "      <th>4</th>\n",
       "      <td>0.672955</td>\n",
       "    </tr>\n",
       "    <tr>\n",
       "      <th>5</th>\n",
       "      <td>0.797273</td>\n",
       "    </tr>\n",
       "    <tr>\n",
       "      <th>6</th>\n",
       "      <td>0.336504</td>\n",
       "    </tr>\n",
       "    <tr>\n",
       "      <th>7</th>\n",
       "      <td>0.222007</td>\n",
       "    </tr>\n",
       "    <tr>\n",
       "      <th>8</th>\n",
       "      <td>0.735114</td>\n",
       "    </tr>\n",
       "    <tr>\n",
       "      <th>9</th>\n",
       "      <td>0.700076</td>\n",
       "    </tr>\n",
       "  </tbody>\n",
       "</table>\n",
       "</div>"
      ],
      "text/plain": [
       "         Y2\n",
       "0  0.495861\n",
       "1  0.079951\n",
       "2  0.327635\n",
       "3  0.433702\n",
       "4  0.672955\n",
       "5  0.797273\n",
       "6  0.336504\n",
       "7  0.222007\n",
       "8  0.735114\n",
       "9  0.700076"
      ]
     },
     "execution_count": 73,
     "metadata": {},
     "output_type": "execute_result"
    }
   ],
   "source": [
    "x_new_stage2 = pd.DataFrame(predictions_list, columns= ['Y2'])\n",
    "y_new_stage2 = df2_scaled_final\n",
    "x_new_stage2.head(10)"
   ]
  },
  {
   "cell_type": "code",
   "execution_count": 75,
   "metadata": {},
   "outputs": [
    {
     "data": {
      "text/plain": [
       "0    0.000000\n",
       "1    0.038462\n",
       "2    0.076923\n",
       "3    0.346154\n",
       "4    0.038462\n",
       "5    0.230769\n",
       "6    0.115385\n",
       "7    0.192308\n",
       "8    0.076923\n",
       "9    0.076923\n",
       "Name: Z1, dtype: float64"
      ]
     },
     "execution_count": 75,
     "metadata": {},
     "output_type": "execute_result"
    }
   ],
   "source": [
    "y_new_stage2.head(10)"
   ]
  },
  {
   "cell_type": "code",
   "execution_count": 77,
   "metadata": {},
   "outputs": [
    {
     "data": {
      "text/plain": [
       "((13, 1), (64,))"
      ]
     },
     "execution_count": 77,
     "metadata": {},
     "output_type": "execute_result"
    }
   ],
   "source": [
    "x_new_stage2.shape , y_new_stage2.shape"
   ]
  },
  {
   "cell_type": "markdown",
   "metadata": {},
   "source": [
    "#### Since the size of the Y is greater than X then we can get the first 13 columns of Y for training"
   ]
  },
  {
   "cell_type": "code",
   "execution_count": 79,
   "metadata": {},
   "outputs": [
    {
     "data": {
      "text/plain": [
       "(13,)"
      ]
     },
     "execution_count": 79,
     "metadata": {},
     "output_type": "execute_result"
    }
   ],
   "source": [
    "y_new_stage2 = y_new_stage2 [:13]\n",
    "y_new_stage2.shape"
   ]
  },
  {
   "cell_type": "markdown",
   "metadata": {},
   "source": [
    "### Linear Regression"
   ]
  },
  {
   "cell_type": "markdown",
   "metadata": {},
   "source": [
    "#### Importing the module"
   ]
  },
  {
   "cell_type": "code",
   "execution_count": 82,
   "metadata": {},
   "outputs": [],
   "source": [
    "linear_reg_model2 = linearreg()\n",
    "\n",
    "x_train2 , x_test2, y_train2 , y_test2 = tsplit(x_new_stage2,y_new_stage2,train_size=0.80,random_state = 101)"
   ]
  },
  {
   "cell_type": "code",
   "execution_count": 105,
   "metadata": {},
   "outputs": [
    {
     "data": {
      "text/plain": [
       "LinearRegression()"
      ]
     },
     "execution_count": 105,
     "metadata": {},
     "output_type": "execute_result"
    }
   ],
   "source": [
    "linear_reg_model2.fit(x_train2,y_train2)"
   ]
  },
  {
   "cell_type": "code",
   "execution_count": 106,
   "metadata": {},
   "outputs": [
    {
     "data": {
      "text/plain": [
       "0.12750048343435413"
      ]
     },
     "execution_count": 106,
     "metadata": {},
     "output_type": "execute_result"
    }
   ],
   "source": [
    "intercept = linear_reg_model2.intercept_\n",
    "intercept"
   ]
  },
  {
   "cell_type": "code",
   "execution_count": 107,
   "metadata": {},
   "outputs": [
    {
     "data": {
      "text/plain": [
       "array([-0.03661854])"
      ]
     },
     "execution_count": 107,
     "metadata": {},
     "output_type": "execute_result"
    }
   ],
   "source": [
    "coefficients = linear_reg_model2.coef_ \n",
    "coefficients"
   ]
  },
  {
   "cell_type": "code",
   "execution_count": 108,
   "metadata": {},
   "outputs": [
    {
     "data": {
      "text/plain": [
       "'Z1 = 0.1275 + -0.03662 Y2'"
      ]
     },
     "execution_count": 108,
     "metadata": {},
     "output_type": "execute_result"
    }
   ],
   "source": [
    "reg_equation = \"Z1 = \" + str(intercept.round(5)) + \" + \" + str(coefficients[0].round(5)) + \" Y2\"\n",
    "reg_equation"
   ]
  },
  {
   "cell_type": "markdown",
   "metadata": {},
   "source": [
    "### Results and Predictions"
   ]
  },
  {
   "cell_type": "code",
   "execution_count": 109,
   "metadata": {},
   "outputs": [
    {
     "name": "stdout",
     "output_type": "stream",
     "text": [
      "                                 OLS Regression Results                                \n",
      "=======================================================================================\n",
      "Dep. Variable:                     Z1   R-squared (uncentered):                   0.445\n",
      "Model:                            OLS   Adj. R-squared (uncentered):              0.383\n",
      "Method:                 Least Squares   F-statistic:                              7.212\n",
      "Date:                Sun, 20 Mar 2022   Prob (F-statistic):                      0.0250\n",
      "Time:                        11:34:50   Log-Likelihood:                          8.7055\n",
      "No. Observations:                  10   AIC:                                     -15.41\n",
      "Df Residuals:                       9   BIC:                                     -15.11\n",
      "Df Model:                           1                                                  \n",
      "Covariance Type:            nonrobust                                                  \n",
      "==============================================================================\n",
      "                 coef    std err          t      P>|t|      [0.025      0.975]\n",
      "------------------------------------------------------------------------------\n",
      "Y2             0.1784      0.066      2.685      0.025       0.028       0.329\n",
      "==============================================================================\n",
      "Omnibus:                        1.050   Durbin-Watson:                   1.498\n",
      "Prob(Omnibus):                  0.591   Jarque-Bera (JB):                0.693\n",
      "Skew:                           0.239   Prob(JB):                        0.707\n",
      "Kurtosis:                       1.802   Cond. No.                         1.00\n",
      "==============================================================================\n",
      "\n",
      "Notes:\n",
      "[1] R² is computed without centering (uncentered) since the model does not contain a constant.\n",
      "[2] Standard Errors assume that the covariance matrix of the errors is correctly specified.\n"
     ]
    }
   ],
   "source": [
    "result = sm.OLS(y_train2, x_train2).fit()\n",
    "print(result.summary())"
   ]
  },
  {
   "cell_type": "code",
   "execution_count": 110,
   "metadata": {},
   "outputs": [
    {
     "name": "stdout",
     "output_type": "stream",
     "text": [
      "[0.10578357 0.11550296 0.11161896]\n"
     ]
    }
   ],
   "source": [
    "predictions = linear_reg_model2.predict(x_test2)\n",
    "print(predictions)"
   ]
  },
  {
   "cell_type": "code",
   "execution_count": 111,
   "metadata": {},
   "outputs": [
    {
     "data": {
      "text/plain": [
       "<matplotlib.collections.PathCollection at 0x217f5e84550>"
      ]
     },
     "execution_count": 111,
     "metadata": {},
     "output_type": "execute_result"
    },
    {
     "data": {
      "image/png": "[encoded data removed]",
      "text/plain": [
       "<Figure size 432x288 with 1 Axes>"
      ]
     },
     "metadata": {
      "needs_background": "light"
     },
     "output_type": "display_data"
    }
   ],
   "source": [
    "plt.scatter(y_test2, predictions)\n"
   ]
  },
  {
   "cell_type": "code",
   "execution_count": 112,
   "metadata": {},
   "outputs": [
    {
     "data": {
      "text/plain": [
       "<matplotlib.legend.Legend at 0x217f5ed5700>"
      ]
     },
     "execution_count": 112,
     "metadata": {},
     "output_type": "execute_result"
    },
    {
     "data": {
      "image/png": "[encoded data removed]",
      "text/plain": [
       "<Figure size 432x288 with 1 Axes>"
      ]
     },
     "metadata": {
      "needs_background": "light"
     },
     "output_type": "display_data"
    }
   ],
   "source": [
    "plt.plot(predictions, label = 'Predicted Values')\n",
    "plt.plot(y_test2, label = 'Actual Values')\n",
    "plt.legend()"
   ]
  },
  {
   "cell_type": "markdown",
   "metadata": {},
   "source": [
    "### Metrics"
   ]
  },
  {
   "cell_type": "code",
   "execution_count": 113,
   "metadata": {},
   "outputs": [],
   "source": [
    "MAE = metrics.mean_absolute_error(y_test2, predictions)\n",
    "MSE = metrics.mean_squared_error(y_test2,predictions)\n",
    "RMSE = np.sqrt(MSE)\n",
    "R_squared = result.rsquared\n",
    "adjusted_R_squared = result.rsquared_adj"
   ]
  },
  {
   "cell_type": "code",
   "execution_count": 116,
   "metadata": {},
   "outputs": [
    {
     "name": "stdout",
     "output_type": "stream",
     "text": [
      "Input Variable Names    Regression                       MSE        MAE     RMSE    R-Squared    Adjusted R-Squared\n",
      "----------------------  -------------------------  ---------  ---------  -------  -----------  --------------------\n",
      "['Y2']                  Z1 = 0.1275 + -0.03662 Y2  0.0188624  0.0942386  0.13734     0.444852              0.383169\n"
     ]
    }
   ],
   "source": [
    "table_testing = [\n",
    "                ['Input Variable Names', 'Regression', 'MSE', 'MAE', 'RMSE', 'R-Squared', 'Adjusted R-Squared'],\n",
    "                [[x_train2.columns[0]], reg_equation, MSE, MAE, RMSE, R_squared, adjusted_R_squared]\n",
    "                ]\n",
    "print(tabulate(table_testing, headers='firstrow'))"
   ]
  }
 ],
 "metadata": {
  "interpreter": {
   "hash": "07774c1517c852ae118f3f239a2d5a1f1ba4bd5523a10d28c28bc0d58e2851ef"
  },
  "kernelspec": {
   "display_name": "Python 3.9.0 64-bit",
   "language": "python",
   "name": "python3"
  },
  "language_info": {
   "codemirror_mode": {
    "name": "ipython",
    "version": 3
   },
   "file_extension": ".py",
   "mimetype": "text/x-python",
   "name": "python",
   "nbconvert_exporter": "python",
   "pygments_lexer": "ipython3",
   "version": "3.9.0"
  },
  "orig_nbformat": 4
 },
 "nbformat": 4,
 "nbformat_minor": 2
}
