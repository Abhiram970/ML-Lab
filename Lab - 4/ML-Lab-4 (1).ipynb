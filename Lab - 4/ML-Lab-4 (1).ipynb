{
 "cells": [
  {
   "cell_type": "code",
   "execution_count": 48,
   "metadata": {},
   "outputs": [],
   "source": [
    "import pandas as pd\n",
    "import numpy as np\n",
    "import seaborn as sns\n",
    "import warnings\n",
    "from tabulate import tabulate\n",
    "from sklearn import metrics"
   ]
  },
  {
   "cell_type": "code",
   "execution_count": 49,
   "metadata": {},
   "outputs": [],
   "source": [
    "warnings.filterwarnings('ignore')"
   ]
  },
  {
   "cell_type": "code",
   "execution_count": 50,
   "metadata": {},
   "outputs": [],
   "source": [
    "df = pd.read_excel('Lab-CSE1015-Data_Regression.xlsx')"
   ]
  },
  {
   "cell_type": "markdown",
   "metadata": {},
   "source": [
    "## Exploring Data"
   ]
  },
  {
   "cell_type": "code",
   "execution_count": 51,
   "metadata": {},
   "outputs": [
    {
     "data": {
      "text/html": [
       "<div>\n",
       "<style scoped>\n",
       "    .dataframe tbody tr th:only-of-type {\n",
       "        vertical-align: middle;\n",
       "    }\n",
       "\n",
       "    .dataframe tbody tr th {\n",
       "        vertical-align: top;\n",
       "    }\n",
       "\n",
       "    .dataframe thead th {\n",
       "        text-align: right;\n",
       "    }\n",
       "</style>\n",
       "<table border=\"1\" class=\"dataframe\">\n",
       "  <thead>\n",
       "    <tr style=\"text-align: right;\">\n",
       "      <th></th>\n",
       "      <th>Sample No</th>\n",
       "      <th>P1</th>\n",
       "      <th>P2</th>\n",
       "      <th>P3</th>\n",
       "      <th>P4</th>\n",
       "      <th>P5</th>\n",
       "      <th>P6</th>\n",
       "      <th>P7</th>\n",
       "      <th>P8</th>\n",
       "      <th>Unnamed: 9</th>\n",
       "      <th>R1</th>\n",
       "    </tr>\n",
       "  </thead>\n",
       "  <tbody>\n",
       "    <tr>\n",
       "      <th>0</th>\n",
       "      <td>1.0</td>\n",
       "      <td>0.01</td>\n",
       "      <td>0.0483</td>\n",
       "      <td>0.8728</td>\n",
       "      <td>0.000435</td>\n",
       "      <td>0.01</td>\n",
       "      <td>0.0483</td>\n",
       "      <td>0.8728</td>\n",
       "      <td>0.000435</td>\n",
       "      <td>NaN</td>\n",
       "      <td>0.023</td>\n",
       "    </tr>\n",
       "    <tr>\n",
       "      <th>1</th>\n",
       "      <td>2.0</td>\n",
       "      <td>0.01</td>\n",
       "      <td>0.0483</td>\n",
       "      <td>0.8728</td>\n",
       "      <td>0.000435</td>\n",
       "      <td>0.01</td>\n",
       "      <td>0.0483</td>\n",
       "      <td>0.8728</td>\n",
       "      <td>0.000435</td>\n",
       "      <td>NaN</td>\n",
       "      <td>0.008</td>\n",
       "    </tr>\n",
       "    <tr>\n",
       "      <th>2</th>\n",
       "      <td>3.0</td>\n",
       "      <td>0.01</td>\n",
       "      <td>0.0483</td>\n",
       "      <td>0.8728</td>\n",
       "      <td>0.000435</td>\n",
       "      <td>0.01</td>\n",
       "      <td>0.0483</td>\n",
       "      <td>0.8728</td>\n",
       "      <td>0.000435</td>\n",
       "      <td>NaN</td>\n",
       "      <td>0.014</td>\n",
       "    </tr>\n",
       "    <tr>\n",
       "      <th>3</th>\n",
       "      <td>4.0</td>\n",
       "      <td>0.01</td>\n",
       "      <td>0.0483</td>\n",
       "      <td>0.8728</td>\n",
       "      <td>0.000435</td>\n",
       "      <td>0.01</td>\n",
       "      <td>0.0483</td>\n",
       "      <td>0.8728</td>\n",
       "      <td>0.000435</td>\n",
       "      <td>NaN</td>\n",
       "      <td>0.011</td>\n",
       "    </tr>\n",
       "    <tr>\n",
       "      <th>4</th>\n",
       "      <td>NaN</td>\n",
       "      <td>NaN</td>\n",
       "      <td>NaN</td>\n",
       "      <td>NaN</td>\n",
       "      <td>NaN</td>\n",
       "      <td>NaN</td>\n",
       "      <td>NaN</td>\n",
       "      <td>NaN</td>\n",
       "      <td>NaN</td>\n",
       "      <td>NaN</td>\n",
       "      <td>NaN</td>\n",
       "    </tr>\n",
       "    <tr>\n",
       "      <th>5</th>\n",
       "      <td>6.0</td>\n",
       "      <td>0.01</td>\n",
       "      <td>0.0483</td>\n",
       "      <td>0.8728</td>\n",
       "      <td>0.000435</td>\n",
       "      <td>0.01</td>\n",
       "      <td>0.0483</td>\n",
       "      <td>0.8728</td>\n",
       "      <td>0.000435</td>\n",
       "      <td>NaN</td>\n",
       "      <td>0.007</td>\n",
       "    </tr>\n",
       "    <tr>\n",
       "      <th>6</th>\n",
       "      <td>7.0</td>\n",
       "      <td>0.01</td>\n",
       "      <td>0.0483</td>\n",
       "      <td>0.8728</td>\n",
       "      <td>0.000435</td>\n",
       "      <td>0.01</td>\n",
       "      <td>0.0483</td>\n",
       "      <td>0.8728</td>\n",
       "      <td>0.000435</td>\n",
       "      <td>NaN</td>\n",
       "      <td>0.027</td>\n",
       "    </tr>\n",
       "    <tr>\n",
       "      <th>7</th>\n",
       "      <td>8.0</td>\n",
       "      <td>0.01</td>\n",
       "      <td>0.0483</td>\n",
       "      <td>0.8728</td>\n",
       "      <td>0.000435</td>\n",
       "      <td>0.01</td>\n",
       "      <td>0.0483</td>\n",
       "      <td>0.8728</td>\n",
       "      <td>0.000435</td>\n",
       "      <td>NaN</td>\n",
       "      <td>0.029</td>\n",
       "    </tr>\n",
       "    <tr>\n",
       "      <th>8</th>\n",
       "      <td>9.0</td>\n",
       "      <td>0.01</td>\n",
       "      <td>0.0483</td>\n",
       "      <td>0.8728</td>\n",
       "      <td>0.000435</td>\n",
       "      <td>0.01</td>\n",
       "      <td>0.0483</td>\n",
       "      <td>0.8728</td>\n",
       "      <td>0.000435</td>\n",
       "      <td>NaN</td>\n",
       "      <td>0.015</td>\n",
       "    </tr>\n",
       "    <tr>\n",
       "      <th>9</th>\n",
       "      <td>NaN</td>\n",
       "      <td>NaN</td>\n",
       "      <td>NaN</td>\n",
       "      <td>NaN</td>\n",
       "      <td>NaN</td>\n",
       "      <td>NaN</td>\n",
       "      <td>NaN</td>\n",
       "      <td>NaN</td>\n",
       "      <td>NaN</td>\n",
       "      <td>NaN</td>\n",
       "      <td>NaN</td>\n",
       "    </tr>\n",
       "  </tbody>\n",
       "</table>\n",
       "</div>"
      ],
      "text/plain": [
       "   Sample No    P1      P2      P3        P4    P5      P6      P7        P8  \\\n",
       "0        1.0  0.01  0.0483  0.8728  0.000435  0.01  0.0483  0.8728  0.000435   \n",
       "1        2.0  0.01  0.0483  0.8728  0.000435  0.01  0.0483  0.8728  0.000435   \n",
       "2        3.0  0.01  0.0483  0.8728  0.000435  0.01  0.0483  0.8728  0.000435   \n",
       "3        4.0  0.01  0.0483  0.8728  0.000435  0.01  0.0483  0.8728  0.000435   \n",
       "4        NaN   NaN     NaN     NaN       NaN   NaN     NaN     NaN       NaN   \n",
       "5        6.0  0.01  0.0483  0.8728  0.000435  0.01  0.0483  0.8728  0.000435   \n",
       "6        7.0  0.01  0.0483  0.8728  0.000435  0.01  0.0483  0.8728  0.000435   \n",
       "7        8.0  0.01  0.0483  0.8728  0.000435  0.01  0.0483  0.8728  0.000435   \n",
       "8        9.0  0.01  0.0483  0.8728  0.000435  0.01  0.0483  0.8728  0.000435   \n",
       "9        NaN   NaN     NaN     NaN       NaN   NaN     NaN     NaN       NaN   \n",
       "\n",
       "   Unnamed: 9     R1  \n",
       "0         NaN  0.023  \n",
       "1         NaN  0.008  \n",
       "2         NaN  0.014  \n",
       "3         NaN  0.011  \n",
       "4         NaN    NaN  \n",
       "5         NaN  0.007  \n",
       "6         NaN  0.027  \n",
       "7         NaN  0.029  \n",
       "8         NaN  0.015  \n",
       "9         NaN    NaN  "
      ]
     },
     "execution_count": 51,
     "metadata": {},
     "output_type": "execute_result"
    }
   ],
   "source": [
    "df.head(10)"
   ]
  },
  {
   "cell_type": "code",
   "execution_count": 52,
   "metadata": {},
   "outputs": [
    {
     "data": {
      "text/plain": [
       "<bound method NDFrame.describe of     Sample No    P1      P2      P3        P4    P5      P6      P7        P8  \\\n",
       "0         1.0  0.01  0.0483  0.8728  0.000435  0.01  0.0483  0.8728  0.000435   \n",
       "1         2.0  0.01  0.0483  0.8728  0.000435  0.01  0.0483  0.8728  0.000435   \n",
       "2         3.0  0.01  0.0483  0.8728  0.000435  0.01  0.0483  0.8728  0.000435   \n",
       "3         4.0  0.01  0.0483  0.8728  0.000435  0.01  0.0483  0.8728  0.000435   \n",
       "4         NaN   NaN     NaN     NaN       NaN   NaN     NaN     NaN       NaN   \n",
       "..        ...   ...     ...     ...       ...   ...     ...     ...       ...   \n",
       "94        NaN   NaN     NaN     NaN       NaN   NaN     NaN     NaN       NaN   \n",
       "95       96.0  0.01  0.0529  0.9350  0.000539  0.01  0.0529  0.9350  0.000539   \n",
       "96       97.0  0.01  0.0529  0.9350  0.000539  0.01  0.0575  0.9470  0.000694   \n",
       "97       98.0  0.01  0.0529  0.9350  0.000539  0.01  0.0575  0.9470  0.000694   \n",
       "98       99.0  0.01  0.0529  0.9350  0.000539  0.01  0.0575  0.9470  0.000694   \n",
       "\n",
       "    Unnamed: 9     R1  \n",
       "0          NaN  0.023  \n",
       "1          NaN  0.008  \n",
       "2          NaN  0.014  \n",
       "3          NaN  0.011  \n",
       "4          NaN    NaN  \n",
       "..         ...    ...  \n",
       "94         NaN    NaN  \n",
       "95         NaN  0.002  \n",
       "96         NaN  0.013  \n",
       "97         NaN  0.018  \n",
       "98         NaN  0.019  \n",
       "\n",
       "[99 rows x 11 columns]>"
      ]
     },
     "execution_count": 52,
     "metadata": {},
     "output_type": "execute_result"
    }
   ],
   "source": [
    "df.describe"
   ]
  },
  {
   "cell_type": "code",
   "execution_count": 53,
   "metadata": {},
   "outputs": [
    {
     "data": {
      "text/plain": [
       "<AxesSubplot:>"
      ]
     },
     "execution_count": 53,
     "metadata": {},
     "output_type": "execute_result"
    },
    {
     "data": {
      "image/png": "[encoded data removed]",
      "text/plain": [
       "<Figure size 432x288 with 1 Axes>"
      ]
     },
     "metadata": {
      "needs_background": "light"
     },
     "output_type": "display_data"
    }
   ],
   "source": [
    "sns.heatmap(df.isnull(), yticklabels=False, cbar=False, cmap='viridis')"
   ]
  },
  {
   "cell_type": "code",
   "execution_count": 54,
   "metadata": {},
   "outputs": [
    {
     "data": {
      "text/plain": [
       "Index(['Sample No', 'P1', 'P2', 'P3', 'P4', 'P5', 'P6', 'P7', 'P8',\n",
       "       'Unnamed: 9', 'R1'],\n",
       "      dtype='object')"
      ]
     },
     "execution_count": 54,
     "metadata": {},
     "output_type": "execute_result"
    }
   ],
   "source": [
    "df.columns"
   ]
  },
  {
   "cell_type": "markdown",
   "metadata": {},
   "source": [
    "## Preprocessing "
   ]
  },
  {
   "cell_type": "code",
   "execution_count": 55,
   "metadata": {},
   "outputs": [],
   "source": [
    "df = df.drop(columns=['Unnamed: 9'])"
   ]
  },
  {
   "cell_type": "code",
   "execution_count": 56,
   "metadata": {},
   "outputs": [
    {
     "data": {
      "text/plain": [
       "Index(['Sample No', 'P1', 'P2', 'P3', 'P4', 'P5', 'P6', 'P7', 'P8', 'R1'], dtype='object')"
      ]
     },
     "execution_count": 56,
     "metadata": {},
     "output_type": "execute_result"
    }
   ],
   "source": [
    "df.columns"
   ]
  },
  {
   "cell_type": "code",
   "execution_count": 57,
   "metadata": {},
   "outputs": [
    {
     "data": {
      "text/plain": [
       "<AxesSubplot:>"
      ]
     },
     "execution_count": 57,
     "metadata": {},
     "output_type": "execute_result"
    },
    {
     "data": {
      "image/png": "[encoded data removed]",
      "text/plain": [
       "<Figure size 432x288 with 1 Axes>"
      ]
     },
     "metadata": {
      "needs_background": "light"
     },
     "output_type": "display_data"
    }
   ],
   "source": [
    "sns.heatmap(df.isnull(), yticklabels=False, cbar=False, cmap='viridis')"
   ]
  },
  {
   "cell_type": "code",
   "execution_count": 58,
   "metadata": {},
   "outputs": [
    {
     "data": {
      "text/html": [
       "<div>\n",
       "<style scoped>\n",
       "    .dataframe tbody tr th:only-of-type {\n",
       "        vertical-align: middle;\n",
       "    }\n",
       "\n",
       "    .dataframe tbody tr th {\n",
       "        vertical-align: top;\n",
       "    }\n",
       "\n",
       "    .dataframe thead th {\n",
       "        text-align: right;\n",
       "    }\n",
       "</style>\n",
       "<table border=\"1\" class=\"dataframe\">\n",
       "  <thead>\n",
       "    <tr style=\"text-align: right;\">\n",
       "      <th></th>\n",
       "      <th>Sample No</th>\n",
       "      <th>P1</th>\n",
       "      <th>P2</th>\n",
       "      <th>P3</th>\n",
       "      <th>P4</th>\n",
       "      <th>P5</th>\n",
       "      <th>P6</th>\n",
       "      <th>P7</th>\n",
       "      <th>P8</th>\n",
       "      <th>R1</th>\n",
       "    </tr>\n",
       "  </thead>\n",
       "  <tbody>\n",
       "    <tr>\n",
       "      <th>0</th>\n",
       "      <td>1.0</td>\n",
       "      <td>0.01</td>\n",
       "      <td>0.0483</td>\n",
       "      <td>0.8728</td>\n",
       "      <td>0.000435</td>\n",
       "      <td>0.01</td>\n",
       "      <td>0.0483</td>\n",
       "      <td>0.8728</td>\n",
       "      <td>0.000435</td>\n",
       "      <td>0.023</td>\n",
       "    </tr>\n",
       "    <tr>\n",
       "      <th>1</th>\n",
       "      <td>2.0</td>\n",
       "      <td>0.01</td>\n",
       "      <td>0.0483</td>\n",
       "      <td>0.8728</td>\n",
       "      <td>0.000435</td>\n",
       "      <td>0.01</td>\n",
       "      <td>0.0483</td>\n",
       "      <td>0.8728</td>\n",
       "      <td>0.000435</td>\n",
       "      <td>0.008</td>\n",
       "    </tr>\n",
       "    <tr>\n",
       "      <th>2</th>\n",
       "      <td>3.0</td>\n",
       "      <td>0.01</td>\n",
       "      <td>0.0483</td>\n",
       "      <td>0.8728</td>\n",
       "      <td>0.000435</td>\n",
       "      <td>0.01</td>\n",
       "      <td>0.0483</td>\n",
       "      <td>0.8728</td>\n",
       "      <td>0.000435</td>\n",
       "      <td>0.014</td>\n",
       "    </tr>\n",
       "    <tr>\n",
       "      <th>3</th>\n",
       "      <td>4.0</td>\n",
       "      <td>0.01</td>\n",
       "      <td>0.0483</td>\n",
       "      <td>0.8728</td>\n",
       "      <td>0.000435</td>\n",
       "      <td>0.01</td>\n",
       "      <td>0.0483</td>\n",
       "      <td>0.8728</td>\n",
       "      <td>0.000435</td>\n",
       "      <td>0.011</td>\n",
       "    </tr>\n",
       "    <tr>\n",
       "      <th>5</th>\n",
       "      <td>6.0</td>\n",
       "      <td>0.01</td>\n",
       "      <td>0.0483</td>\n",
       "      <td>0.8728</td>\n",
       "      <td>0.000435</td>\n",
       "      <td>0.01</td>\n",
       "      <td>0.0483</td>\n",
       "      <td>0.8728</td>\n",
       "      <td>0.000435</td>\n",
       "      <td>0.007</td>\n",
       "    </tr>\n",
       "    <tr>\n",
       "      <th>...</th>\n",
       "      <td>...</td>\n",
       "      <td>...</td>\n",
       "      <td>...</td>\n",
       "      <td>...</td>\n",
       "      <td>...</td>\n",
       "      <td>...</td>\n",
       "      <td>...</td>\n",
       "      <td>...</td>\n",
       "      <td>...</td>\n",
       "      <td>...</td>\n",
       "    </tr>\n",
       "    <tr>\n",
       "      <th>93</th>\n",
       "      <td>94.0</td>\n",
       "      <td>0.01</td>\n",
       "      <td>0.0529</td>\n",
       "      <td>0.9350</td>\n",
       "      <td>0.000539</td>\n",
       "      <td>0.01</td>\n",
       "      <td>0.0529</td>\n",
       "      <td>0.9350</td>\n",
       "      <td>0.000539</td>\n",
       "      <td>0.020</td>\n",
       "    </tr>\n",
       "    <tr>\n",
       "      <th>95</th>\n",
       "      <td>96.0</td>\n",
       "      <td>0.01</td>\n",
       "      <td>0.0529</td>\n",
       "      <td>0.9350</td>\n",
       "      <td>0.000539</td>\n",
       "      <td>0.01</td>\n",
       "      <td>0.0529</td>\n",
       "      <td>0.9350</td>\n",
       "      <td>0.000539</td>\n",
       "      <td>0.002</td>\n",
       "    </tr>\n",
       "    <tr>\n",
       "      <th>96</th>\n",
       "      <td>97.0</td>\n",
       "      <td>0.01</td>\n",
       "      <td>0.0529</td>\n",
       "      <td>0.9350</td>\n",
       "      <td>0.000539</td>\n",
       "      <td>0.01</td>\n",
       "      <td>0.0575</td>\n",
       "      <td>0.9470</td>\n",
       "      <td>0.000694</td>\n",
       "      <td>0.013</td>\n",
       "    </tr>\n",
       "    <tr>\n",
       "      <th>97</th>\n",
       "      <td>98.0</td>\n",
       "      <td>0.01</td>\n",
       "      <td>0.0529</td>\n",
       "      <td>0.9350</td>\n",
       "      <td>0.000539</td>\n",
       "      <td>0.01</td>\n",
       "      <td>0.0575</td>\n",
       "      <td>0.9470</td>\n",
       "      <td>0.000694</td>\n",
       "      <td>0.018</td>\n",
       "    </tr>\n",
       "    <tr>\n",
       "      <th>98</th>\n",
       "      <td>99.0</td>\n",
       "      <td>0.01</td>\n",
       "      <td>0.0529</td>\n",
       "      <td>0.9350</td>\n",
       "      <td>0.000539</td>\n",
       "      <td>0.01</td>\n",
       "      <td>0.0575</td>\n",
       "      <td>0.9470</td>\n",
       "      <td>0.000694</td>\n",
       "      <td>0.019</td>\n",
       "    </tr>\n",
       "  </tbody>\n",
       "</table>\n",
       "<p>80 rows × 10 columns</p>\n",
       "</div>"
      ],
      "text/plain": [
       "    Sample No    P1      P2      P3        P4    P5      P6      P7        P8  \\\n",
       "0         1.0  0.01  0.0483  0.8728  0.000435  0.01  0.0483  0.8728  0.000435   \n",
       "1         2.0  0.01  0.0483  0.8728  0.000435  0.01  0.0483  0.8728  0.000435   \n",
       "2         3.0  0.01  0.0483  0.8728  0.000435  0.01  0.0483  0.8728  0.000435   \n",
       "3         4.0  0.01  0.0483  0.8728  0.000435  0.01  0.0483  0.8728  0.000435   \n",
       "5         6.0  0.01  0.0483  0.8728  0.000435  0.01  0.0483  0.8728  0.000435   \n",
       "..        ...   ...     ...     ...       ...   ...     ...     ...       ...   \n",
       "93       94.0  0.01  0.0529  0.9350  0.000539  0.01  0.0529  0.9350  0.000539   \n",
       "95       96.0  0.01  0.0529  0.9350  0.000539  0.01  0.0529  0.9350  0.000539   \n",
       "96       97.0  0.01  0.0529  0.9350  0.000539  0.01  0.0575  0.9470  0.000694   \n",
       "97       98.0  0.01  0.0529  0.9350  0.000539  0.01  0.0575  0.9470  0.000694   \n",
       "98       99.0  0.01  0.0529  0.9350  0.000539  0.01  0.0575  0.9470  0.000694   \n",
       "\n",
       "       R1  \n",
       "0   0.023  \n",
       "1   0.008  \n",
       "2   0.014  \n",
       "3   0.011  \n",
       "5   0.007  \n",
       "..    ...  \n",
       "93  0.020  \n",
       "95  0.002  \n",
       "96  0.013  \n",
       "97  0.018  \n",
       "98  0.019  \n",
       "\n",
       "[80 rows x 10 columns]"
      ]
     },
     "execution_count": 58,
     "metadata": {},
     "output_type": "execute_result"
    }
   ],
   "source": [
    "df.dropna(inplace=True)\n",
    "df"
   ]
  },
  {
   "cell_type": "code",
   "execution_count": 59,
   "metadata": {},
   "outputs": [
    {
     "data": {
      "text/plain": [
       "<AxesSubplot:>"
      ]
     },
     "execution_count": 59,
     "metadata": {},
     "output_type": "execute_result"
    },
    {
     "data": {
      "image/png": "[encoded data removed]",
      "text/plain": [
       "<Figure size 432x288 with 1 Axes>"
      ]
     },
     "metadata": {
      "needs_background": "light"
     },
     "output_type": "display_data"
    }
   ],
   "source": [
    "sns.heatmap(df.isnull(), yticklabels=False, cbar=False, cmap='viridis')"
   ]
  },
  {
   "cell_type": "markdown",
   "metadata": {},
   "source": [
    "Splitting data "
   ]
  },
  {
   "cell_type": "code",
   "execution_count": 60,
   "metadata": {},
   "outputs": [],
   "source": [
    "from sklearn.model_selection import train_test_split\n",
    "train, test, = train_test_split(df, test_size=0.3)\n"
   ]
  },
  {
   "cell_type": "markdown",
   "metadata": {},
   "source": [
    "Normalisation using MinMaxScaler from sklearn "
   ]
  },
  {
   "cell_type": "code",
   "execution_count": 61,
   "metadata": {},
   "outputs": [],
   "source": [
    "from sklearn.preprocessing import MinMaxScaler\n",
    "\n",
    "scaler = MinMaxScaler()\n",
    "cols = train.columns\n",
    "temp = scaler.fit_transform(train)\n",
    "train = pd.DataFrame(train,columns=cols)"
   ]
  },
  {
   "cell_type": "code",
   "execution_count": 62,
   "metadata": {},
   "outputs": [
    {
     "data": {
      "text/html": [
       "<div>\n",
       "<style scoped>\n",
       "    .dataframe tbody tr th:only-of-type {\n",
       "        vertical-align: middle;\n",
       "    }\n",
       "\n",
       "    .dataframe tbody tr th {\n",
       "        vertical-align: top;\n",
       "    }\n",
       "\n",
       "    .dataframe thead th {\n",
       "        text-align: right;\n",
       "    }\n",
       "</style>\n",
       "<table border=\"1\" class=\"dataframe\">\n",
       "  <thead>\n",
       "    <tr style=\"text-align: right;\">\n",
       "      <th></th>\n",
       "      <th>Sample No</th>\n",
       "      <th>P1</th>\n",
       "      <th>P2</th>\n",
       "      <th>P3</th>\n",
       "      <th>P4</th>\n",
       "      <th>P5</th>\n",
       "      <th>P6</th>\n",
       "      <th>P7</th>\n",
       "      <th>P8</th>\n",
       "      <th>R1</th>\n",
       "    </tr>\n",
       "  </thead>\n",
       "  <tbody>\n",
       "    <tr>\n",
       "      <th>77</th>\n",
       "      <td>78.0</td>\n",
       "      <td>0.01</td>\n",
       "      <td>0.0529</td>\n",
       "      <td>0.9350</td>\n",
       "      <td>0.000539</td>\n",
       "      <td>0.01</td>\n",
       "      <td>0.0483</td>\n",
       "      <td>0.8728</td>\n",
       "      <td>0.000435</td>\n",
       "      <td>0.026</td>\n",
       "    </tr>\n",
       "    <tr>\n",
       "      <th>17</th>\n",
       "      <td>18.0</td>\n",
       "      <td>0.01</td>\n",
       "      <td>0.0483</td>\n",
       "      <td>0.8728</td>\n",
       "      <td>0.000435</td>\n",
       "      <td>0.01</td>\n",
       "      <td>0.0529</td>\n",
       "      <td>0.9350</td>\n",
       "      <td>0.000539</td>\n",
       "      <td>0.008</td>\n",
       "    </tr>\n",
       "    <tr>\n",
       "      <th>47</th>\n",
       "      <td>48.0</td>\n",
       "      <td>0.01</td>\n",
       "      <td>0.0483</td>\n",
       "      <td>0.8728</td>\n",
       "      <td>0.000435</td>\n",
       "      <td>0.01</td>\n",
       "      <td>0.0575</td>\n",
       "      <td>0.9470</td>\n",
       "      <td>0.000694</td>\n",
       "      <td>0.012</td>\n",
       "    </tr>\n",
       "    <tr>\n",
       "      <th>25</th>\n",
       "      <td>26.0</td>\n",
       "      <td>0.01</td>\n",
       "      <td>0.0483</td>\n",
       "      <td>0.8728</td>\n",
       "      <td>0.000435</td>\n",
       "      <td>0.01</td>\n",
       "      <td>0.0529</td>\n",
       "      <td>0.9350</td>\n",
       "      <td>0.000539</td>\n",
       "      <td>0.018</td>\n",
       "    </tr>\n",
       "    <tr>\n",
       "      <th>35</th>\n",
       "      <td>36.0</td>\n",
       "      <td>0.01</td>\n",
       "      <td>0.0483</td>\n",
       "      <td>0.8728</td>\n",
       "      <td>0.000435</td>\n",
       "      <td>0.01</td>\n",
       "      <td>0.0575</td>\n",
       "      <td>0.9470</td>\n",
       "      <td>0.000694</td>\n",
       "      <td>0.003</td>\n",
       "    </tr>\n",
       "  </tbody>\n",
       "</table>\n",
       "</div>"
      ],
      "text/plain": [
       "    Sample No    P1      P2      P3        P4    P5      P6      P7        P8  \\\n",
       "77       78.0  0.01  0.0529  0.9350  0.000539  0.01  0.0483  0.8728  0.000435   \n",
       "17       18.0  0.01  0.0483  0.8728  0.000435  0.01  0.0529  0.9350  0.000539   \n",
       "47       48.0  0.01  0.0483  0.8728  0.000435  0.01  0.0575  0.9470  0.000694   \n",
       "25       26.0  0.01  0.0483  0.8728  0.000435  0.01  0.0529  0.9350  0.000539   \n",
       "35       36.0  0.01  0.0483  0.8728  0.000435  0.01  0.0575  0.9470  0.000694   \n",
       "\n",
       "       R1  \n",
       "77  0.026  \n",
       "17  0.008  \n",
       "47  0.012  \n",
       "25  0.018  \n",
       "35  0.003  "
      ]
     },
     "execution_count": 62,
     "metadata": {},
     "output_type": "execute_result"
    }
   ],
   "source": [
    "train.head()"
   ]
  },
  {
   "cell_type": "code",
   "execution_count": 63,
   "metadata": {},
   "outputs": [
    {
     "name": "stdout",
     "output_type": "stream",
     "text": [
      "<class 'pandas.core.frame.DataFrame'>\n",
      "Int64Index: 56 entries, 77 to 0\n",
      "Data columns (total 10 columns):\n",
      " #   Column     Non-Null Count  Dtype  \n",
      "---  ------     --------------  -----  \n",
      " 0   Sample No  56 non-null     float64\n",
      " 1   P1         56 non-null     float64\n",
      " 2   P2         56 non-null     float64\n",
      " 3   P3         56 non-null     float64\n",
      " 4   P4         56 non-null     float64\n",
      " 5   P5         56 non-null     float64\n",
      " 6   P6         56 non-null     float64\n",
      " 7   P7         56 non-null     float64\n",
      " 8   P8         56 non-null     float64\n",
      " 9   R1         56 non-null     float64\n",
      "dtypes: float64(10)\n",
      "memory usage: 4.8 KB\n"
     ]
    }
   ],
   "source": [
    "train.info()"
   ]
  },
  {
   "cell_type": "code",
   "execution_count": 64,
   "metadata": {},
   "outputs": [],
   "source": [
    "scaler = MinMaxScaler()\n",
    "cols = test.columns\n",
    "temp = scaler.fit_transform(test)\n",
    "test = pd.DataFrame(test,columns=cols)"
   ]
  },
  {
   "cell_type": "code",
   "execution_count": 65,
   "metadata": {},
   "outputs": [
    {
     "name": "stdout",
     "output_type": "stream",
     "text": [
      "<class 'pandas.core.frame.DataFrame'>\n",
      "Int64Index: 24 entries, 67 to 61\n",
      "Data columns (total 10 columns):\n",
      " #   Column     Non-Null Count  Dtype  \n",
      "---  ------     --------------  -----  \n",
      " 0   Sample No  24 non-null     float64\n",
      " 1   P1         24 non-null     float64\n",
      " 2   P2         24 non-null     float64\n",
      " 3   P3         24 non-null     float64\n",
      " 4   P4         24 non-null     float64\n",
      " 5   P5         24 non-null     float64\n",
      " 6   P6         24 non-null     float64\n",
      " 7   P7         24 non-null     float64\n",
      " 8   P8         24 non-null     float64\n",
      " 9   R1         24 non-null     float64\n",
      "dtypes: float64(10)\n",
      "memory usage: 2.1 KB\n"
     ]
    }
   ],
   "source": [
    "test.info()"
   ]
  },
  {
   "cell_type": "code",
   "execution_count": 66,
   "metadata": {},
   "outputs": [
    {
     "data": {
      "text/plain": [
       "<AxesSubplot:>"
      ]
     },
     "execution_count": 66,
     "metadata": {},
     "output_type": "execute_result"
    },
    {
     "data": {
      "image/png": "[encoded data removed]",
      "text/plain": [
       "<Figure size 432x288 with 1 Axes>"
      ]
     },
     "metadata": {
      "needs_background": "light"
     },
     "output_type": "display_data"
    }
   ],
   "source": [
    "test.boxplot()"
   ]
  },
  {
   "cell_type": "markdown",
   "metadata": {},
   "source": [
    "## Correlation"
   ]
  },
  {
   "cell_type": "code",
   "execution_count": 67,
   "metadata": {},
   "outputs": [
    {
     "data": {
      "text/plain": [
       "Sample No   -0.094219\n",
       "P1                NaN\n",
       "P2          -0.152310\n",
       "P3          -0.152310\n",
       "P4          -0.152310\n",
       "P5                NaN\n",
       "P6           0.142548\n",
       "P7           0.044616\n",
       "P8           0.122480\n",
       "R1           1.000000\n",
       "Name: R1, dtype: float64"
      ]
     },
     "execution_count": 67,
     "metadata": {},
     "output_type": "execute_result"
    }
   ],
   "source": [
    "correlation = df.corr()\n",
    "correlation['R1']"
   ]
  },
  {
   "cell_type": "code",
   "execution_count": 68,
   "metadata": {},
   "outputs": [
    {
     "data": {
      "text/plain": [
       "<AxesSubplot:>"
      ]
     },
     "execution_count": 68,
     "metadata": {},
     "output_type": "execute_result"
    },
    {
     "data": {
      "image/png": "[encoded data removed]",
      "text/plain": [
       "<Figure size 432x288 with 2 Axes>"
      ]
     },
     "metadata": {
      "needs_background": "light"
     },
     "output_type": "display_data"
    }
   ],
   "source": [
    "sns.heatmap(correlation, cmap='YlGnBu')"
   ]
  },
  {
   "cell_type": "markdown",
   "metadata": {},
   "source": [
    "Factors chosen: P2,P3,P4 (Negative correlation), P6,P8 (positive correlation)"
   ]
  },
  {
   "cell_type": "code",
   "execution_count": 69,
   "metadata": {},
   "outputs": [],
   "source": [
    "from sklearn.linear_model import LinearRegression\n",
    "x = train[['P2','P3','P4','P6','P8']]\n",
    "y = train['R1']"
   ]
  },
  {
   "cell_type": "code",
   "execution_count": 70,
   "metadata": {},
   "outputs": [
    {
     "data": {
      "text/html": [
       "<div>\n",
       "<style scoped>\n",
       "    .dataframe tbody tr th:only-of-type {\n",
       "        vertical-align: middle;\n",
       "    }\n",
       "\n",
       "    .dataframe tbody tr th {\n",
       "        vertical-align: top;\n",
       "    }\n",
       "\n",
       "    .dataframe thead th {\n",
       "        text-align: right;\n",
       "    }\n",
       "</style>\n",
       "<table border=\"1\" class=\"dataframe\">\n",
       "  <thead>\n",
       "    <tr style=\"text-align: right;\">\n",
       "      <th></th>\n",
       "      <th>P2</th>\n",
       "      <th>P3</th>\n",
       "      <th>P4</th>\n",
       "      <th>P6</th>\n",
       "      <th>P8</th>\n",
       "    </tr>\n",
       "  </thead>\n",
       "  <tbody>\n",
       "    <tr>\n",
       "      <th>77</th>\n",
       "      <td>0.0529</td>\n",
       "      <td>0.9350</td>\n",
       "      <td>0.000539</td>\n",
       "      <td>0.0483</td>\n",
       "      <td>0.000435</td>\n",
       "    </tr>\n",
       "    <tr>\n",
       "      <th>17</th>\n",
       "      <td>0.0483</td>\n",
       "      <td>0.8728</td>\n",
       "      <td>0.000435</td>\n",
       "      <td>0.0529</td>\n",
       "      <td>0.000539</td>\n",
       "    </tr>\n",
       "    <tr>\n",
       "      <th>47</th>\n",
       "      <td>0.0483</td>\n",
       "      <td>0.8728</td>\n",
       "      <td>0.000435</td>\n",
       "      <td>0.0575</td>\n",
       "      <td>0.000694</td>\n",
       "    </tr>\n",
       "    <tr>\n",
       "      <th>25</th>\n",
       "      <td>0.0483</td>\n",
       "      <td>0.8728</td>\n",
       "      <td>0.000435</td>\n",
       "      <td>0.0529</td>\n",
       "      <td>0.000539</td>\n",
       "    </tr>\n",
       "    <tr>\n",
       "      <th>35</th>\n",
       "      <td>0.0483</td>\n",
       "      <td>0.8728</td>\n",
       "      <td>0.000435</td>\n",
       "      <td>0.0575</td>\n",
       "      <td>0.000694</td>\n",
       "    </tr>\n",
       "  </tbody>\n",
       "</table>\n",
       "</div>"
      ],
      "text/plain": [
       "        P2      P3        P4      P6        P8\n",
       "77  0.0529  0.9350  0.000539  0.0483  0.000435\n",
       "17  0.0483  0.8728  0.000435  0.0529  0.000539\n",
       "47  0.0483  0.8728  0.000435  0.0575  0.000694\n",
       "25  0.0483  0.8728  0.000435  0.0529  0.000539\n",
       "35  0.0483  0.8728  0.000435  0.0575  0.000694"
      ]
     },
     "execution_count": 70,
     "metadata": {},
     "output_type": "execute_result"
    }
   ],
   "source": [
    "x.head()"
   ]
  },
  {
   "cell_type": "code",
   "execution_count": 71,
   "metadata": {},
   "outputs": [
    {
     "data": {
      "text/plain": [
       "77    0.026\n",
       "17    0.008\n",
       "47    0.012\n",
       "25    0.018\n",
       "35    0.003\n",
       "Name: R1, dtype: float64"
      ]
     },
     "execution_count": 71,
     "metadata": {},
     "output_type": "execute_result"
    }
   ],
   "source": [
    "y.head()"
   ]
  },
  {
   "cell_type": "markdown",
   "metadata": {},
   "source": [
    "## iv) Using p values to eliminate variables\n"
   ]
  },
  {
   "cell_type": "code",
   "execution_count": 72,
   "metadata": {},
   "outputs": [
    {
     "name": "stdout",
     "output_type": "stream",
     "text": [
      "                            OLS Regression Results                            \n",
      "==============================================================================\n",
      "Dep. Variable:                     R1   R-squared:                       0.012\n",
      "Model:                            OLS   Adj. R-squared:                 -0.045\n",
      "Method:                 Least Squares   F-statistic:                    0.2133\n",
      "Date:                Sun, 06 Feb 2022   Prob (F-statistic):              0.887\n",
      "Time:                        23:28:32   Log-Likelihood:                 194.88\n",
      "No. Observations:                  56   AIC:                            -381.8\n",
      "Df Residuals:                      52   BIC:                            -373.7\n",
      "Df Model:                           3                                         \n",
      "Covariance Type:            nonrobust                                         \n",
      "==============================================================================\n",
      "                 coef    std err          t      P>|t|      [0.025      0.975]\n",
      "------------------------------------------------------------------------------\n",
      "const          0.0250      0.041      0.615      0.541      -0.057       0.107\n",
      "x1            -0.0014      0.003     -0.420      0.676      -0.008       0.005\n",
      "x2            -0.0137      0.038     -0.364      0.718      -0.089       0.062\n",
      "x3         -4.858e-05      0.000     -0.478      0.635      -0.000       0.000\n",
      "x4             0.0105      0.688      0.015      0.988      -1.370       1.391\n",
      "x5             3.9322     33.204      0.118      0.906     -62.696      70.560\n",
      "==============================================================================\n",
      "Omnibus:                        7.717   Durbin-Watson:                   2.139\n",
      "Prob(Omnibus):                  0.021   Jarque-Bera (JB):                2.589\n",
      "Skew:                           0.032   Prob(JB):                        0.274\n",
      "Kurtosis:                       1.948   Cond. No.                     2.94e+19\n",
      "==============================================================================\n",
      "\n",
      "Notes:\n",
      "[1] Standard Errors assume that the covariance matrix of the errors is correctly specified.\n",
      "[2] The smallest eigenvalue is 1.17e-37. This might indicate that there are\n",
      "strong multicollinearity problems or that the design matrix is singular.\n"
     ]
    }
   ],
   "source": [
    "import statsmodels.api as sm \n",
    "from statsmodels.api import OLS\n",
    "\n",
    "x_train = np.column_stack((x['P2'],x['P3'],x['P4'],x['P6'],x['P8'])) \n",
    "y_train = y\n",
    "x_train = sm.add_constant(x_train)\n",
    "estimate = OLS(y_train, x_train).fit()\n",
    "print(estimate.summary())"
   ]
  },
  {
   "cell_type": "markdown",
   "metadata": {},
   "source": [
    "Based off of the P Values, we drop the ones with the highest p values and so 'P6' is dropped."
   ]
  },
  {
   "cell_type": "code",
   "execution_count": 73,
   "metadata": {},
   "outputs": [],
   "source": [
    "x = x.drop(columns='P6')"
   ]
  },
  {
   "cell_type": "code",
   "execution_count": 74,
   "metadata": {},
   "outputs": [
    {
     "name": "stdout",
     "output_type": "stream",
     "text": [
      "                            OLS Regression Results                            \n",
      "==============================================================================\n",
      "Dep. Variable:                     R1   R-squared:                       0.012\n",
      "Model:                            OLS   Adj. R-squared:                 -0.025\n",
      "Method:                 Least Squares   F-statistic:                    0.3260\n",
      "Date:                Sun, 06 Feb 2022   Prob (F-statistic):              0.723\n",
      "Time:                        23:28:32   Log-Likelihood:                 194.88\n",
      "No. Observations:                  56   AIC:                            -383.8\n",
      "Df Residuals:                      53   BIC:                            -377.7\n",
      "Df Model:                           2                                         \n",
      "Covariance Type:            nonrobust                                         \n",
      "==============================================================================\n",
      "                 coef    std err          t      P>|t|      [0.025      0.975]\n",
      "------------------------------------------------------------------------------\n",
      "const          0.0253      0.035      0.714      0.479      -0.046       0.096\n",
      "x1            -0.0014      0.003     -0.427      0.671      -0.008       0.005\n",
      "x2            -0.0137      0.037     -0.367      0.715      -0.089       0.061\n",
      "x3         -4.889e-05   9.87e-05     -0.496      0.622      -0.000       0.000\n",
      "x4             4.4242      8.125      0.545      0.588     -11.872      20.720\n",
      "==============================================================================\n",
      "Omnibus:                        7.729   Durbin-Watson:                   2.140\n",
      "Prob(Omnibus):                  0.021   Jarque-Bera (JB):                2.591\n",
      "Skew:                           0.031   Prob(JB):                        0.274\n",
      "Kurtosis:                       1.948   Cond. No.                     2.56e+19\n",
      "==============================================================================\n",
      "\n",
      "Notes:\n",
      "[1] Standard Errors assume that the covariance matrix of the errors is correctly specified.\n",
      "[2] The smallest eigenvalue is 1.53e-37. This might indicate that there are\n",
      "strong multicollinearity problems or that the design matrix is singular.\n"
     ]
    }
   ],
   "source": [
    "x_train = np.column_stack((x['P2'],x['P3'],x['P4'],x['P8'])) \n",
    "y_train = y\n",
    "x_train = sm.add_constant(x_train)\n",
    "estimate = OLS(y_train, x_train).fit()\n",
    "print(estimate.summary())"
   ]
  },
  {
   "cell_type": "code",
   "execution_count": 75,
   "metadata": {},
   "outputs": [
    {
     "data": {
      "text/html": [
       "<div>\n",
       "<style scoped>\n",
       "    .dataframe tbody tr th:only-of-type {\n",
       "        vertical-align: middle;\n",
       "    }\n",
       "\n",
       "    .dataframe tbody tr th {\n",
       "        vertical-align: top;\n",
       "    }\n",
       "\n",
       "    .dataframe thead th {\n",
       "        text-align: right;\n",
       "    }\n",
       "</style>\n",
       "<table border=\"1\" class=\"dataframe\">\n",
       "  <thead>\n",
       "    <tr style=\"text-align: right;\">\n",
       "      <th></th>\n",
       "      <th>variables</th>\n",
       "      <th>VIF</th>\n",
       "    </tr>\n",
       "  </thead>\n",
       "  <tbody>\n",
       "    <tr>\n",
       "      <th>0</th>\n",
       "      <td>P2</td>\n",
       "      <td>inf</td>\n",
       "    </tr>\n",
       "    <tr>\n",
       "      <th>1</th>\n",
       "      <td>P3</td>\n",
       "      <td>inf</td>\n",
       "    </tr>\n",
       "    <tr>\n",
       "      <th>2</th>\n",
       "      <td>P4</td>\n",
       "      <td>inf</td>\n",
       "    </tr>\n",
       "    <tr>\n",
       "      <th>3</th>\n",
       "      <td>P8</td>\n",
       "      <td>1.139943</td>\n",
       "    </tr>\n",
       "  </tbody>\n",
       "</table>\n",
       "</div>"
      ],
      "text/plain": [
       "  variables       VIF\n",
       "0        P2       inf\n",
       "1        P3       inf\n",
       "2        P4       inf\n",
       "3        P8  1.139943"
      ]
     },
     "execution_count": 75,
     "metadata": {},
     "output_type": "execute_result"
    }
   ],
   "source": [
    "from statsmodels.stats.outliers_influence import variance_inflation_factor\n",
    "vif  = pd.DataFrame()\n",
    "vif['variables'] = x.columns\n",
    "vif['VIF'] = [variance_inflation_factor(x.values, i) for i in range(x.shape[1])]\n",
    "vif"
   ]
  },
  {
   "cell_type": "code",
   "execution_count": 76,
   "metadata": {},
   "outputs": [],
   "source": [
    "x = x.drop(columns='P2')"
   ]
  },
  {
   "cell_type": "code",
   "execution_count": 77,
   "metadata": {},
   "outputs": [
    {
     "data": {
      "text/html": [
       "<div>\n",
       "<style scoped>\n",
       "    .dataframe tbody tr th:only-of-type {\n",
       "        vertical-align: middle;\n",
       "    }\n",
       "\n",
       "    .dataframe tbody tr th {\n",
       "        vertical-align: top;\n",
       "    }\n",
       "\n",
       "    .dataframe thead th {\n",
       "        text-align: right;\n",
       "    }\n",
       "</style>\n",
       "<table border=\"1\" class=\"dataframe\">\n",
       "  <thead>\n",
       "    <tr style=\"text-align: right;\">\n",
       "      <th></th>\n",
       "      <th>variables</th>\n",
       "      <th>VIF</th>\n",
       "    </tr>\n",
       "  </thead>\n",
       "  <tbody>\n",
       "    <tr>\n",
       "      <th>0</th>\n",
       "      <td>P3</td>\n",
       "      <td>342.751897</td>\n",
       "    </tr>\n",
       "    <tr>\n",
       "      <th>1</th>\n",
       "      <td>P4</td>\n",
       "      <td>254.570948</td>\n",
       "    </tr>\n",
       "    <tr>\n",
       "      <th>2</th>\n",
       "      <td>P8</td>\n",
       "      <td>1.139943</td>\n",
       "    </tr>\n",
       "  </tbody>\n",
       "</table>\n",
       "</div>"
      ],
      "text/plain": [
       "  variables         VIF\n",
       "0        P3  342.751897\n",
       "1        P4  254.570948\n",
       "2        P8    1.139943"
      ]
     },
     "execution_count": 77,
     "metadata": {},
     "output_type": "execute_result"
    }
   ],
   "source": [
    "vif  = pd.DataFrame()\n",
    "vif['variables'] = x.columns\n",
    "vif['VIF'] = [variance_inflation_factor(x.values, i) for i in range(x.shape[1])]\n",
    "vif"
   ]
  },
  {
   "cell_type": "code",
   "execution_count": 78,
   "metadata": {},
   "outputs": [],
   "source": [
    "x = x.drop(columns='P3')"
   ]
  },
  {
   "cell_type": "code",
   "execution_count": 79,
   "metadata": {},
   "outputs": [
    {
     "data": {
      "text/html": [
       "<div>\n",
       "<style scoped>\n",
       "    .dataframe tbody tr th:only-of-type {\n",
       "        vertical-align: middle;\n",
       "    }\n",
       "\n",
       "    .dataframe tbody tr th {\n",
       "        vertical-align: top;\n",
       "    }\n",
       "\n",
       "    .dataframe thead th {\n",
       "        text-align: right;\n",
       "    }\n",
       "</style>\n",
       "<table border=\"1\" class=\"dataframe\">\n",
       "  <thead>\n",
       "    <tr style=\"text-align: right;\">\n",
       "      <th></th>\n",
       "      <th>variables</th>\n",
       "      <th>VIF</th>\n",
       "    </tr>\n",
       "  </thead>\n",
       "  <tbody>\n",
       "    <tr>\n",
       "      <th>0</th>\n",
       "      <td>P4</td>\n",
       "      <td>12.951801</td>\n",
       "    </tr>\n",
       "    <tr>\n",
       "      <th>1</th>\n",
       "      <td>P8</td>\n",
       "      <td>12.951801</td>\n",
       "    </tr>\n",
       "  </tbody>\n",
       "</table>\n",
       "</div>"
      ],
      "text/plain": [
       "  variables        VIF\n",
       "0        P4  12.951801\n",
       "1        P8  12.951801"
      ]
     },
     "execution_count": 79,
     "metadata": {},
     "output_type": "execute_result"
    }
   ],
   "source": [
    "vif  = pd.DataFrame()\n",
    "vif['variables'] = x.columns\n",
    "vif['VIF'] = [variance_inflation_factor(x.values, i) for i in range(x.shape[1])]\n",
    "vif"
   ]
  },
  {
   "cell_type": "code",
   "execution_count": 80,
   "metadata": {},
   "outputs": [
    {
     "name": "stdout",
     "output_type": "stream",
     "text": [
      "Intercept:  0.01686956299421057\n",
      "Coefficient:  [-8.27315318  4.42418282]\n",
      "                            OLS Regression Results                            \n",
      "==============================================================================\n",
      "Dep. Variable:                     R1   R-squared:                       0.012\n",
      "Model:                            OLS   Adj. R-squared:                 -0.025\n",
      "Method:                 Least Squares   F-statistic:                    0.3260\n",
      "Date:                Sun, 06 Feb 2022   Prob (F-statistic):              0.723\n",
      "Time:                        23:28:32   Log-Likelihood:                 194.88\n",
      "No. Observations:                  56   AIC:                            -383.8\n",
      "Df Residuals:                      53   BIC:                            -377.7\n",
      "Df Model:                           2                                         \n",
      "Covariance Type:            nonrobust                                         \n",
      "==============================================================================\n",
      "                 coef    std err          t      P>|t|      [0.025      0.975]\n",
      "------------------------------------------------------------------------------\n",
      "const          0.0169      0.013      1.298      0.200      -0.009       0.043\n",
      "x1            -8.2732     22.507     -0.368      0.715     -53.417      36.871\n",
      "x2             4.4242      8.125      0.545      0.588     -11.872      20.720\n",
      "==============================================================================\n",
      "Omnibus:                        7.729   Durbin-Watson:                   2.140\n",
      "Prob(Omnibus):                  0.021   Jarque-Bera (JB):                2.591\n",
      "Skew:                           0.031   Prob(JB):                        0.274\n",
      "Kurtosis:                       1.948   Cond. No.                     2.22e+04\n",
      "==============================================================================\n",
      "\n",
      "Notes:\n",
      "[1] Standard Errors assume that the covariance matrix of the errors is correctly specified.\n",
      "[2] The condition number is large, 2.22e+04. This might indicate that there are\n",
      "strong multicollinearity or other numerical problems.\n"
     ]
    }
   ],
   "source": [
    "regression_model = LinearRegression()\n",
    "regression_model.fit(x,y)\n",
    "print(\"Intercept: \",regression_model.intercept_)\n",
    "print(\"Coefficient: \",regression_model.coef_)\n",
    "\n",
    "x_train = np.column_stack((x['P4'],x['P8'])) \n",
    "y_train = y\n",
    "x_train = sm.add_constant(x_train)\n",
    "estimate = OLS(y_train, x_train).fit()\n",
    "print(estimate.summary())"
   ]
  },
  {
   "cell_type": "code",
   "execution_count": 81,
   "metadata": {},
   "outputs": [
    {
     "name": "stdout",
     "output_type": "stream",
     "text": [
      "Regression Equation: \n",
      "Y = 0.017+ (-8.273)P4 + (4.424)P8\n"
     ]
    }
   ],
   "source": [
    "print(\"Regression Equation: \")\n",
    "yx = f\"Y = {regression_model.intercept_.round(3)}+ ({regression_model.coef_[0].round(3)})P4 + ({regression_model.coef_[1].round(3)})P8\"\n",
    "print(yx)"
   ]
  },
  {
   "cell_type": "markdown",
   "metadata": {},
   "source": [
    "Dropping other variables improved R-Squared but the metrics shows there isn't high correlation between the given variables and R1"
   ]
  },
  {
   "cell_type": "markdown",
   "metadata": {},
   "source": [
    "## Vi)"
   ]
  },
  {
   "cell_type": "code",
   "execution_count": 82,
   "metadata": {},
   "outputs": [
    {
     "data": {
      "text/plain": [
       "[<matplotlib.lines.Line2D at 0x25942410ac0>]"
      ]
     },
     "execution_count": 82,
     "metadata": {},
     "output_type": "execute_result"
    },
    {
     "data": {
      "image/png": "[encoded data removed]",
      "text/plain": [
       "<Figure size 432x288 with 1 Axes>"
      ]
     },
     "metadata": {
      "needs_background": "light"
     },
     "output_type": "display_data"
    }
   ],
   "source": [
    "eqn = x*regression_model.coef_\n",
    "eqn = eqn.sum(axis=1)+ regression_model.intercept_\n",
    "\n",
    "import matplotlib.pyplot as plt\n",
    "plt.scatter(x['P4'],y)\n",
    "plt.plot(x['P4'],eqn)"
   ]
  },
  {
   "cell_type": "code",
   "execution_count": 83,
   "metadata": {},
   "outputs": [
    {
     "data": {
      "text/plain": [
       "Text(0.5, 0, 'P6')"
      ]
     },
     "execution_count": 83,
     "metadata": {},
     "output_type": "execute_result"
    },
    {
     "data": {
      "image/png": "[encoded data removed]",
      "text/plain": [
       "<Figure size 432x288 with 1 Axes>"
      ]
     },
     "metadata": {
      "needs_background": "light"
     },
     "output_type": "display_data"
    }
   ],
   "source": [
    "d3plot = plt.figure().gca(projection='3d')\n",
    "d3plot.view_init(azim=135)\n",
    "d3plot.plot_trisurf(x['P4'].values,x['P8'].values,eqn, alpha=0.7, antialiased=True)\n",
    "d3plot.plot_trisurf(x['P4'].values,x['P8'].values,y, alpha=0.7, antialiased=True, color='red')\n",
    "d3plot.set_xlabel(\"P4\")\n",
    "d3plot.set_xlabel(\"P6\")"
   ]
  },
  {
   "cell_type": "markdown",
   "metadata": {},
   "source": [
    "## Vii) Predictions"
   ]
  },
  {
   "cell_type": "code",
   "execution_count": 84,
   "metadata": {},
   "outputs": [
    {
     "data": {
      "text/plain": [
       "<matplotlib.legend.Legend at 0x259424df550>"
      ]
     },
     "execution_count": 84,
     "metadata": {},
     "output_type": "execute_result"
    },
    {
     "data": {
      "image/png": "[encoded data removed]",
      "text/plain": [
       "<Figure size 432x288 with 1 Axes>"
      ]
     },
     "metadata": {
      "needs_background": "light"
     },
     "output_type": "display_data"
    }
   ],
   "source": [
    "x_test = test[['P4','P8']]\n",
    "y_test = test['R1']\n",
    "\n",
    "n = np.arange(x_test.shape[0])\n",
    "\n",
    "results = regression_model.predict(x_test)\n",
    "plt.plot(n,results,label='predicted R1')\n",
    "\n",
    "plt.plot(n,y_test,label='Actual R1')\n",
    "plt.legend()"
   ]
  },
  {
   "cell_type": "code",
   "execution_count": 85,
   "metadata": {},
   "outputs": [
    {
     "data": {
      "text/html": [
       "<div>\n",
       "<style scoped>\n",
       "    .dataframe tbody tr th:only-of-type {\n",
       "        vertical-align: middle;\n",
       "    }\n",
       "\n",
       "    .dataframe tbody tr th {\n",
       "        vertical-align: top;\n",
       "    }\n",
       "\n",
       "    .dataframe thead th {\n",
       "        text-align: right;\n",
       "    }\n",
       "</style>\n",
       "<table border=\"1\" class=\"dataframe\">\n",
       "  <thead>\n",
       "    <tr style=\"text-align: right;\">\n",
       "      <th></th>\n",
       "      <th>predicted R1</th>\n",
       "      <th>Actual R1</th>\n",
       "    </tr>\n",
       "  </thead>\n",
       "  <tbody>\n",
       "    <tr>\n",
       "      <th>0</th>\n",
       "      <td>0.014335</td>\n",
       "      <td>0.011</td>\n",
       "    </tr>\n",
       "    <tr>\n",
       "      <th>1</th>\n",
       "      <td>0.015481</td>\n",
       "      <td>0.013</td>\n",
       "    </tr>\n",
       "    <tr>\n",
       "      <th>2</th>\n",
       "      <td>0.014335</td>\n",
       "      <td>0.008</td>\n",
       "    </tr>\n",
       "    <tr>\n",
       "      <th>3</th>\n",
       "      <td>0.014795</td>\n",
       "      <td>0.021</td>\n",
       "    </tr>\n",
       "    <tr>\n",
       "      <th>4</th>\n",
       "      <td>0.014795</td>\n",
       "      <td>0.023</td>\n",
       "    </tr>\n",
       "    <tr>\n",
       "      <th>5</th>\n",
       "      <td>0.014335</td>\n",
       "      <td>0.006</td>\n",
       "    </tr>\n",
       "    <tr>\n",
       "      <th>6</th>\n",
       "      <td>0.015195</td>\n",
       "      <td>0.022</td>\n",
       "    </tr>\n",
       "    <tr>\n",
       "      <th>7</th>\n",
       "      <td>0.016885</td>\n",
       "      <td>0.020</td>\n",
       "    </tr>\n",
       "    <tr>\n",
       "      <th>8</th>\n",
       "      <td>0.016885</td>\n",
       "      <td>0.022</td>\n",
       "    </tr>\n",
       "    <tr>\n",
       "      <th>9</th>\n",
       "      <td>0.014795</td>\n",
       "      <td>0.026</td>\n",
       "    </tr>\n",
       "    <tr>\n",
       "      <th>10</th>\n",
       "      <td>0.014795</td>\n",
       "      <td>0.011</td>\n",
       "    </tr>\n",
       "    <tr>\n",
       "      <th>11</th>\n",
       "      <td>0.016341</td>\n",
       "      <td>0.023</td>\n",
       "    </tr>\n",
       "    <tr>\n",
       "      <th>12</th>\n",
       "      <td>0.015655</td>\n",
       "      <td>0.027</td>\n",
       "    </tr>\n",
       "    <tr>\n",
       "      <th>13</th>\n",
       "      <td>0.015195</td>\n",
       "      <td>0.016</td>\n",
       "    </tr>\n",
       "    <tr>\n",
       "      <th>14</th>\n",
       "      <td>0.015655</td>\n",
       "      <td>0.017</td>\n",
       "    </tr>\n",
       "    <tr>\n",
       "      <th>15</th>\n",
       "      <td>0.015195</td>\n",
       "      <td>0.029</td>\n",
       "    </tr>\n",
       "    <tr>\n",
       "      <th>16</th>\n",
       "      <td>0.016341</td>\n",
       "      <td>0.011</td>\n",
       "    </tr>\n",
       "    <tr>\n",
       "      <th>17</th>\n",
       "      <td>0.014795</td>\n",
       "      <td>0.002</td>\n",
       "    </tr>\n",
       "    <tr>\n",
       "      <th>18</th>\n",
       "      <td>0.014335</td>\n",
       "      <td>0.016</td>\n",
       "    </tr>\n",
       "    <tr>\n",
       "      <th>19</th>\n",
       "      <td>0.016341</td>\n",
       "      <td>0.002</td>\n",
       "    </tr>\n",
       "    <tr>\n",
       "      <th>20</th>\n",
       "      <td>0.015655</td>\n",
       "      <td>0.011</td>\n",
       "    </tr>\n",
       "    <tr>\n",
       "      <th>21</th>\n",
       "      <td>0.016885</td>\n",
       "      <td>0.030</td>\n",
       "    </tr>\n",
       "    <tr>\n",
       "      <th>22</th>\n",
       "      <td>0.016885</td>\n",
       "      <td>0.016</td>\n",
       "    </tr>\n",
       "    <tr>\n",
       "      <th>23</th>\n",
       "      <td>0.016885</td>\n",
       "      <td>0.018</td>\n",
       "    </tr>\n",
       "  </tbody>\n",
       "</table>\n",
       "</div>"
      ],
      "text/plain": [
       "    predicted R1  Actual R1\n",
       "0       0.014335      0.011\n",
       "1       0.015481      0.013\n",
       "2       0.014335      0.008\n",
       "3       0.014795      0.021\n",
       "4       0.014795      0.023\n",
       "5       0.014335      0.006\n",
       "6       0.015195      0.022\n",
       "7       0.016885      0.020\n",
       "8       0.016885      0.022\n",
       "9       0.014795      0.026\n",
       "10      0.014795      0.011\n",
       "11      0.016341      0.023\n",
       "12      0.015655      0.027\n",
       "13      0.015195      0.016\n",
       "14      0.015655      0.017\n",
       "15      0.015195      0.029\n",
       "16      0.016341      0.011\n",
       "17      0.014795      0.002\n",
       "18      0.014335      0.016\n",
       "19      0.016341      0.002\n",
       "20      0.015655      0.011\n",
       "21      0.016885      0.030\n",
       "22      0.016885      0.016\n",
       "23      0.016885      0.018"
      ]
     },
     "execution_count": 85,
     "metadata": {},
     "output_type": "execute_result"
    }
   ],
   "source": [
    "test.reset_index(inplace=True)\n",
    "tabulation = pd.DataFrame()\n",
    "tabulation['predicted R1'] = results \n",
    "tabulation['Actual R1'] = test['R1']\n",
    "tabulation"
   ]
  },
  {
   "cell_type": "code",
   "execution_count": 86,
   "metadata": {},
   "outputs": [],
   "source": [
    "MAE = metrics.mean_absolute_error(y_test,results)\n",
    "MSE = metrics.mean_squared_error(y_test,results)\n",
    "RMSE = np.sqrt(MSE)\n",
    "R_squared = estimate.rsquared\n",
    "adjusted_R_squared = estimate.rsquared_adj"
   ]
  },
  {
   "cell_type": "code",
   "execution_count": 87,
   "metadata": {},
   "outputs": [
    {
     "name": "stdout",
     "output_type": "stream",
     "text": [
      "Input Variable Names    Regression                                 MSE         MAE        RMSE    R-Squared    Adjusted R-Squared\n",
      "----------------------  ---------------------------------  -----------  ----------  ----------  -----------  --------------------\n",
      "['P4', 'P8']            Y = 0.017+ (-8.273)P4 + (4.424)P8  5.90526e-05  0.00636665  0.00768457    0.0121513             -0.025126\n"
     ]
    }
   ],
   "source": [
    "table_testing = [\n",
    "                ['Input Variable Names', 'Regression', 'MSE', 'MAE', 'RMSE', 'R-Squared', 'Adjusted R-Squared'],\n",
    "                [[x.columns[0],x.columns[1]], yx, MSE, MAE, RMSE, R_squared, adjusted_R_squared]\n",
    "                ]\n",
    "print(tabulate(table_testing, headers='firstrow'))"
   ]
  }
 ],
 "metadata": {
  "interpreter": {
   "hash": "aee8b7b246df8f9039afb4144a1f6fd8d2ca17a180786b69acc140d282b71a49"
  },
  "kernelspec": {
   "display_name": "Python 3.9.10 64-bit",
   "language": "python",
   "name": "python3"
  },
  "language_info": {
   "codemirror_mode": {
    "name": "ipython",
    "version": 3
   },
   "file_extension": ".py",
   "mimetype": "text/x-python",
   "name": "python",
   "nbconvert_exporter": "python",
   "pygments_lexer": "ipython3",
   "version": "3.9.0"
  },
  "orig_nbformat": 4
 },
 "nbformat": 4,
 "nbformat_minor": 2
}
