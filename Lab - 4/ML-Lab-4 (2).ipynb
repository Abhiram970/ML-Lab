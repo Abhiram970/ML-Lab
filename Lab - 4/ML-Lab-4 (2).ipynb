{
 "cells": [
  {
   "cell_type": "code",
   "execution_count": 12,
   "metadata": {},
   "outputs": [],
   "source": [
    "import pandas as pd\n",
    "import numpy as np\n",
    "import seaborn as sns\n",
    "import warnings\n",
    "from tabulate import tabulate\n",
    "from sklearn import metrics\n",
    "\n",
    "import warnings\n",
    "warnings.filterwarnings('ignore')"
   ]
  },
  {
   "cell_type": "code",
   "execution_count": 13,
   "metadata": {},
   "outputs": [],
   "source": [
    "train = pd.read_csv('Lab-CSE1015-Data_Regression-test.csv')"
   ]
  },
  {
   "cell_type": "markdown",
   "metadata": {},
   "source": [
    "## Exploring Data\n",
    "\n",
    "### 1. Question 1 - pre-processing "
   ]
  },
  {
   "cell_type": "code",
   "execution_count": 14,
   "metadata": {},
   "outputs": [
    {
     "data": {
      "text/html": [
       "<div>\n",
       "<style scoped>\n",
       "    .dataframe tbody tr th:only-of-type {\n",
       "        vertical-align: middle;\n",
       "    }\n",
       "\n",
       "    .dataframe tbody tr th {\n",
       "        vertical-align: top;\n",
       "    }\n",
       "\n",
       "    .dataframe thead th {\n",
       "        text-align: right;\n",
       "    }\n",
       "</style>\n",
       "<table border=\"1\" class=\"dataframe\">\n",
       "  <thead>\n",
       "    <tr style=\"text-align: right;\">\n",
       "      <th></th>\n",
       "      <th>Sample No</th>\n",
       "      <th>P1</th>\n",
       "      <th>P2</th>\n",
       "      <th>P3</th>\n",
       "      <th>P4</th>\n",
       "      <th>P5</th>\n",
       "      <th>P6</th>\n",
       "      <th>P7</th>\n",
       "      <th>P8</th>\n",
       "      <th>Unnamed: 9</th>\n",
       "      <th>R1</th>\n",
       "      <th>Unnamed: 11</th>\n",
       "      <th>Unnamed: 12</th>\n",
       "    </tr>\n",
       "  </thead>\n",
       "  <tbody>\n",
       "    <tr>\n",
       "      <th>0</th>\n",
       "      <td>5</td>\n",
       "      <td>0.01</td>\n",
       "      <td>0.0483</td>\n",
       "      <td>0.8728</td>\n",
       "      <td>0.000435</td>\n",
       "      <td>0.01</td>\n",
       "      <td>0.0483</td>\n",
       "      <td>0.8728</td>\n",
       "      <td>0.000435</td>\n",
       "      <td>NaN</td>\n",
       "      <td>0.027</td>\n",
       "      <td>NaN</td>\n",
       "      <td>NaN</td>\n",
       "    </tr>\n",
       "    <tr>\n",
       "      <th>1</th>\n",
       "      <td>10</td>\n",
       "      <td>0.01</td>\n",
       "      <td>0.0483</td>\n",
       "      <td>0.8728</td>\n",
       "      <td>0.000435</td>\n",
       "      <td>0.01</td>\n",
       "      <td>0.0483</td>\n",
       "      <td>0.8728</td>\n",
       "      <td>0.000435</td>\n",
       "      <td>NaN</td>\n",
       "      <td>0.003</td>\n",
       "      <td>NaN</td>\n",
       "      <td>NaN</td>\n",
       "    </tr>\n",
       "    <tr>\n",
       "      <th>2</th>\n",
       "      <td>15</td>\n",
       "      <td>0.01</td>\n",
       "      <td>0.0483</td>\n",
       "      <td>0.8728</td>\n",
       "      <td>0.000435</td>\n",
       "      <td>0.01</td>\n",
       "      <td>0.0483</td>\n",
       "      <td>0.8728</td>\n",
       "      <td>0.000435</td>\n",
       "      <td>NaN</td>\n",
       "      <td>0.012</td>\n",
       "      <td>NaN</td>\n",
       "      <td>NaN</td>\n",
       "    </tr>\n",
       "    <tr>\n",
       "      <th>3</th>\n",
       "      <td>20</td>\n",
       "      <td>0.01</td>\n",
       "      <td>0.0483</td>\n",
       "      <td>0.8728</td>\n",
       "      <td>0.000435</td>\n",
       "      <td>0.01</td>\n",
       "      <td>0.0529</td>\n",
       "      <td>0.9350</td>\n",
       "      <td>0.000539</td>\n",
       "      <td>NaN</td>\n",
       "      <td>0.026</td>\n",
       "      <td>NaN</td>\n",
       "      <td>NaN</td>\n",
       "    </tr>\n",
       "    <tr>\n",
       "      <th>4</th>\n",
       "      <td>25</td>\n",
       "      <td>0.01</td>\n",
       "      <td>0.0483</td>\n",
       "      <td>0.8728</td>\n",
       "      <td>0.000435</td>\n",
       "      <td>0.01</td>\n",
       "      <td>0.0529</td>\n",
       "      <td>0.9350</td>\n",
       "      <td>0.000539</td>\n",
       "      <td>NaN</td>\n",
       "      <td>0.025</td>\n",
       "      <td>NaN</td>\n",
       "      <td>NaN</td>\n",
       "    </tr>\n",
       "    <tr>\n",
       "      <th>5</th>\n",
       "      <td>30</td>\n",
       "      <td>0.01</td>\n",
       "      <td>0.0483</td>\n",
       "      <td>0.8728</td>\n",
       "      <td>0.000435</td>\n",
       "      <td>0.01</td>\n",
       "      <td>0.0529</td>\n",
       "      <td>0.9350</td>\n",
       "      <td>0.000539</td>\n",
       "      <td>NaN</td>\n",
       "      <td>0.026</td>\n",
       "      <td>NaN</td>\n",
       "      <td>NaN</td>\n",
       "    </tr>\n",
       "    <tr>\n",
       "      <th>6</th>\n",
       "      <td>35</td>\n",
       "      <td>0.01</td>\n",
       "      <td>0.0483</td>\n",
       "      <td>0.8728</td>\n",
       "      <td>0.000435</td>\n",
       "      <td>0.01</td>\n",
       "      <td>0.0575</td>\n",
       "      <td>0.9470</td>\n",
       "      <td>0.000694</td>\n",
       "      <td>NaN</td>\n",
       "      <td>0.022</td>\n",
       "      <td>NaN</td>\n",
       "      <td>NaN</td>\n",
       "    </tr>\n",
       "    <tr>\n",
       "      <th>7</th>\n",
       "      <td>40</td>\n",
       "      <td>0.01</td>\n",
       "      <td>0.0483</td>\n",
       "      <td>0.8728</td>\n",
       "      <td>0.000435</td>\n",
       "      <td>0.01</td>\n",
       "      <td>0.0575</td>\n",
       "      <td>0.9470</td>\n",
       "      <td>0.000694</td>\n",
       "      <td>NaN</td>\n",
       "      <td>0.025</td>\n",
       "      <td>NaN</td>\n",
       "      <td>NaN</td>\n",
       "    </tr>\n",
       "    <tr>\n",
       "      <th>8</th>\n",
       "      <td>45</td>\n",
       "      <td>0.01</td>\n",
       "      <td>0.0483</td>\n",
       "      <td>0.8728</td>\n",
       "      <td>0.000435</td>\n",
       "      <td>0.01</td>\n",
       "      <td>0.0575</td>\n",
       "      <td>0.9470</td>\n",
       "      <td>0.000694</td>\n",
       "      <td>NaN</td>\n",
       "      <td>0.004</td>\n",
       "      <td>NaN</td>\n",
       "      <td>NaN</td>\n",
       "    </tr>\n",
       "    <tr>\n",
       "      <th>9</th>\n",
       "      <td>50</td>\n",
       "      <td>0.01</td>\n",
       "      <td>0.0483</td>\n",
       "      <td>0.8728</td>\n",
       "      <td>0.000435</td>\n",
       "      <td>0.01</td>\n",
       "      <td>0.0682</td>\n",
       "      <td>0.9513</td>\n",
       "      <td>0.000817</td>\n",
       "      <td>NaN</td>\n",
       "      <td>0.013</td>\n",
       "      <td>NaN</td>\n",
       "      <td>NaN</td>\n",
       "    </tr>\n",
       "  </tbody>\n",
       "</table>\n",
       "</div>"
      ],
      "text/plain": [
       "   Sample No    P1      P2      P3        P4    P5      P6      P7        P8  \\\n",
       "0          5  0.01  0.0483  0.8728  0.000435  0.01  0.0483  0.8728  0.000435   \n",
       "1         10  0.01  0.0483  0.8728  0.000435  0.01  0.0483  0.8728  0.000435   \n",
       "2         15  0.01  0.0483  0.8728  0.000435  0.01  0.0483  0.8728  0.000435   \n",
       "3         20  0.01  0.0483  0.8728  0.000435  0.01  0.0529  0.9350  0.000539   \n",
       "4         25  0.01  0.0483  0.8728  0.000435  0.01  0.0529  0.9350  0.000539   \n",
       "5         30  0.01  0.0483  0.8728  0.000435  0.01  0.0529  0.9350  0.000539   \n",
       "6         35  0.01  0.0483  0.8728  0.000435  0.01  0.0575  0.9470  0.000694   \n",
       "7         40  0.01  0.0483  0.8728  0.000435  0.01  0.0575  0.9470  0.000694   \n",
       "8         45  0.01  0.0483  0.8728  0.000435  0.01  0.0575  0.9470  0.000694   \n",
       "9         50  0.01  0.0483  0.8728  0.000435  0.01  0.0682  0.9513  0.000817   \n",
       "\n",
       "   Unnamed: 9     R1  Unnamed: 11  Unnamed: 12  \n",
       "0         NaN  0.027          NaN          NaN  \n",
       "1         NaN  0.003          NaN          NaN  \n",
       "2         NaN  0.012          NaN          NaN  \n",
       "3         NaN  0.026          NaN          NaN  \n",
       "4         NaN  0.025          NaN          NaN  \n",
       "5         NaN  0.026          NaN          NaN  \n",
       "6         NaN  0.022          NaN          NaN  \n",
       "7         NaN  0.025          NaN          NaN  \n",
       "8         NaN  0.004          NaN          NaN  \n",
       "9         NaN  0.013          NaN          NaN  "
      ]
     },
     "execution_count": 14,
     "metadata": {},
     "output_type": "execute_result"
    }
   ],
   "source": [
    "train.head(10)"
   ]
  },
  {
   "cell_type": "code",
   "execution_count": 15,
   "metadata": {},
   "outputs": [
    {
     "data": {
      "text/plain": [
       "<bound method NDFrame.describe of     Sample No    P1      P2      P3        P4    P5      P6      P7        P8  \\\n",
       "0           5  0.01  0.0483  0.8728  0.000435  0.01  0.0483  0.8728  0.000435   \n",
       "1          10  0.01  0.0483  0.8728  0.000435  0.01  0.0483  0.8728  0.000435   \n",
       "2          15  0.01  0.0483  0.8728  0.000435  0.01  0.0483  0.8728  0.000435   \n",
       "3          20  0.01  0.0483  0.8728  0.000435  0.01  0.0529  0.9350  0.000539   \n",
       "4          25  0.01  0.0483  0.8728  0.000435  0.01  0.0529  0.9350  0.000539   \n",
       "5          30  0.01  0.0483  0.8728  0.000435  0.01  0.0529  0.9350  0.000539   \n",
       "6          35  0.01  0.0483  0.8728  0.000435  0.01  0.0575  0.9470  0.000694   \n",
       "7          40  0.01  0.0483  0.8728  0.000435  0.01  0.0575  0.9470  0.000694   \n",
       "8          45  0.01  0.0483  0.8728  0.000435  0.01  0.0575  0.9470  0.000694   \n",
       "9          50  0.01  0.0483  0.8728  0.000435  0.01  0.0682  0.9513  0.000817   \n",
       "10         55  0.01  0.0483  0.8728  0.000435  0.01  0.0682  0.9513  0.000817   \n",
       "11         60  0.01  0.0483  0.8728  0.000435  0.01  0.0682  0.9513  0.000817   \n",
       "12         65  0.01  0.0529  0.9350  0.000539  0.01  0.0483  0.8728  0.000435   \n",
       "13         70  0.01  0.0529  0.9350  0.000539  0.01  0.0483  0.8728  0.000435   \n",
       "14         75  0.01  0.0529  0.9350  0.000539  0.01  0.0483  0.8728  0.000435   \n",
       "15         80  0.01  0.0529  0.9350  0.000539  0.01  0.0483  0.8728  0.000435   \n",
       "16         85  0.01  0.0529  0.9350  0.000539  0.01  0.0529  0.9350  0.000539   \n",
       "17         90  0.01  0.0529  0.9350  0.000539  0.01  0.0529  0.9350  0.000539   \n",
       "18         95  0.01  0.0529  0.9350  0.000539  0.01  0.0529  0.9350  0.000539   \n",
       "19        100  0.01  0.0529  0.9350  0.000539  0.01  0.0575  0.9470  0.000694   \n",
       "\n",
       "    Unnamed: 9     R1  Unnamed: 11  Unnamed: 12  \n",
       "0          NaN  0.027          NaN          NaN  \n",
       "1          NaN  0.003          NaN          NaN  \n",
       "2          NaN  0.012          NaN          NaN  \n",
       "3          NaN  0.026          NaN          NaN  \n",
       "4          NaN  0.025          NaN          NaN  \n",
       "5          NaN  0.026          NaN          NaN  \n",
       "6          NaN  0.022          NaN          NaN  \n",
       "7          NaN  0.025          NaN          NaN  \n",
       "8          NaN  0.004          NaN          NaN  \n",
       "9          NaN  0.013          NaN          NaN  \n",
       "10         NaN  0.023          NaN          NaN  \n",
       "11         NaN  0.013          NaN          NaN  \n",
       "12         NaN  0.001          NaN          NaN  \n",
       "13         NaN  0.025          NaN          NaN  \n",
       "14         NaN  0.020          NaN          NaN  \n",
       "15         NaN  0.011          NaN          NaN  \n",
       "16         NaN  0.024          NaN          NaN  \n",
       "17         NaN  0.003          NaN          NaN  \n",
       "18         NaN  0.028          NaN          NaN  \n",
       "19         NaN  0.007          NaN          NaN  >"
      ]
     },
     "execution_count": 15,
     "metadata": {},
     "output_type": "execute_result"
    }
   ],
   "source": [
    "train.describe"
   ]
  },
  {
   "cell_type": "code",
   "execution_count": 16,
   "metadata": {},
   "outputs": [
    {
     "data": {
      "text/plain": [
       "<AxesSubplot:>"
      ]
     },
     "execution_count": 16,
     "metadata": {},
     "output_type": "execute_result"
    },
    {
     "data": {
      "image/png": "[encoded data removed]",
      "text/plain": [
       "<Figure size 432x288 with 1 Axes>"
      ]
     },
     "metadata": {
      "needs_background": "light"
     },
     "output_type": "display_data"
    }
   ],
   "source": [
    "sns.heatmap(train.isnull(), yticklabels=False, cbar=False, cmap='viridis')"
   ]
  },
  {
   "cell_type": "code",
   "execution_count": 17,
   "metadata": {},
   "outputs": [
    {
     "data": {
      "text/plain": [
       "Index(['Sample No', 'P1', 'P2', 'P3', 'P4', 'P5', 'P6', 'P7', 'P8',\n",
       "       'Unnamed: 9', 'R1', 'Unnamed: 11', 'Unnamed: 12'],\n",
       "      dtype='object')"
      ]
     },
     "execution_count": 17,
     "metadata": {},
     "output_type": "execute_result"
    }
   ],
   "source": [
    "train.columns"
   ]
  },
  {
   "cell_type": "markdown",
   "metadata": {},
   "source": [
    "## Preprocessing "
   ]
  },
  {
   "cell_type": "code",
   "execution_count": 18,
   "metadata": {},
   "outputs": [],
   "source": [
    "train = train.drop(columns=['Unnamed: 9'])\n",
    "train = train.drop(columns=['Unnamed: 11'])\n",
    "train = train.drop(columns=['Unnamed: 12'])"
   ]
  },
  {
   "cell_type": "code",
   "execution_count": 19,
   "metadata": {},
   "outputs": [
    {
     "data": {
      "text/plain": [
       "Index(['Sample No', 'P1', 'P2', 'P3', 'P4', 'P5', 'P6', 'P7', 'P8', 'R1'], dtype='object')"
      ]
     },
     "execution_count": 19,
     "metadata": {},
     "output_type": "execute_result"
    }
   ],
   "source": [
    "train.columns"
   ]
  },
  {
   "cell_type": "code",
   "execution_count": 20,
   "metadata": {},
   "outputs": [],
   "source": [
    "train.dropna(inplace=True)"
   ]
  },
  {
   "cell_type": "code",
   "execution_count": 21,
   "metadata": {},
   "outputs": [
    {
     "data": {
      "text/plain": [
       "<AxesSubplot:>"
      ]
     },
     "execution_count": 21,
     "metadata": {},
     "output_type": "execute_result"
    },
    {
     "data": {
      "image/png": "[encoded data removed]",
      "text/plain": [
       "<Figure size 432x288 with 1 Axes>"
      ]
     },
     "metadata": {
      "needs_background": "light"
     },
     "output_type": "display_data"
    }
   ],
   "source": [
    "sns.heatmap(train.isnull(), yticklabels=False, cbar=False, cmap='viridis')"
   ]
  },
  {
   "cell_type": "code",
   "execution_count": 22,
   "metadata": {},
   "outputs": [],
   "source": [
    "test = pd.read_csv('Lab-CSE1015-Data_Regression-train.csv') "
   ]
  },
  {
   "cell_type": "code",
   "execution_count": 23,
   "metadata": {},
   "outputs": [
    {
     "data": {
      "text/html": [
       "<div>\n",
       "<style scoped>\n",
       "    .dataframe tbody tr th:only-of-type {\n",
       "        vertical-align: middle;\n",
       "    }\n",
       "\n",
       "    .dataframe tbody tr th {\n",
       "        vertical-align: top;\n",
       "    }\n",
       "\n",
       "    .dataframe thead th {\n",
       "        text-align: right;\n",
       "    }\n",
       "</style>\n",
       "<table border=\"1\" class=\"dataframe\">\n",
       "  <thead>\n",
       "    <tr style=\"text-align: right;\">\n",
       "      <th></th>\n",
       "      <th>Sample No</th>\n",
       "      <th>P1</th>\n",
       "      <th>P2</th>\n",
       "      <th>P3</th>\n",
       "      <th>P4</th>\n",
       "      <th>P5</th>\n",
       "      <th>P6</th>\n",
       "      <th>P7</th>\n",
       "      <th>P8</th>\n",
       "      <th>Unnamed: 9</th>\n",
       "      <th>R1</th>\n",
       "      <th>Unnamed: 11</th>\n",
       "      <th>Unnamed: 12</th>\n",
       "    </tr>\n",
       "  </thead>\n",
       "  <tbody>\n",
       "    <tr>\n",
       "      <th>0</th>\n",
       "      <td>1.0</td>\n",
       "      <td>0.01</td>\n",
       "      <td>0.0483</td>\n",
       "      <td>0.8728</td>\n",
       "      <td>0.000435</td>\n",
       "      <td>0.01</td>\n",
       "      <td>0.0483</td>\n",
       "      <td>0.8728</td>\n",
       "      <td>0.000435</td>\n",
       "      <td>NaN</td>\n",
       "      <td>0.023</td>\n",
       "      <td>NaN</td>\n",
       "      <td>NaN</td>\n",
       "    </tr>\n",
       "    <tr>\n",
       "      <th>1</th>\n",
       "      <td>2.0</td>\n",
       "      <td>0.01</td>\n",
       "      <td>0.0483</td>\n",
       "      <td>0.8728</td>\n",
       "      <td>0.000435</td>\n",
       "      <td>0.01</td>\n",
       "      <td>0.0483</td>\n",
       "      <td>0.8728</td>\n",
       "      <td>0.000435</td>\n",
       "      <td>NaN</td>\n",
       "      <td>0.008</td>\n",
       "      <td>NaN</td>\n",
       "      <td>NaN</td>\n",
       "    </tr>\n",
       "    <tr>\n",
       "      <th>2</th>\n",
       "      <td>3.0</td>\n",
       "      <td>0.01</td>\n",
       "      <td>0.0483</td>\n",
       "      <td>0.8728</td>\n",
       "      <td>0.000435</td>\n",
       "      <td>0.01</td>\n",
       "      <td>0.0483</td>\n",
       "      <td>0.8728</td>\n",
       "      <td>0.000435</td>\n",
       "      <td>NaN</td>\n",
       "      <td>0.014</td>\n",
       "      <td>NaN</td>\n",
       "      <td>NaN</td>\n",
       "    </tr>\n",
       "    <tr>\n",
       "      <th>3</th>\n",
       "      <td>4.0</td>\n",
       "      <td>0.01</td>\n",
       "      <td>0.0483</td>\n",
       "      <td>0.8728</td>\n",
       "      <td>0.000435</td>\n",
       "      <td>0.01</td>\n",
       "      <td>0.0483</td>\n",
       "      <td>0.8728</td>\n",
       "      <td>0.000435</td>\n",
       "      <td>NaN</td>\n",
       "      <td>0.011</td>\n",
       "      <td>NaN</td>\n",
       "      <td>NaN</td>\n",
       "    </tr>\n",
       "    <tr>\n",
       "      <th>4</th>\n",
       "      <td>NaN</td>\n",
       "      <td>NaN</td>\n",
       "      <td>NaN</td>\n",
       "      <td>NaN</td>\n",
       "      <td>NaN</td>\n",
       "      <td>NaN</td>\n",
       "      <td>NaN</td>\n",
       "      <td>NaN</td>\n",
       "      <td>NaN</td>\n",
       "      <td>NaN</td>\n",
       "      <td>NaN</td>\n",
       "      <td>NaN</td>\n",
       "      <td>NaN</td>\n",
       "    </tr>\n",
       "    <tr>\n",
       "      <th>5</th>\n",
       "      <td>6.0</td>\n",
       "      <td>0.01</td>\n",
       "      <td>0.0483</td>\n",
       "      <td>0.8728</td>\n",
       "      <td>0.000435</td>\n",
       "      <td>0.01</td>\n",
       "      <td>0.0483</td>\n",
       "      <td>0.8728</td>\n",
       "      <td>0.000435</td>\n",
       "      <td>NaN</td>\n",
       "      <td>0.007</td>\n",
       "      <td>NaN</td>\n",
       "      <td>NaN</td>\n",
       "    </tr>\n",
       "    <tr>\n",
       "      <th>6</th>\n",
       "      <td>7.0</td>\n",
       "      <td>0.01</td>\n",
       "      <td>0.0483</td>\n",
       "      <td>0.8728</td>\n",
       "      <td>0.000435</td>\n",
       "      <td>0.01</td>\n",
       "      <td>0.0483</td>\n",
       "      <td>0.8728</td>\n",
       "      <td>0.000435</td>\n",
       "      <td>NaN</td>\n",
       "      <td>0.027</td>\n",
       "      <td>NaN</td>\n",
       "      <td>NaN</td>\n",
       "    </tr>\n",
       "    <tr>\n",
       "      <th>7</th>\n",
       "      <td>8.0</td>\n",
       "      <td>0.01</td>\n",
       "      <td>0.0483</td>\n",
       "      <td>0.8728</td>\n",
       "      <td>0.000435</td>\n",
       "      <td>0.01</td>\n",
       "      <td>0.0483</td>\n",
       "      <td>0.8728</td>\n",
       "      <td>0.000435</td>\n",
       "      <td>NaN</td>\n",
       "      <td>0.029</td>\n",
       "      <td>NaN</td>\n",
       "      <td>NaN</td>\n",
       "    </tr>\n",
       "    <tr>\n",
       "      <th>8</th>\n",
       "      <td>9.0</td>\n",
       "      <td>0.01</td>\n",
       "      <td>0.0483</td>\n",
       "      <td>0.8728</td>\n",
       "      <td>0.000435</td>\n",
       "      <td>0.01</td>\n",
       "      <td>0.0483</td>\n",
       "      <td>0.8728</td>\n",
       "      <td>0.000435</td>\n",
       "      <td>NaN</td>\n",
       "      <td>0.015</td>\n",
       "      <td>NaN</td>\n",
       "      <td>NaN</td>\n",
       "    </tr>\n",
       "    <tr>\n",
       "      <th>9</th>\n",
       "      <td>NaN</td>\n",
       "      <td>NaN</td>\n",
       "      <td>NaN</td>\n",
       "      <td>NaN</td>\n",
       "      <td>NaN</td>\n",
       "      <td>NaN</td>\n",
       "      <td>NaN</td>\n",
       "      <td>NaN</td>\n",
       "      <td>NaN</td>\n",
       "      <td>NaN</td>\n",
       "      <td>NaN</td>\n",
       "      <td>NaN</td>\n",
       "      <td>NaN</td>\n",
       "    </tr>\n",
       "  </tbody>\n",
       "</table>\n",
       "</div>"
      ],
      "text/plain": [
       "   Sample No    P1      P2      P3        P4    P5      P6      P7        P8  \\\n",
       "0        1.0  0.01  0.0483  0.8728  0.000435  0.01  0.0483  0.8728  0.000435   \n",
       "1        2.0  0.01  0.0483  0.8728  0.000435  0.01  0.0483  0.8728  0.000435   \n",
       "2        3.0  0.01  0.0483  0.8728  0.000435  0.01  0.0483  0.8728  0.000435   \n",
       "3        4.0  0.01  0.0483  0.8728  0.000435  0.01  0.0483  0.8728  0.000435   \n",
       "4        NaN   NaN     NaN     NaN       NaN   NaN     NaN     NaN       NaN   \n",
       "5        6.0  0.01  0.0483  0.8728  0.000435  0.01  0.0483  0.8728  0.000435   \n",
       "6        7.0  0.01  0.0483  0.8728  0.000435  0.01  0.0483  0.8728  0.000435   \n",
       "7        8.0  0.01  0.0483  0.8728  0.000435  0.01  0.0483  0.8728  0.000435   \n",
       "8        9.0  0.01  0.0483  0.8728  0.000435  0.01  0.0483  0.8728  0.000435   \n",
       "9        NaN   NaN     NaN     NaN       NaN   NaN     NaN     NaN       NaN   \n",
       "\n",
       "   Unnamed: 9     R1  Unnamed: 11  Unnamed: 12  \n",
       "0         NaN  0.023          NaN          NaN  \n",
       "1         NaN  0.008          NaN          NaN  \n",
       "2         NaN  0.014          NaN          NaN  \n",
       "3         NaN  0.011          NaN          NaN  \n",
       "4         NaN    NaN          NaN          NaN  \n",
       "5         NaN  0.007          NaN          NaN  \n",
       "6         NaN  0.027          NaN          NaN  \n",
       "7         NaN  0.029          NaN          NaN  \n",
       "8         NaN  0.015          NaN          NaN  \n",
       "9         NaN    NaN          NaN          NaN  "
      ]
     },
     "execution_count": 23,
     "metadata": {},
     "output_type": "execute_result"
    }
   ],
   "source": [
    "test.head(10)"
   ]
  },
  {
   "cell_type": "code",
   "execution_count": 24,
   "metadata": {},
   "outputs": [
    {
     "name": "stdout",
     "output_type": "stream",
     "text": [
      "<class 'pandas.core.frame.DataFrame'>\n",
      "RangeIndex: 99 entries, 0 to 98\n",
      "Data columns (total 13 columns):\n",
      " #   Column       Non-Null Count  Dtype  \n",
      "---  ------       --------------  -----  \n",
      " 0   Sample No    80 non-null     float64\n",
      " 1   P1           80 non-null     float64\n",
      " 2   P2           80 non-null     float64\n",
      " 3   P3           80 non-null     float64\n",
      " 4   P4           80 non-null     float64\n",
      " 5   P5           80 non-null     float64\n",
      " 6   P6           80 non-null     float64\n",
      " 7   P7           80 non-null     float64\n",
      " 8   P8           80 non-null     float64\n",
      " 9   Unnamed: 9   0 non-null      float64\n",
      " 10  R1           80 non-null     float64\n",
      " 11  Unnamed: 11  0 non-null      float64\n",
      " 12  Unnamed: 12  0 non-null      float64\n",
      "dtypes: float64(13)\n",
      "memory usage: 10.2 KB\n"
     ]
    }
   ],
   "source": [
    "test.info()"
   ]
  },
  {
   "cell_type": "code",
   "execution_count": 25,
   "metadata": {},
   "outputs": [
    {
     "data": {
      "text/html": [
       "<div>\n",
       "<style scoped>\n",
       "    .dataframe tbody tr th:only-of-type {\n",
       "        vertical-align: middle;\n",
       "    }\n",
       "\n",
       "    .dataframe tbody tr th {\n",
       "        vertical-align: top;\n",
       "    }\n",
       "\n",
       "    .dataframe thead th {\n",
       "        text-align: right;\n",
       "    }\n",
       "</style>\n",
       "<table border=\"1\" class=\"dataframe\">\n",
       "  <thead>\n",
       "    <tr style=\"text-align: right;\">\n",
       "      <th></th>\n",
       "      <th>Sample No</th>\n",
       "      <th>P1</th>\n",
       "      <th>P2</th>\n",
       "      <th>P3</th>\n",
       "      <th>P4</th>\n",
       "      <th>P5</th>\n",
       "      <th>P6</th>\n",
       "      <th>P7</th>\n",
       "      <th>P8</th>\n",
       "      <th>Unnamed: 9</th>\n",
       "      <th>R1</th>\n",
       "      <th>Unnamed: 11</th>\n",
       "      <th>Unnamed: 12</th>\n",
       "    </tr>\n",
       "  </thead>\n",
       "  <tbody>\n",
       "    <tr>\n",
       "      <th>count</th>\n",
       "      <td>80.000000</td>\n",
       "      <td>80.00</td>\n",
       "      <td>80.000000</td>\n",
       "      <td>80.000000</td>\n",
       "      <td>80.000000</td>\n",
       "      <td>80.00</td>\n",
       "      <td>80.000000</td>\n",
       "      <td>80.000000</td>\n",
       "      <td>80.000000</td>\n",
       "      <td>0.0</td>\n",
       "      <td>80.000000</td>\n",
       "      <td>0.0</td>\n",
       "      <td>0.0</td>\n",
       "    </tr>\n",
       "    <tr>\n",
       "      <th>mean</th>\n",
       "      <td>50.000000</td>\n",
       "      <td>0.01</td>\n",
       "      <td>0.049910</td>\n",
       "      <td>0.894570</td>\n",
       "      <td>0.000471</td>\n",
       "      <td>0.01</td>\n",
       "      <td>0.054869</td>\n",
       "      <td>0.920611</td>\n",
       "      <td>0.000583</td>\n",
       "      <td>NaN</td>\n",
       "      <td>0.015900</td>\n",
       "      <td>NaN</td>\n",
       "      <td>NaN</td>\n",
       "    </tr>\n",
       "    <tr>\n",
       "      <th>std</th>\n",
       "      <td>29.035116</td>\n",
       "      <td>0.00</td>\n",
       "      <td>0.002208</td>\n",
       "      <td>0.029855</td>\n",
       "      <td>0.000050</td>\n",
       "      <td>0.00</td>\n",
       "      <td>0.006751</td>\n",
       "      <td>0.032978</td>\n",
       "      <td>0.000138</td>\n",
       "      <td>NaN</td>\n",
       "      <td>0.007653</td>\n",
       "      <td>NaN</td>\n",
       "      <td>NaN</td>\n",
       "    </tr>\n",
       "    <tr>\n",
       "      <th>min</th>\n",
       "      <td>1.000000</td>\n",
       "      <td>0.01</td>\n",
       "      <td>0.048300</td>\n",
       "      <td>0.872800</td>\n",
       "      <td>0.000435</td>\n",
       "      <td>0.01</td>\n",
       "      <td>0.048300</td>\n",
       "      <td>0.872800</td>\n",
       "      <td>0.000435</td>\n",
       "      <td>NaN</td>\n",
       "      <td>0.002000</td>\n",
       "      <td>NaN</td>\n",
       "      <td>NaN</td>\n",
       "    </tr>\n",
       "    <tr>\n",
       "      <th>25%</th>\n",
       "      <td>25.500000</td>\n",
       "      <td>0.01</td>\n",
       "      <td>0.048300</td>\n",
       "      <td>0.872800</td>\n",
       "      <td>0.000435</td>\n",
       "      <td>0.01</td>\n",
       "      <td>0.048300</td>\n",
       "      <td>0.872800</td>\n",
       "      <td>0.000435</td>\n",
       "      <td>NaN</td>\n",
       "      <td>0.009750</td>\n",
       "      <td>NaN</td>\n",
       "      <td>NaN</td>\n",
       "    </tr>\n",
       "    <tr>\n",
       "      <th>50%</th>\n",
       "      <td>50.000000</td>\n",
       "      <td>0.01</td>\n",
       "      <td>0.048300</td>\n",
       "      <td>0.872800</td>\n",
       "      <td>0.000435</td>\n",
       "      <td>0.01</td>\n",
       "      <td>0.052900</td>\n",
       "      <td>0.935000</td>\n",
       "      <td>0.000539</td>\n",
       "      <td>NaN</td>\n",
       "      <td>0.016000</td>\n",
       "      <td>NaN</td>\n",
       "      <td>NaN</td>\n",
       "    </tr>\n",
       "    <tr>\n",
       "      <th>75%</th>\n",
       "      <td>74.500000</td>\n",
       "      <td>0.01</td>\n",
       "      <td>0.052900</td>\n",
       "      <td>0.935000</td>\n",
       "      <td>0.000539</td>\n",
       "      <td>0.01</td>\n",
       "      <td>0.057500</td>\n",
       "      <td>0.947000</td>\n",
       "      <td>0.000694</td>\n",
       "      <td>NaN</td>\n",
       "      <td>0.022000</td>\n",
       "      <td>NaN</td>\n",
       "      <td>NaN</td>\n",
       "    </tr>\n",
       "    <tr>\n",
       "      <th>max</th>\n",
       "      <td>99.000000</td>\n",
       "      <td>0.01</td>\n",
       "      <td>0.052900</td>\n",
       "      <td>0.935000</td>\n",
       "      <td>0.000539</td>\n",
       "      <td>0.01</td>\n",
       "      <td>0.068200</td>\n",
       "      <td>0.951300</td>\n",
       "      <td>0.000817</td>\n",
       "      <td>NaN</td>\n",
       "      <td>0.030000</td>\n",
       "      <td>NaN</td>\n",
       "      <td>NaN</td>\n",
       "    </tr>\n",
       "  </tbody>\n",
       "</table>\n",
       "</div>"
      ],
      "text/plain": [
       "       Sample No     P1         P2         P3         P4     P5         P6  \\\n",
       "count  80.000000  80.00  80.000000  80.000000  80.000000  80.00  80.000000   \n",
       "mean   50.000000   0.01   0.049910   0.894570   0.000471   0.01   0.054869   \n",
       "std    29.035116   0.00   0.002208   0.029855   0.000050   0.00   0.006751   \n",
       "min     1.000000   0.01   0.048300   0.872800   0.000435   0.01   0.048300   \n",
       "25%    25.500000   0.01   0.048300   0.872800   0.000435   0.01   0.048300   \n",
       "50%    50.000000   0.01   0.048300   0.872800   0.000435   0.01   0.052900   \n",
       "75%    74.500000   0.01   0.052900   0.935000   0.000539   0.01   0.057500   \n",
       "max    99.000000   0.01   0.052900   0.935000   0.000539   0.01   0.068200   \n",
       "\n",
       "              P7         P8  Unnamed: 9         R1  Unnamed: 11  Unnamed: 12  \n",
       "count  80.000000  80.000000         0.0  80.000000          0.0          0.0  \n",
       "mean    0.920611   0.000583         NaN   0.015900          NaN          NaN  \n",
       "std     0.032978   0.000138         NaN   0.007653          NaN          NaN  \n",
       "min     0.872800   0.000435         NaN   0.002000          NaN          NaN  \n",
       "25%     0.872800   0.000435         NaN   0.009750          NaN          NaN  \n",
       "50%     0.935000   0.000539         NaN   0.016000          NaN          NaN  \n",
       "75%     0.947000   0.000694         NaN   0.022000          NaN          NaN  \n",
       "max     0.951300   0.000817         NaN   0.030000          NaN          NaN  "
      ]
     },
     "execution_count": 25,
     "metadata": {},
     "output_type": "execute_result"
    }
   ],
   "source": [
    "test.describe()"
   ]
  },
  {
   "cell_type": "code",
   "execution_count": 26,
   "metadata": {},
   "outputs": [
    {
     "data": {
      "text/plain": [
       "Sample No      19\n",
       "P1             19\n",
       "P2             19\n",
       "P3             19\n",
       "P4             19\n",
       "P5             19\n",
       "P6             19\n",
       "P7             19\n",
       "P8             19\n",
       "Unnamed: 9     99\n",
       "R1             19\n",
       "Unnamed: 11    99\n",
       "Unnamed: 12    99\n",
       "dtype: int64"
      ]
     },
     "execution_count": 26,
     "metadata": {},
     "output_type": "execute_result"
    }
   ],
   "source": [
    "test.isnull().sum()"
   ]
  },
  {
   "cell_type": "code",
   "execution_count": 27,
   "metadata": {},
   "outputs": [
    {
     "data": {
      "text/html": [
       "<div>\n",
       "<style scoped>\n",
       "    .dataframe tbody tr th:only-of-type {\n",
       "        vertical-align: middle;\n",
       "    }\n",
       "\n",
       "    .dataframe tbody tr th {\n",
       "        vertical-align: top;\n",
       "    }\n",
       "\n",
       "    .dataframe thead th {\n",
       "        text-align: right;\n",
       "    }\n",
       "</style>\n",
       "<table border=\"1\" class=\"dataframe\">\n",
       "  <thead>\n",
       "    <tr style=\"text-align: right;\">\n",
       "      <th></th>\n",
       "      <th>Sample No</th>\n",
       "      <th>P1</th>\n",
       "      <th>P2</th>\n",
       "      <th>P3</th>\n",
       "      <th>P4</th>\n",
       "      <th>P5</th>\n",
       "      <th>P6</th>\n",
       "      <th>P7</th>\n",
       "      <th>P8</th>\n",
       "      <th>Unnamed: 9</th>\n",
       "      <th>R1</th>\n",
       "      <th>Unnamed: 11</th>\n",
       "      <th>Unnamed: 12</th>\n",
       "    </tr>\n",
       "  </thead>\n",
       "  <tbody>\n",
       "    <tr>\n",
       "      <th>0</th>\n",
       "      <td>1.0</td>\n",
       "      <td>0.01</td>\n",
       "      <td>0.0483</td>\n",
       "      <td>0.8728</td>\n",
       "      <td>0.000435</td>\n",
       "      <td>0.01</td>\n",
       "      <td>0.0483</td>\n",
       "      <td>0.8728</td>\n",
       "      <td>0.000435</td>\n",
       "      <td>NaN</td>\n",
       "      <td>0.023</td>\n",
       "      <td>NaN</td>\n",
       "      <td>NaN</td>\n",
       "    </tr>\n",
       "    <tr>\n",
       "      <th>1</th>\n",
       "      <td>2.0</td>\n",
       "      <td>0.01</td>\n",
       "      <td>0.0483</td>\n",
       "      <td>0.8728</td>\n",
       "      <td>0.000435</td>\n",
       "      <td>0.01</td>\n",
       "      <td>0.0483</td>\n",
       "      <td>0.8728</td>\n",
       "      <td>0.000435</td>\n",
       "      <td>NaN</td>\n",
       "      <td>0.008</td>\n",
       "      <td>NaN</td>\n",
       "      <td>NaN</td>\n",
       "    </tr>\n",
       "    <tr>\n",
       "      <th>2</th>\n",
       "      <td>3.0</td>\n",
       "      <td>0.01</td>\n",
       "      <td>0.0483</td>\n",
       "      <td>0.8728</td>\n",
       "      <td>0.000435</td>\n",
       "      <td>0.01</td>\n",
       "      <td>0.0483</td>\n",
       "      <td>0.8728</td>\n",
       "      <td>0.000435</td>\n",
       "      <td>NaN</td>\n",
       "      <td>0.014</td>\n",
       "      <td>NaN</td>\n",
       "      <td>NaN</td>\n",
       "    </tr>\n",
       "    <tr>\n",
       "      <th>3</th>\n",
       "      <td>4.0</td>\n",
       "      <td>0.01</td>\n",
       "      <td>0.0483</td>\n",
       "      <td>0.8728</td>\n",
       "      <td>0.000435</td>\n",
       "      <td>0.01</td>\n",
       "      <td>0.0483</td>\n",
       "      <td>0.8728</td>\n",
       "      <td>0.000435</td>\n",
       "      <td>NaN</td>\n",
       "      <td>0.011</td>\n",
       "      <td>NaN</td>\n",
       "      <td>NaN</td>\n",
       "    </tr>\n",
       "    <tr>\n",
       "      <th>5</th>\n",
       "      <td>6.0</td>\n",
       "      <td>0.01</td>\n",
       "      <td>0.0483</td>\n",
       "      <td>0.8728</td>\n",
       "      <td>0.000435</td>\n",
       "      <td>0.01</td>\n",
       "      <td>0.0483</td>\n",
       "      <td>0.8728</td>\n",
       "      <td>0.000435</td>\n",
       "      <td>NaN</td>\n",
       "      <td>0.007</td>\n",
       "      <td>NaN</td>\n",
       "      <td>NaN</td>\n",
       "    </tr>\n",
       "    <tr>\n",
       "      <th>...</th>\n",
       "      <td>...</td>\n",
       "      <td>...</td>\n",
       "      <td>...</td>\n",
       "      <td>...</td>\n",
       "      <td>...</td>\n",
       "      <td>...</td>\n",
       "      <td>...</td>\n",
       "      <td>...</td>\n",
       "      <td>...</td>\n",
       "      <td>...</td>\n",
       "      <td>...</td>\n",
       "      <td>...</td>\n",
       "      <td>...</td>\n",
       "    </tr>\n",
       "    <tr>\n",
       "      <th>93</th>\n",
       "      <td>94.0</td>\n",
       "      <td>0.01</td>\n",
       "      <td>0.0529</td>\n",
       "      <td>0.9350</td>\n",
       "      <td>0.000539</td>\n",
       "      <td>0.01</td>\n",
       "      <td>0.0529</td>\n",
       "      <td>0.9350</td>\n",
       "      <td>0.000539</td>\n",
       "      <td>NaN</td>\n",
       "      <td>0.020</td>\n",
       "      <td>NaN</td>\n",
       "      <td>NaN</td>\n",
       "    </tr>\n",
       "    <tr>\n",
       "      <th>95</th>\n",
       "      <td>96.0</td>\n",
       "      <td>0.01</td>\n",
       "      <td>0.0529</td>\n",
       "      <td>0.9350</td>\n",
       "      <td>0.000539</td>\n",
       "      <td>0.01</td>\n",
       "      <td>0.0529</td>\n",
       "      <td>0.9350</td>\n",
       "      <td>0.000539</td>\n",
       "      <td>NaN</td>\n",
       "      <td>0.002</td>\n",
       "      <td>NaN</td>\n",
       "      <td>NaN</td>\n",
       "    </tr>\n",
       "    <tr>\n",
       "      <th>96</th>\n",
       "      <td>97.0</td>\n",
       "      <td>0.01</td>\n",
       "      <td>0.0529</td>\n",
       "      <td>0.9350</td>\n",
       "      <td>0.000539</td>\n",
       "      <td>0.01</td>\n",
       "      <td>0.0575</td>\n",
       "      <td>0.9470</td>\n",
       "      <td>0.000694</td>\n",
       "      <td>NaN</td>\n",
       "      <td>0.013</td>\n",
       "      <td>NaN</td>\n",
       "      <td>NaN</td>\n",
       "    </tr>\n",
       "    <tr>\n",
       "      <th>97</th>\n",
       "      <td>98.0</td>\n",
       "      <td>0.01</td>\n",
       "      <td>0.0529</td>\n",
       "      <td>0.9350</td>\n",
       "      <td>0.000539</td>\n",
       "      <td>0.01</td>\n",
       "      <td>0.0575</td>\n",
       "      <td>0.9470</td>\n",
       "      <td>0.000694</td>\n",
       "      <td>NaN</td>\n",
       "      <td>0.018</td>\n",
       "      <td>NaN</td>\n",
       "      <td>NaN</td>\n",
       "    </tr>\n",
       "    <tr>\n",
       "      <th>98</th>\n",
       "      <td>99.0</td>\n",
       "      <td>0.01</td>\n",
       "      <td>0.0529</td>\n",
       "      <td>0.9350</td>\n",
       "      <td>0.000539</td>\n",
       "      <td>0.01</td>\n",
       "      <td>0.0575</td>\n",
       "      <td>0.9470</td>\n",
       "      <td>0.000694</td>\n",
       "      <td>NaN</td>\n",
       "      <td>0.019</td>\n",
       "      <td>NaN</td>\n",
       "      <td>NaN</td>\n",
       "    </tr>\n",
       "  </tbody>\n",
       "</table>\n",
       "<p>80 rows × 13 columns</p>\n",
       "</div>"
      ],
      "text/plain": [
       "    Sample No    P1      P2      P3        P4    P5      P6      P7        P8  \\\n",
       "0         1.0  0.01  0.0483  0.8728  0.000435  0.01  0.0483  0.8728  0.000435   \n",
       "1         2.0  0.01  0.0483  0.8728  0.000435  0.01  0.0483  0.8728  0.000435   \n",
       "2         3.0  0.01  0.0483  0.8728  0.000435  0.01  0.0483  0.8728  0.000435   \n",
       "3         4.0  0.01  0.0483  0.8728  0.000435  0.01  0.0483  0.8728  0.000435   \n",
       "5         6.0  0.01  0.0483  0.8728  0.000435  0.01  0.0483  0.8728  0.000435   \n",
       "..        ...   ...     ...     ...       ...   ...     ...     ...       ...   \n",
       "93       94.0  0.01  0.0529  0.9350  0.000539  0.01  0.0529  0.9350  0.000539   \n",
       "95       96.0  0.01  0.0529  0.9350  0.000539  0.01  0.0529  0.9350  0.000539   \n",
       "96       97.0  0.01  0.0529  0.9350  0.000539  0.01  0.0575  0.9470  0.000694   \n",
       "97       98.0  0.01  0.0529  0.9350  0.000539  0.01  0.0575  0.9470  0.000694   \n",
       "98       99.0  0.01  0.0529  0.9350  0.000539  0.01  0.0575  0.9470  0.000694   \n",
       "\n",
       "    Unnamed: 9     R1  Unnamed: 11  Unnamed: 12  \n",
       "0          NaN  0.023          NaN          NaN  \n",
       "1          NaN  0.008          NaN          NaN  \n",
       "2          NaN  0.014          NaN          NaN  \n",
       "3          NaN  0.011          NaN          NaN  \n",
       "5          NaN  0.007          NaN          NaN  \n",
       "..         ...    ...          ...          ...  \n",
       "93         NaN  0.020          NaN          NaN  \n",
       "95         NaN  0.002          NaN          NaN  \n",
       "96         NaN  0.013          NaN          NaN  \n",
       "97         NaN  0.018          NaN          NaN  \n",
       "98         NaN  0.019          NaN          NaN  \n",
       "\n",
       "[80 rows x 13 columns]"
      ]
     },
     "execution_count": 27,
     "metadata": {},
     "output_type": "execute_result"
    }
   ],
   "source": [
    "test = test.dropna(how='all')\n",
    "test"
   ]
  },
  {
   "cell_type": "code",
   "execution_count": 28,
   "metadata": {},
   "outputs": [],
   "source": [
    "test = test.drop(columns=['Unnamed: 9','Unnamed: 11','Unnamed: 12'])"
   ]
  },
  {
   "cell_type": "code",
   "execution_count": 29,
   "metadata": {},
   "outputs": [
    {
     "data": {
      "text/html": [
       "<div>\n",
       "<style scoped>\n",
       "    .dataframe tbody tr th:only-of-type {\n",
       "        vertical-align: middle;\n",
       "    }\n",
       "\n",
       "    .dataframe tbody tr th {\n",
       "        vertical-align: top;\n",
       "    }\n",
       "\n",
       "    .dataframe thead th {\n",
       "        text-align: right;\n",
       "    }\n",
       "</style>\n",
       "<table border=\"1\" class=\"dataframe\">\n",
       "  <thead>\n",
       "    <tr style=\"text-align: right;\">\n",
       "      <th></th>\n",
       "      <th>Sample No</th>\n",
       "      <th>P1</th>\n",
       "      <th>P2</th>\n",
       "      <th>P3</th>\n",
       "      <th>P4</th>\n",
       "      <th>P5</th>\n",
       "      <th>P6</th>\n",
       "      <th>P7</th>\n",
       "      <th>P8</th>\n",
       "      <th>R1</th>\n",
       "    </tr>\n",
       "  </thead>\n",
       "  <tbody>\n",
       "    <tr>\n",
       "      <th>0</th>\n",
       "      <td>1.0</td>\n",
       "      <td>0.01</td>\n",
       "      <td>0.0483</td>\n",
       "      <td>0.8728</td>\n",
       "      <td>0.000435</td>\n",
       "      <td>0.01</td>\n",
       "      <td>0.0483</td>\n",
       "      <td>0.8728</td>\n",
       "      <td>0.000435</td>\n",
       "      <td>0.023</td>\n",
       "    </tr>\n",
       "    <tr>\n",
       "      <th>1</th>\n",
       "      <td>2.0</td>\n",
       "      <td>0.01</td>\n",
       "      <td>0.0483</td>\n",
       "      <td>0.8728</td>\n",
       "      <td>0.000435</td>\n",
       "      <td>0.01</td>\n",
       "      <td>0.0483</td>\n",
       "      <td>0.8728</td>\n",
       "      <td>0.000435</td>\n",
       "      <td>0.008</td>\n",
       "    </tr>\n",
       "    <tr>\n",
       "      <th>2</th>\n",
       "      <td>3.0</td>\n",
       "      <td>0.01</td>\n",
       "      <td>0.0483</td>\n",
       "      <td>0.8728</td>\n",
       "      <td>0.000435</td>\n",
       "      <td>0.01</td>\n",
       "      <td>0.0483</td>\n",
       "      <td>0.8728</td>\n",
       "      <td>0.000435</td>\n",
       "      <td>0.014</td>\n",
       "    </tr>\n",
       "    <tr>\n",
       "      <th>3</th>\n",
       "      <td>4.0</td>\n",
       "      <td>0.01</td>\n",
       "      <td>0.0483</td>\n",
       "      <td>0.8728</td>\n",
       "      <td>0.000435</td>\n",
       "      <td>0.01</td>\n",
       "      <td>0.0483</td>\n",
       "      <td>0.8728</td>\n",
       "      <td>0.000435</td>\n",
       "      <td>0.011</td>\n",
       "    </tr>\n",
       "    <tr>\n",
       "      <th>5</th>\n",
       "      <td>6.0</td>\n",
       "      <td>0.01</td>\n",
       "      <td>0.0483</td>\n",
       "      <td>0.8728</td>\n",
       "      <td>0.000435</td>\n",
       "      <td>0.01</td>\n",
       "      <td>0.0483</td>\n",
       "      <td>0.8728</td>\n",
       "      <td>0.000435</td>\n",
       "      <td>0.007</td>\n",
       "    </tr>\n",
       "    <tr>\n",
       "      <th>...</th>\n",
       "      <td>...</td>\n",
       "      <td>...</td>\n",
       "      <td>...</td>\n",
       "      <td>...</td>\n",
       "      <td>...</td>\n",
       "      <td>...</td>\n",
       "      <td>...</td>\n",
       "      <td>...</td>\n",
       "      <td>...</td>\n",
       "      <td>...</td>\n",
       "    </tr>\n",
       "    <tr>\n",
       "      <th>93</th>\n",
       "      <td>94.0</td>\n",
       "      <td>0.01</td>\n",
       "      <td>0.0529</td>\n",
       "      <td>0.9350</td>\n",
       "      <td>0.000539</td>\n",
       "      <td>0.01</td>\n",
       "      <td>0.0529</td>\n",
       "      <td>0.9350</td>\n",
       "      <td>0.000539</td>\n",
       "      <td>0.020</td>\n",
       "    </tr>\n",
       "    <tr>\n",
       "      <th>95</th>\n",
       "      <td>96.0</td>\n",
       "      <td>0.01</td>\n",
       "      <td>0.0529</td>\n",
       "      <td>0.9350</td>\n",
       "      <td>0.000539</td>\n",
       "      <td>0.01</td>\n",
       "      <td>0.0529</td>\n",
       "      <td>0.9350</td>\n",
       "      <td>0.000539</td>\n",
       "      <td>0.002</td>\n",
       "    </tr>\n",
       "    <tr>\n",
       "      <th>96</th>\n",
       "      <td>97.0</td>\n",
       "      <td>0.01</td>\n",
       "      <td>0.0529</td>\n",
       "      <td>0.9350</td>\n",
       "      <td>0.000539</td>\n",
       "      <td>0.01</td>\n",
       "      <td>0.0575</td>\n",
       "      <td>0.9470</td>\n",
       "      <td>0.000694</td>\n",
       "      <td>0.013</td>\n",
       "    </tr>\n",
       "    <tr>\n",
       "      <th>97</th>\n",
       "      <td>98.0</td>\n",
       "      <td>0.01</td>\n",
       "      <td>0.0529</td>\n",
       "      <td>0.9350</td>\n",
       "      <td>0.000539</td>\n",
       "      <td>0.01</td>\n",
       "      <td>0.0575</td>\n",
       "      <td>0.9470</td>\n",
       "      <td>0.000694</td>\n",
       "      <td>0.018</td>\n",
       "    </tr>\n",
       "    <tr>\n",
       "      <th>98</th>\n",
       "      <td>99.0</td>\n",
       "      <td>0.01</td>\n",
       "      <td>0.0529</td>\n",
       "      <td>0.9350</td>\n",
       "      <td>0.000539</td>\n",
       "      <td>0.01</td>\n",
       "      <td>0.0575</td>\n",
       "      <td>0.9470</td>\n",
       "      <td>0.000694</td>\n",
       "      <td>0.019</td>\n",
       "    </tr>\n",
       "  </tbody>\n",
       "</table>\n",
       "<p>80 rows × 10 columns</p>\n",
       "</div>"
      ],
      "text/plain": [
       "    Sample No    P1      P2      P3        P4    P5      P6      P7        P8  \\\n",
       "0         1.0  0.01  0.0483  0.8728  0.000435  0.01  0.0483  0.8728  0.000435   \n",
       "1         2.0  0.01  0.0483  0.8728  0.000435  0.01  0.0483  0.8728  0.000435   \n",
       "2         3.0  0.01  0.0483  0.8728  0.000435  0.01  0.0483  0.8728  0.000435   \n",
       "3         4.0  0.01  0.0483  0.8728  0.000435  0.01  0.0483  0.8728  0.000435   \n",
       "5         6.0  0.01  0.0483  0.8728  0.000435  0.01  0.0483  0.8728  0.000435   \n",
       "..        ...   ...     ...     ...       ...   ...     ...     ...       ...   \n",
       "93       94.0  0.01  0.0529  0.9350  0.000539  0.01  0.0529  0.9350  0.000539   \n",
       "95       96.0  0.01  0.0529  0.9350  0.000539  0.01  0.0529  0.9350  0.000539   \n",
       "96       97.0  0.01  0.0529  0.9350  0.000539  0.01  0.0575  0.9470  0.000694   \n",
       "97       98.0  0.01  0.0529  0.9350  0.000539  0.01  0.0575  0.9470  0.000694   \n",
       "98       99.0  0.01  0.0529  0.9350  0.000539  0.01  0.0575  0.9470  0.000694   \n",
       "\n",
       "       R1  \n",
       "0   0.023  \n",
       "1   0.008  \n",
       "2   0.014  \n",
       "3   0.011  \n",
       "5   0.007  \n",
       "..    ...  \n",
       "93  0.020  \n",
       "95  0.002  \n",
       "96  0.013  \n",
       "97  0.018  \n",
       "98  0.019  \n",
       "\n",
       "[80 rows x 10 columns]"
      ]
     },
     "execution_count": 29,
     "metadata": {},
     "output_type": "execute_result"
    }
   ],
   "source": [
    "test"
   ]
  },
  {
   "cell_type": "markdown",
   "metadata": {},
   "source": [
    "Normalisation using MinMaxScaler from sklearn "
   ]
  },
  {
   "cell_type": "code",
   "execution_count": 30,
   "metadata": {},
   "outputs": [],
   "source": [
    "from sklearn.preprocessing import MinMaxScaler\n",
    "\n",
    "scaler = MinMaxScaler()\n",
    "cols = train.columns\n",
    "temp = scaler.fit_transform(train)\n",
    "train = pd.DataFrame(temp,columns=cols)"
   ]
  },
  {
   "cell_type": "code",
   "execution_count": 31,
   "metadata": {},
   "outputs": [
    {
     "data": {
      "text/html": [
       "<div>\n",
       "<style scoped>\n",
       "    .dataframe tbody tr th:only-of-type {\n",
       "        vertical-align: middle;\n",
       "    }\n",
       "\n",
       "    .dataframe tbody tr th {\n",
       "        vertical-align: top;\n",
       "    }\n",
       "\n",
       "    .dataframe thead th {\n",
       "        text-align: right;\n",
       "    }\n",
       "</style>\n",
       "<table border=\"1\" class=\"dataframe\">\n",
       "  <thead>\n",
       "    <tr style=\"text-align: right;\">\n",
       "      <th></th>\n",
       "      <th>Sample No</th>\n",
       "      <th>P1</th>\n",
       "      <th>P2</th>\n",
       "      <th>P3</th>\n",
       "      <th>P4</th>\n",
       "      <th>P5</th>\n",
       "      <th>P6</th>\n",
       "      <th>P7</th>\n",
       "      <th>P8</th>\n",
       "      <th>R1</th>\n",
       "    </tr>\n",
       "  </thead>\n",
       "  <tbody>\n",
       "    <tr>\n",
       "      <th>0</th>\n",
       "      <td>0.000000</td>\n",
       "      <td>0.0</td>\n",
       "      <td>0.0</td>\n",
       "      <td>0.0</td>\n",
       "      <td>0.0</td>\n",
       "      <td>0.0</td>\n",
       "      <td>0.000000</td>\n",
       "      <td>0.000000</td>\n",
       "      <td>0.000000</td>\n",
       "      <td>0.962963</td>\n",
       "    </tr>\n",
       "    <tr>\n",
       "      <th>1</th>\n",
       "      <td>0.052632</td>\n",
       "      <td>0.0</td>\n",
       "      <td>0.0</td>\n",
       "      <td>0.0</td>\n",
       "      <td>0.0</td>\n",
       "      <td>0.0</td>\n",
       "      <td>0.000000</td>\n",
       "      <td>0.000000</td>\n",
       "      <td>0.000000</td>\n",
       "      <td>0.074074</td>\n",
       "    </tr>\n",
       "    <tr>\n",
       "      <th>2</th>\n",
       "      <td>0.105263</td>\n",
       "      <td>0.0</td>\n",
       "      <td>0.0</td>\n",
       "      <td>0.0</td>\n",
       "      <td>0.0</td>\n",
       "      <td>0.0</td>\n",
       "      <td>0.000000</td>\n",
       "      <td>0.000000</td>\n",
       "      <td>0.000000</td>\n",
       "      <td>0.407407</td>\n",
       "    </tr>\n",
       "    <tr>\n",
       "      <th>3</th>\n",
       "      <td>0.157895</td>\n",
       "      <td>0.0</td>\n",
       "      <td>0.0</td>\n",
       "      <td>0.0</td>\n",
       "      <td>0.0</td>\n",
       "      <td>0.0</td>\n",
       "      <td>0.231156</td>\n",
       "      <td>0.792357</td>\n",
       "      <td>0.272251</td>\n",
       "      <td>0.925926</td>\n",
       "    </tr>\n",
       "    <tr>\n",
       "      <th>4</th>\n",
       "      <td>0.210526</td>\n",
       "      <td>0.0</td>\n",
       "      <td>0.0</td>\n",
       "      <td>0.0</td>\n",
       "      <td>0.0</td>\n",
       "      <td>0.0</td>\n",
       "      <td>0.231156</td>\n",
       "      <td>0.792357</td>\n",
       "      <td>0.272251</td>\n",
       "      <td>0.888889</td>\n",
       "    </tr>\n",
       "    <tr>\n",
       "      <th>5</th>\n",
       "      <td>0.263158</td>\n",
       "      <td>0.0</td>\n",
       "      <td>0.0</td>\n",
       "      <td>0.0</td>\n",
       "      <td>0.0</td>\n",
       "      <td>0.0</td>\n",
       "      <td>0.231156</td>\n",
       "      <td>0.792357</td>\n",
       "      <td>0.272251</td>\n",
       "      <td>0.925926</td>\n",
       "    </tr>\n",
       "    <tr>\n",
       "      <th>6</th>\n",
       "      <td>0.315789</td>\n",
       "      <td>0.0</td>\n",
       "      <td>0.0</td>\n",
       "      <td>0.0</td>\n",
       "      <td>0.0</td>\n",
       "      <td>0.0</td>\n",
       "      <td>0.462312</td>\n",
       "      <td>0.945223</td>\n",
       "      <td>0.678010</td>\n",
       "      <td>0.777778</td>\n",
       "    </tr>\n",
       "    <tr>\n",
       "      <th>7</th>\n",
       "      <td>0.368421</td>\n",
       "      <td>0.0</td>\n",
       "      <td>0.0</td>\n",
       "      <td>0.0</td>\n",
       "      <td>0.0</td>\n",
       "      <td>0.0</td>\n",
       "      <td>0.462312</td>\n",
       "      <td>0.945223</td>\n",
       "      <td>0.678010</td>\n",
       "      <td>0.888889</td>\n",
       "    </tr>\n",
       "    <tr>\n",
       "      <th>8</th>\n",
       "      <td>0.421053</td>\n",
       "      <td>0.0</td>\n",
       "      <td>0.0</td>\n",
       "      <td>0.0</td>\n",
       "      <td>0.0</td>\n",
       "      <td>0.0</td>\n",
       "      <td>0.462312</td>\n",
       "      <td>0.945223</td>\n",
       "      <td>0.678010</td>\n",
       "      <td>0.111111</td>\n",
       "    </tr>\n",
       "    <tr>\n",
       "      <th>9</th>\n",
       "      <td>0.473684</td>\n",
       "      <td>0.0</td>\n",
       "      <td>0.0</td>\n",
       "      <td>0.0</td>\n",
       "      <td>0.0</td>\n",
       "      <td>0.0</td>\n",
       "      <td>1.000000</td>\n",
       "      <td>1.000000</td>\n",
       "      <td>1.000000</td>\n",
       "      <td>0.444444</td>\n",
       "    </tr>\n",
       "    <tr>\n",
       "      <th>10</th>\n",
       "      <td>0.526316</td>\n",
       "      <td>0.0</td>\n",
       "      <td>0.0</td>\n",
       "      <td>0.0</td>\n",
       "      <td>0.0</td>\n",
       "      <td>0.0</td>\n",
       "      <td>1.000000</td>\n",
       "      <td>1.000000</td>\n",
       "      <td>1.000000</td>\n",
       "      <td>0.814815</td>\n",
       "    </tr>\n",
       "    <tr>\n",
       "      <th>11</th>\n",
       "      <td>0.578947</td>\n",
       "      <td>0.0</td>\n",
       "      <td>0.0</td>\n",
       "      <td>0.0</td>\n",
       "      <td>0.0</td>\n",
       "      <td>0.0</td>\n",
       "      <td>1.000000</td>\n",
       "      <td>1.000000</td>\n",
       "      <td>1.000000</td>\n",
       "      <td>0.444444</td>\n",
       "    </tr>\n",
       "    <tr>\n",
       "      <th>12</th>\n",
       "      <td>0.631579</td>\n",
       "      <td>0.0</td>\n",
       "      <td>1.0</td>\n",
       "      <td>1.0</td>\n",
       "      <td>1.0</td>\n",
       "      <td>0.0</td>\n",
       "      <td>0.000000</td>\n",
       "      <td>0.000000</td>\n",
       "      <td>0.000000</td>\n",
       "      <td>0.000000</td>\n",
       "    </tr>\n",
       "    <tr>\n",
       "      <th>13</th>\n",
       "      <td>0.684211</td>\n",
       "      <td>0.0</td>\n",
       "      <td>1.0</td>\n",
       "      <td>1.0</td>\n",
       "      <td>1.0</td>\n",
       "      <td>0.0</td>\n",
       "      <td>0.000000</td>\n",
       "      <td>0.000000</td>\n",
       "      <td>0.000000</td>\n",
       "      <td>0.888889</td>\n",
       "    </tr>\n",
       "    <tr>\n",
       "      <th>14</th>\n",
       "      <td>0.736842</td>\n",
       "      <td>0.0</td>\n",
       "      <td>1.0</td>\n",
       "      <td>1.0</td>\n",
       "      <td>1.0</td>\n",
       "      <td>0.0</td>\n",
       "      <td>0.000000</td>\n",
       "      <td>0.000000</td>\n",
       "      <td>0.000000</td>\n",
       "      <td>0.703704</td>\n",
       "    </tr>\n",
       "    <tr>\n",
       "      <th>15</th>\n",
       "      <td>0.789474</td>\n",
       "      <td>0.0</td>\n",
       "      <td>1.0</td>\n",
       "      <td>1.0</td>\n",
       "      <td>1.0</td>\n",
       "      <td>0.0</td>\n",
       "      <td>0.000000</td>\n",
       "      <td>0.000000</td>\n",
       "      <td>0.000000</td>\n",
       "      <td>0.370370</td>\n",
       "    </tr>\n",
       "    <tr>\n",
       "      <th>16</th>\n",
       "      <td>0.842105</td>\n",
       "      <td>0.0</td>\n",
       "      <td>1.0</td>\n",
       "      <td>1.0</td>\n",
       "      <td>1.0</td>\n",
       "      <td>0.0</td>\n",
       "      <td>0.231156</td>\n",
       "      <td>0.792357</td>\n",
       "      <td>0.272251</td>\n",
       "      <td>0.851852</td>\n",
       "    </tr>\n",
       "    <tr>\n",
       "      <th>17</th>\n",
       "      <td>0.894737</td>\n",
       "      <td>0.0</td>\n",
       "      <td>1.0</td>\n",
       "      <td>1.0</td>\n",
       "      <td>1.0</td>\n",
       "      <td>0.0</td>\n",
       "      <td>0.231156</td>\n",
       "      <td>0.792357</td>\n",
       "      <td>0.272251</td>\n",
       "      <td>0.074074</td>\n",
       "    </tr>\n",
       "    <tr>\n",
       "      <th>18</th>\n",
       "      <td>0.947368</td>\n",
       "      <td>0.0</td>\n",
       "      <td>1.0</td>\n",
       "      <td>1.0</td>\n",
       "      <td>1.0</td>\n",
       "      <td>0.0</td>\n",
       "      <td>0.231156</td>\n",
       "      <td>0.792357</td>\n",
       "      <td>0.272251</td>\n",
       "      <td>1.000000</td>\n",
       "    </tr>\n",
       "    <tr>\n",
       "      <th>19</th>\n",
       "      <td>1.000000</td>\n",
       "      <td>0.0</td>\n",
       "      <td>1.0</td>\n",
       "      <td>1.0</td>\n",
       "      <td>1.0</td>\n",
       "      <td>0.0</td>\n",
       "      <td>0.462312</td>\n",
       "      <td>0.945223</td>\n",
       "      <td>0.678010</td>\n",
       "      <td>0.222222</td>\n",
       "    </tr>\n",
       "  </tbody>\n",
       "</table>\n",
       "</div>"
      ],
      "text/plain": [
       "    Sample No   P1   P2   P3   P4   P5        P6        P7        P8        R1\n",
       "0    0.000000  0.0  0.0  0.0  0.0  0.0  0.000000  0.000000  0.000000  0.962963\n",
       "1    0.052632  0.0  0.0  0.0  0.0  0.0  0.000000  0.000000  0.000000  0.074074\n",
       "2    0.105263  0.0  0.0  0.0  0.0  0.0  0.000000  0.000000  0.000000  0.407407\n",
       "3    0.157895  0.0  0.0  0.0  0.0  0.0  0.231156  0.792357  0.272251  0.925926\n",
       "4    0.210526  0.0  0.0  0.0  0.0  0.0  0.231156  0.792357  0.272251  0.888889\n",
       "5    0.263158  0.0  0.0  0.0  0.0  0.0  0.231156  0.792357  0.272251  0.925926\n",
       "6    0.315789  0.0  0.0  0.0  0.0  0.0  0.462312  0.945223  0.678010  0.777778\n",
       "7    0.368421  0.0  0.0  0.0  0.0  0.0  0.462312  0.945223  0.678010  0.888889\n",
       "8    0.421053  0.0  0.0  0.0  0.0  0.0  0.462312  0.945223  0.678010  0.111111\n",
       "9    0.473684  0.0  0.0  0.0  0.0  0.0  1.000000  1.000000  1.000000  0.444444\n",
       "10   0.526316  0.0  0.0  0.0  0.0  0.0  1.000000  1.000000  1.000000  0.814815\n",
       "11   0.578947  0.0  0.0  0.0  0.0  0.0  1.000000  1.000000  1.000000  0.444444\n",
       "12   0.631579  0.0  1.0  1.0  1.0  0.0  0.000000  0.000000  0.000000  0.000000\n",
       "13   0.684211  0.0  1.0  1.0  1.0  0.0  0.000000  0.000000  0.000000  0.888889\n",
       "14   0.736842  0.0  1.0  1.0  1.0  0.0  0.000000  0.000000  0.000000  0.703704\n",
       "15   0.789474  0.0  1.0  1.0  1.0  0.0  0.000000  0.000000  0.000000  0.370370\n",
       "16   0.842105  0.0  1.0  1.0  1.0  0.0  0.231156  0.792357  0.272251  0.851852\n",
       "17   0.894737  0.0  1.0  1.0  1.0  0.0  0.231156  0.792357  0.272251  0.074074\n",
       "18   0.947368  0.0  1.0  1.0  1.0  0.0  0.231156  0.792357  0.272251  1.000000\n",
       "19   1.000000  0.0  1.0  1.0  1.0  0.0  0.462312  0.945223  0.678010  0.222222"
      ]
     },
     "execution_count": 31,
     "metadata": {},
     "output_type": "execute_result"
    }
   ],
   "source": [
    "train.head(20)"
   ]
  },
  {
   "cell_type": "code",
   "execution_count": 32,
   "metadata": {},
   "outputs": [
    {
     "name": "stdout",
     "output_type": "stream",
     "text": [
      "<class 'pandas.core.frame.DataFrame'>\n",
      "RangeIndex: 20 entries, 0 to 19\n",
      "Data columns (total 10 columns):\n",
      " #   Column     Non-Null Count  Dtype  \n",
      "---  ------     --------------  -----  \n",
      " 0   Sample No  20 non-null     float64\n",
      " 1   P1         20 non-null     float64\n",
      " 2   P2         20 non-null     float64\n",
      " 3   P3         20 non-null     float64\n",
      " 4   P4         20 non-null     float64\n",
      " 5   P5         20 non-null     float64\n",
      " 6   P6         20 non-null     float64\n",
      " 7   P7         20 non-null     float64\n",
      " 8   P8         20 non-null     float64\n",
      " 9   R1         20 non-null     float64\n",
      "dtypes: float64(10)\n",
      "memory usage: 1.7 KB\n"
     ]
    }
   ],
   "source": [
    "train.info()"
   ]
  },
  {
   "cell_type": "code",
   "execution_count": 33,
   "metadata": {},
   "outputs": [
    {
     "data": {
      "text/plain": [
       "<AxesSubplot:>"
      ]
     },
     "execution_count": 33,
     "metadata": {},
     "output_type": "execute_result"
    },
    {
     "data": {
      "image/png": "[encoded data removed]",
      "text/plain": [
       "<Figure size 432x288 with 1 Axes>"
      ]
     },
     "metadata": {
      "needs_background": "light"
     },
     "output_type": "display_data"
    }
   ],
   "source": [
    "train.boxplot()"
   ]
  },
  {
   "cell_type": "markdown",
   "metadata": {},
   "source": [
    "the conversion of ```train``` using a function which fits (figures out the params) then normalises. Whilst the ```test``` conversion just transforms, using the same params that it learned from the train data."
   ]
  },
  {
   "cell_type": "code",
   "execution_count": 34,
   "metadata": {},
   "outputs": [],
   "source": [
    "cols = test.columns\n",
    "temp2 = scaler.fit_transform(test)\n",
    "test = pd.DataFrame(temp2,columns=cols)"
   ]
  },
  {
   "cell_type": "code",
   "execution_count": 35,
   "metadata": {},
   "outputs": [
    {
     "name": "stdout",
     "output_type": "stream",
     "text": [
      "<class 'pandas.core.frame.DataFrame'>\n",
      "RangeIndex: 80 entries, 0 to 79\n",
      "Data columns (total 10 columns):\n",
      " #   Column     Non-Null Count  Dtype  \n",
      "---  ------     --------------  -----  \n",
      " 0   Sample No  80 non-null     float64\n",
      " 1   P1         80 non-null     float64\n",
      " 2   P2         80 non-null     float64\n",
      " 3   P3         80 non-null     float64\n",
      " 4   P4         80 non-null     float64\n",
      " 5   P5         80 non-null     float64\n",
      " 6   P6         80 non-null     float64\n",
      " 7   P7         80 non-null     float64\n",
      " 8   P8         80 non-null     float64\n",
      " 9   R1         80 non-null     float64\n",
      "dtypes: float64(10)\n",
      "memory usage: 6.4 KB\n"
     ]
    }
   ],
   "source": [
    "test.info()"
   ]
  },
  {
   "cell_type": "markdown",
   "metadata": {},
   "source": [
    "<b> The null values have therefore been removed and the test and training data have been scaled using the MinMax scaling from sklearn. "
   ]
  },
  {
   "cell_type": "markdown",
   "metadata": {},
   "source": [
    "## Correlation\n",
    "### 2. Question - 2 Find correlation"
   ]
  },
  {
   "cell_type": "code",
   "execution_count": 36,
   "metadata": {},
   "outputs": [
    {
     "data": {
      "text/plain": [
       "Sample No   -0.181316\n",
       "P1                NaN\n",
       "P2          -0.179137\n",
       "P3          -0.179137\n",
       "P4          -0.179137\n",
       "P5                NaN\n",
       "P6           0.015168\n",
       "P7           0.169954\n",
       "P8           0.001838\n",
       "R1           1.000000\n",
       "Name: R1, dtype: float64"
      ]
     },
     "execution_count": 36,
     "metadata": {},
     "output_type": "execute_result"
    }
   ],
   "source": [
    "correlation = train.corr()\n",
    "correlation['R1']"
   ]
  },
  {
   "cell_type": "code",
   "execution_count": 37,
   "metadata": {},
   "outputs": [
    {
     "data": {
      "text/plain": [
       "<AxesSubplot:>"
      ]
     },
     "execution_count": 37,
     "metadata": {},
     "output_type": "execute_result"
    },
    {
     "data": {
      "image/png": "[encoded data removed]",
      "text/plain": [
       "<Figure size 432x288 with 2 Axes>"
      ]
     },
     "metadata": {
      "needs_background": "light"
     },
     "output_type": "display_data"
    }
   ],
   "source": [
    "sns.heatmap(correlation, cmap='YlGnBu')"
   ]
  },
  {
   "cell_type": "markdown",
   "metadata": {},
   "source": [
    "<b>The Factors chosen: P2,P3,P4 (as they have a significant Negative correlation)and P6,P7 ( as they have a significant positive correlation)"
   ]
  },
  {
   "cell_type": "code",
   "execution_count": 38,
   "metadata": {},
   "outputs": [],
   "source": [
    "train = train.drop(columns=['P8','P1','P5'])"
   ]
  },
  {
   "cell_type": "code",
   "execution_count": 39,
   "metadata": {},
   "outputs": [],
   "source": [
    "correlation = train.corr()"
   ]
  },
  {
   "cell_type": "code",
   "execution_count": 40,
   "metadata": {},
   "outputs": [
    {
     "data": {
      "text/plain": [
       "<AxesSubplot:>"
      ]
     },
     "execution_count": 40,
     "metadata": {},
     "output_type": "execute_result"
    },
    {
     "data": {
      "image/png": "[encoded data removed]",
      "text/plain": [
       "<Figure size 432x288 with 2 Axes>"
      ]
     },
     "metadata": {
      "needs_background": "light"
     },
     "output_type": "display_data"
    }
   ],
   "source": [
    "sns.heatmap(correlation, cmap='YlGnBu')"
   ]
  },
  {
   "cell_type": "markdown",
   "metadata": {},
   "source": [
    "## Regression Model\n",
    "### 3. Question 3 - Build the regression Model"
   ]
  },
  {
   "cell_type": "code",
   "execution_count": 41,
   "metadata": {},
   "outputs": [],
   "source": [
    "from sklearn.linear_model import LinearRegression\n",
    "x = train[['P2','P3','P4','P6','P7']]\n",
    "y = train['R1']"
   ]
  },
  {
   "cell_type": "code",
   "execution_count": 42,
   "metadata": {},
   "outputs": [
    {
     "data": {
      "text/html": [
       "<div>\n",
       "<style scoped>\n",
       "    .dataframe tbody tr th:only-of-type {\n",
       "        vertical-align: middle;\n",
       "    }\n",
       "\n",
       "    .dataframe tbody tr th {\n",
       "        vertical-align: top;\n",
       "    }\n",
       "\n",
       "    .dataframe thead th {\n",
       "        text-align: right;\n",
       "    }\n",
       "</style>\n",
       "<table border=\"1\" class=\"dataframe\">\n",
       "  <thead>\n",
       "    <tr style=\"text-align: right;\">\n",
       "      <th></th>\n",
       "      <th>P2</th>\n",
       "      <th>P3</th>\n",
       "      <th>P4</th>\n",
       "      <th>P6</th>\n",
       "      <th>P7</th>\n",
       "    </tr>\n",
       "  </thead>\n",
       "  <tbody>\n",
       "    <tr>\n",
       "      <th>0</th>\n",
       "      <td>0.0</td>\n",
       "      <td>0.0</td>\n",
       "      <td>0.0</td>\n",
       "      <td>0.000000</td>\n",
       "      <td>0.000000</td>\n",
       "    </tr>\n",
       "    <tr>\n",
       "      <th>1</th>\n",
       "      <td>0.0</td>\n",
       "      <td>0.0</td>\n",
       "      <td>0.0</td>\n",
       "      <td>0.000000</td>\n",
       "      <td>0.000000</td>\n",
       "    </tr>\n",
       "    <tr>\n",
       "      <th>2</th>\n",
       "      <td>0.0</td>\n",
       "      <td>0.0</td>\n",
       "      <td>0.0</td>\n",
       "      <td>0.000000</td>\n",
       "      <td>0.000000</td>\n",
       "    </tr>\n",
       "    <tr>\n",
       "      <th>3</th>\n",
       "      <td>0.0</td>\n",
       "      <td>0.0</td>\n",
       "      <td>0.0</td>\n",
       "      <td>0.231156</td>\n",
       "      <td>0.792357</td>\n",
       "    </tr>\n",
       "    <tr>\n",
       "      <th>4</th>\n",
       "      <td>0.0</td>\n",
       "      <td>0.0</td>\n",
       "      <td>0.0</td>\n",
       "      <td>0.231156</td>\n",
       "      <td>0.792357</td>\n",
       "    </tr>\n",
       "  </tbody>\n",
       "</table>\n",
       "</div>"
      ],
      "text/plain": [
       "    P2   P3   P4        P6        P7\n",
       "0  0.0  0.0  0.0  0.000000  0.000000\n",
       "1  0.0  0.0  0.0  0.000000  0.000000\n",
       "2  0.0  0.0  0.0  0.000000  0.000000\n",
       "3  0.0  0.0  0.0  0.231156  0.792357\n",
       "4  0.0  0.0  0.0  0.231156  0.792357"
      ]
     },
     "execution_count": 42,
     "metadata": {},
     "output_type": "execute_result"
    }
   ],
   "source": [
    "x.head()"
   ]
  },
  {
   "cell_type": "code",
   "execution_count": 43,
   "metadata": {},
   "outputs": [
    {
     "data": {
      "text/plain": [
       "0    0.962963\n",
       "1    0.074074\n",
       "2    0.407407\n",
       "3    0.925926\n",
       "4    0.888889\n",
       "Name: R1, dtype: float64"
      ]
     },
     "execution_count": 43,
     "metadata": {},
     "output_type": "execute_result"
    }
   ],
   "source": [
    "y.head()"
   ]
  },
  {
   "cell_type": "code",
   "execution_count": 44,
   "metadata": {},
   "outputs": [
    {
     "data": {
      "text/plain": [
       "LinearRegression()"
      ]
     },
     "execution_count": 44,
     "metadata": {},
     "output_type": "execute_result"
    }
   ],
   "source": [
    "from sklearn.linear_model import LinearRegression\n",
    "regression_model = LinearRegression()\n",
    "regression_model.fit(x,y)"
   ]
  },
  {
   "cell_type": "code",
   "execution_count": 45,
   "metadata": {},
   "outputs": [
    {
     "data": {
      "text/plain": [
       "0.5845762882166986"
      ]
     },
     "execution_count": 45,
     "metadata": {},
     "output_type": "execute_result"
    }
   ],
   "source": [
    "regression_model.intercept_"
   ]
  },
  {
   "cell_type": "code",
   "execution_count": 46,
   "metadata": {},
   "outputs": [
    {
     "data": {
      "text/html": [
       "<div>\n",
       "<style scoped>\n",
       "    .dataframe tbody tr th:only-of-type {\n",
       "        vertical-align: middle;\n",
       "    }\n",
       "\n",
       "    .dataframe tbody tr th {\n",
       "        vertical-align: top;\n",
       "    }\n",
       "\n",
       "    .dataframe thead th {\n",
       "        text-align: right;\n",
       "    }\n",
       "</style>\n",
       "<table border=\"1\" class=\"dataframe\">\n",
       "  <thead>\n",
       "    <tr style=\"text-align: right;\">\n",
       "      <th></th>\n",
       "      <th>coefficients</th>\n",
       "    </tr>\n",
       "  </thead>\n",
       "  <tbody>\n",
       "    <tr>\n",
       "      <th>P2</th>\n",
       "      <td>-0.049933</td>\n",
       "    </tr>\n",
       "    <tr>\n",
       "      <th>P3</th>\n",
       "      <td>-0.049933</td>\n",
       "    </tr>\n",
       "    <tr>\n",
       "      <th>P4</th>\n",
       "      <td>-0.049933</td>\n",
       "    </tr>\n",
       "    <tr>\n",
       "      <th>P6</th>\n",
       "      <td>-0.410533</td>\n",
       "    </tr>\n",
       "    <tr>\n",
       "      <th>P7</th>\n",
       "      <td>0.333315</td>\n",
       "    </tr>\n",
       "  </tbody>\n",
       "</table>\n",
       "</div>"
      ],
      "text/plain": [
       "    coefficients\n",
       "P2     -0.049933\n",
       "P3     -0.049933\n",
       "P4     -0.049933\n",
       "P6     -0.410533\n",
       "P7      0.333315"
      ]
     },
     "execution_count": 46,
     "metadata": {},
     "output_type": "execute_result"
    }
   ],
   "source": [
    "coefficients = pd.DataFrame(regression_model.coef_, x.columns, columns = ['coefficients'])\n",
    "coefficients"
   ]
  },
  {
   "cell_type": "code",
   "execution_count": 47,
   "metadata": {},
   "outputs": [
    {
     "data": {
      "text/plain": [
       "'Y = 0.585 + (-0.04993)P2 + (-0.04993)P3 + (-0.04993)P4 + (-0.41053)P6 + (0.33331)P7'"
      ]
     },
     "execution_count": 47,
     "metadata": {},
     "output_type": "execute_result"
    }
   ],
   "source": [
    "reg_equation = \"Y = \" + str(regression_model.intercept_.round(3)) + \" + \" +  \"(\" + str(coefficients.coefficients['P2'].round(5)) + \")\" + x.columns[0]\n",
    "for i in range(1, len(x.columns)):\n",
    "    col = x.columns[i]\n",
    "    reg_equation += \" + (\" + str(coefficients.coefficients[col].round(5)) + \")\" + col\n",
    "reg_equation"
   ]
  },
  {
   "cell_type": "markdown",
   "metadata": {},
   "source": [
    "<b> The regression equation is thus obtainted. From the observed equation, it is apparant that the features present in the training data set namely P2, P3, P4, P6 move in opposite direction in contrast to the target variable R1 as they are negatively correlated. \n",
    "\n",
    "the variables P7 move in the same direction as compared to Y since they have the positive correlation coefficient. \n",
    "the intercept is the expected mean value of the target valirable R1 when all other variables = 0. Thus the estimated mean here would be 0.584576288216699\n"
   ]
  },
  {
   "cell_type": "markdown",
   "metadata": {},
   "source": [
    "## iv) Using p values to eliminate variables\n"
   ]
  },
  {
   "cell_type": "code",
   "execution_count": 48,
   "metadata": {},
   "outputs": [
    {
     "name": "stdout",
     "output_type": "stream",
     "text": [
      "                            OLS Regression Results                            \n",
      "==============================================================================\n",
      "Dep. Variable:                     R1   R-squared:                       0.104\n",
      "Model:                            OLS   Adj. R-squared:                 -0.065\n",
      "Method:                 Least Squares   F-statistic:                    0.6159\n",
      "Date:                Sun, 06 Feb 2022   Prob (F-statistic):              0.615\n",
      "Time:                        23:50:06   Log-Likelihood:                -5.8180\n",
      "No. Observations:                  20   AIC:                             19.64\n",
      "Df Residuals:                      16   BIC:                             23.62\n",
      "Df Model:                           3                                         \n",
      "Covariance Type:            nonrobust                                         \n",
      "==============================================================================\n",
      "                 coef    std err          t      P>|t|      [0.025      0.975]\n",
      "------------------------------------------------------------------------------\n",
      "const          0.5846      0.172      3.404      0.004       0.221       0.949\n",
      "x1            -0.0499      0.060     -0.827      0.420      -0.178       0.078\n",
      "x2            -0.0499      0.060     -0.827      0.420      -0.178       0.078\n",
      "x3            -0.0499      0.060     -0.827      0.420      -0.178       0.078\n",
      "x4            -0.4105      0.408     -1.007      0.329      -1.275       0.453\n",
      "x5             0.3333      0.304      1.097      0.289      -0.311       0.978\n",
      "==============================================================================\n",
      "Omnibus:                        2.546   Durbin-Watson:                   2.571\n",
      "Prob(Omnibus):                  0.280   Jarque-Bera (JB):                1.668\n",
      "Skew:                          -0.488   Prob(JB):                        0.434\n",
      "Kurtosis:                       1.976   Cond. No.                     2.20e+18\n",
      "==============================================================================\n",
      "\n",
      "Notes:\n",
      "[1] Standard Errors assume that the covariance matrix of the errors is correctly specified.\n",
      "[2] The smallest eigenvalue is 8.75e-36. This might indicate that there are\n",
      "strong multicollinearity problems or that the design matrix is singular.\n"
     ]
    }
   ],
   "source": [
    "import statsmodels.api as sm \n",
    "from statsmodels.api import OLS\n",
    "\n",
    "x_train = np.column_stack((x['P2'],x['P3'],x['P4'],x['P6'],x['P7'])) \n",
    "y_train = y\n",
    "x_train = sm.add_constant(x_train)\n",
    "estimate = OLS(y_train, x_train).fit()\n",
    "print(estimate.summary())"
   ]
  },
  {
   "cell_type": "markdown",
   "metadata": {},
   "source": [
    "Based off of the P Values, we drop the ones with the highest p values and so 'P2' is dropped."
   ]
  },
  {
   "cell_type": "code",
   "execution_count": 49,
   "metadata": {},
   "outputs": [],
   "source": [
    "x = x.drop(columns='P2')"
   ]
  },
  {
   "cell_type": "code",
   "execution_count": 50,
   "metadata": {},
   "outputs": [
    {
     "name": "stdout",
     "output_type": "stream",
     "text": [
      "                            OLS Regression Results                            \n",
      "==============================================================================\n",
      "Dep. Variable:                     R1   R-squared:                       0.104\n",
      "Model:                            OLS   Adj. R-squared:                 -0.065\n",
      "Method:                 Least Squares   F-statistic:                    0.6159\n",
      "Date:                Sun, 06 Feb 2022   Prob (F-statistic):              0.615\n",
      "Time:                        23:50:06   Log-Likelihood:                -5.8180\n",
      "No. Observations:                  20   AIC:                             19.64\n",
      "Df Residuals:                      16   BIC:                             23.62\n",
      "Df Model:                           3                                         \n",
      "Covariance Type:            nonrobust                                         \n",
      "==============================================================================\n",
      "                 coef    std err          t      P>|t|      [0.025      0.975]\n",
      "------------------------------------------------------------------------------\n",
      "const          0.5846      0.172      3.404      0.004       0.221       0.949\n",
      "x1             0.3333      0.304      1.097      0.289      -0.311       0.978\n",
      "x2            -0.0749      0.091     -0.827      0.420      -0.267       0.117\n",
      "x3            -0.0749      0.091     -0.827      0.420      -0.267       0.117\n",
      "x4            -0.4105      0.408     -1.007      0.329      -1.275       0.453\n",
      "==============================================================================\n",
      "Omnibus:                        2.546   Durbin-Watson:                   2.571\n",
      "Prob(Omnibus):                  0.280   Jarque-Bera (JB):                1.668\n",
      "Skew:                          -0.488   Prob(JB):                        0.434\n",
      "Kurtosis:                       1.976   Cond. No.                     6.30e+16\n",
      "==============================================================================\n",
      "\n",
      "Notes:\n",
      "[1] Standard Errors assume that the covariance matrix of the errors is correctly specified.\n",
      "[2] The smallest eigenvalue is 9.38e-33. This might indicate that there are\n",
      "strong multicollinearity problems or that the design matrix is singular.\n"
     ]
    }
   ],
   "source": [
    "x_train = np.column_stack((x['P7'],x['P3'],x['P4'],x['P6'])) \n",
    "y_train = y\n",
    "x_train = sm.add_constant(x_train)\n",
    "estimate = OLS(y_train, x_train).fit()\n",
    "print(estimate.summary())"
   ]
  },
  {
   "cell_type": "code",
   "execution_count": 51,
   "metadata": {},
   "outputs": [
    {
     "data": {
      "text/html": [
       "<div>\n",
       "<style scoped>\n",
       "    .dataframe tbody tr th:only-of-type {\n",
       "        vertical-align: middle;\n",
       "    }\n",
       "\n",
       "    .dataframe tbody tr th {\n",
       "        vertical-align: top;\n",
       "    }\n",
       "\n",
       "    .dataframe thead th {\n",
       "        text-align: right;\n",
       "    }\n",
       "</style>\n",
       "<table border=\"1\" class=\"dataframe\">\n",
       "  <thead>\n",
       "    <tr style=\"text-align: right;\">\n",
       "      <th></th>\n",
       "      <th>variables</th>\n",
       "      <th>VIF</th>\n",
       "    </tr>\n",
       "  </thead>\n",
       "  <tbody>\n",
       "    <tr>\n",
       "      <th>0</th>\n",
       "      <td>P3</td>\n",
       "      <td>inf</td>\n",
       "    </tr>\n",
       "    <tr>\n",
       "      <th>1</th>\n",
       "      <td>P4</td>\n",
       "      <td>inf</td>\n",
       "    </tr>\n",
       "    <tr>\n",
       "      <th>2</th>\n",
       "      <td>P6</td>\n",
       "      <td>5.257414</td>\n",
       "    </tr>\n",
       "    <tr>\n",
       "      <th>3</th>\n",
       "      <td>P7</td>\n",
       "      <td>5.824268</td>\n",
       "    </tr>\n",
       "  </tbody>\n",
       "</table>\n",
       "</div>"
      ],
      "text/plain": [
       "  variables       VIF\n",
       "0        P3       inf\n",
       "1        P4       inf\n",
       "2        P6  5.257414\n",
       "3        P7  5.824268"
      ]
     },
     "execution_count": 51,
     "metadata": {},
     "output_type": "execute_result"
    }
   ],
   "source": [
    "from statsmodels.stats.outliers_influence import variance_inflation_factor\n",
    "vif  = pd.DataFrame()\n",
    "vif['variables'] = x.columns\n",
    "vif['VIF'] = [variance_inflation_factor(x.values, i) for i in range(x.shape[1])]\n",
    "vif"
   ]
  },
  {
   "cell_type": "code",
   "execution_count": 52,
   "metadata": {},
   "outputs": [],
   "source": [
    "x = x.drop(columns='P3')"
   ]
  },
  {
   "cell_type": "code",
   "execution_count": 53,
   "metadata": {},
   "outputs": [
    {
     "data": {
      "text/html": [
       "<div>\n",
       "<style scoped>\n",
       "    .dataframe tbody tr th:only-of-type {\n",
       "        vertical-align: middle;\n",
       "    }\n",
       "\n",
       "    .dataframe tbody tr th {\n",
       "        vertical-align: top;\n",
       "    }\n",
       "\n",
       "    .dataframe thead th {\n",
       "        text-align: right;\n",
       "    }\n",
       "</style>\n",
       "<table border=\"1\" class=\"dataframe\">\n",
       "  <thead>\n",
       "    <tr style=\"text-align: right;\">\n",
       "      <th></th>\n",
       "      <th>variables</th>\n",
       "      <th>VIF</th>\n",
       "    </tr>\n",
       "  </thead>\n",
       "  <tbody>\n",
       "    <tr>\n",
       "      <th>0</th>\n",
       "      <td>P4</td>\n",
       "      <td>1.263437</td>\n",
       "    </tr>\n",
       "    <tr>\n",
       "      <th>1</th>\n",
       "      <td>P6</td>\n",
       "      <td>5.257414</td>\n",
       "    </tr>\n",
       "    <tr>\n",
       "      <th>2</th>\n",
       "      <td>P7</td>\n",
       "      <td>5.824268</td>\n",
       "    </tr>\n",
       "  </tbody>\n",
       "</table>\n",
       "</div>"
      ],
      "text/plain": [
       "  variables       VIF\n",
       "0        P4  1.263437\n",
       "1        P6  5.257414\n",
       "2        P7  5.824268"
      ]
     },
     "execution_count": 53,
     "metadata": {},
     "output_type": "execute_result"
    }
   ],
   "source": [
    "vif  = pd.DataFrame()\n",
    "vif['variables'] = x.columns\n",
    "vif['VIF'] = [variance_inflation_factor(x.values, i) for i in range(x.shape[1])]\n",
    "vif"
   ]
  },
  {
   "cell_type": "code",
   "execution_count": 54,
   "metadata": {},
   "outputs": [
    {
     "name": "stdout",
     "output_type": "stream",
     "text": [
      "                            OLS Regression Results                            \n",
      "==============================================================================\n",
      "Dep. Variable:                     R1   R-squared:                       0.104\n",
      "Model:                            OLS   Adj. R-squared:                 -0.065\n",
      "Method:                 Least Squares   F-statistic:                    0.6159\n",
      "Date:                Sun, 06 Feb 2022   Prob (F-statistic):              0.615\n",
      "Time:                        23:50:06   Log-Likelihood:                -5.8180\n",
      "No. Observations:                  20   AIC:                             19.64\n",
      "Df Residuals:                      16   BIC:                             23.62\n",
      "Df Model:                           3                                         \n",
      "Covariance Type:            nonrobust                                         \n",
      "==============================================================================\n",
      "                 coef    std err          t      P>|t|      [0.025      0.975]\n",
      "------------------------------------------------------------------------------\n",
      "const          0.5846      0.172      3.404      0.004       0.221       0.949\n",
      "x1             0.3333      0.304      1.097      0.289      -0.311       0.978\n",
      "x2            -0.1498      0.181     -0.827      0.420      -0.534       0.234\n",
      "x3            -0.4105      0.408     -1.007      0.329      -1.275       0.453\n",
      "==============================================================================\n",
      "Omnibus:                        2.546   Durbin-Watson:                   2.571\n",
      "Prob(Omnibus):                  0.280   Jarque-Bera (JB):                1.668\n",
      "Skew:                          -0.488   Prob(JB):                        0.434\n",
      "Kurtosis:                       1.976   Cond. No.                         7.67\n",
      "==============================================================================\n",
      "\n",
      "Notes:\n",
      "[1] Standard Errors assume that the covariance matrix of the errors is correctly specified.\n"
     ]
    }
   ],
   "source": [
    "x_train = np.column_stack((x['P7'],x['P4'],x['P6'])) \n",
    "y_train = y\n",
    "x_train = sm.add_constant(x_train)\n",
    "estimate = OLS(y_train, x_train).fit()\n",
    "print(estimate.summary())"
   ]
  },
  {
   "cell_type": "markdown",
   "metadata": {},
   "source": [
    "Having a high VIF suggests that they can be predicted by other independent variables in the dataset. And so P3 was dropped. "
   ]
  },
  {
   "cell_type": "code",
   "execution_count": 55,
   "metadata": {},
   "outputs": [
    {
     "name": "stdout",
     "output_type": "stream",
     "text": [
      "Regression Equation: \n",
      "Y = 0.585+ (-0.05)P4 + (-0.05)P6 + (-0.05)P7\n"
     ]
    }
   ],
   "source": [
    "print(\"Regression Equation: \")\n",
    "print(f\"Y = {regression_model.intercept_.round(3)}+ ({regression_model.coef_[0].round(3)})P4 + ({regression_model.coef_[1].round(3)})P6 + ({regression_model.coef_[2].round(3)})P7\")"
   ]
  },
  {
   "cell_type": "markdown",
   "metadata": {},
   "source": [
    "Dropping other variables improves the R-Squared however, this has not been reflected in the metrics"
   ]
  },
  {
   "cell_type": "markdown",
   "metadata": {},
   "source": [
    "## Final model \n",
    "### 5. Question - 5"
   ]
  },
  {
   "cell_type": "code",
   "execution_count": 56,
   "metadata": {},
   "outputs": [
    {
     "data": {
      "text/plain": [
       "LinearRegression()"
      ]
     },
     "execution_count": 56,
     "metadata": {},
     "output_type": "execute_result"
    }
   ],
   "source": [
    "regression_model.fit(x,y)"
   ]
  },
  {
   "cell_type": "code",
   "execution_count": 57,
   "metadata": {},
   "outputs": [
    {
     "data": {
      "text/plain": [
       "0.5845762882166986"
      ]
     },
     "execution_count": 57,
     "metadata": {},
     "output_type": "execute_result"
    }
   ],
   "source": [
    "regression_model.intercept_"
   ]
  },
  {
   "cell_type": "markdown",
   "metadata": {},
   "source": [
    "Final equation"
   ]
  },
  {
   "cell_type": "code",
   "execution_count": 67,
   "metadata": {},
   "outputs": [
    {
     "name": "stdout",
     "output_type": "stream",
     "text": [
      "Y = 0.585+ (-0.15)P4 + (-0.411)P6 + (0.333)P7\n"
     ]
    }
   ],
   "source": [
    "yx = f\"Y = {regression_model.intercept_.round(3)}+ ({regression_model.coef_[0].round(3)})P4 + ({regression_model.coef_[1].round(3)})P6 + ({regression_model.coef_[2].round(3)})P7\"\n",
    "print(yx)"
   ]
  },
  {
   "cell_type": "code",
   "execution_count": 59,
   "metadata": {},
   "outputs": [
    {
     "name": "stdout",
     "output_type": "stream",
     "text": [
      "                                 OLS Regression Results                                \n",
      "=======================================================================================\n",
      "Dep. Variable:                     R1   R-squared (uncentered):                   0.610\n",
      "Model:                            OLS   Adj. R-squared (uncentered):              0.542\n",
      "Method:                 Least Squares   F-statistic:                              8.879\n",
      "Date:                Sun, 06 Feb 2022   Prob (F-statistic):                    0.000917\n",
      "Time:                        23:50:07   Log-Likelihood:                         -11.266\n",
      "No. Observations:                  20   AIC:                                      28.53\n",
      "Df Residuals:                      17   BIC:                                      31.52\n",
      "Df Model:                           3                                                  \n",
      "Covariance Type:            nonrobust                                                  \n",
      "==============================================================================\n",
      "                 coef    std err          t      P>|t|      [0.025      0.975]\n",
      "------------------------------------------------------------------------------\n",
      "P4             0.2247      0.183      1.227      0.237      -0.162       0.611\n",
      "P6            -0.2915      0.517     -0.564      0.580      -1.383       0.800\n",
      "P7             0.7978      0.346      2.306      0.034       0.068       1.528\n",
      "==============================================================================\n",
      "Omnibus:                        1.089   Durbin-Watson:                   1.429\n",
      "Prob(Omnibus):                  0.580   Jarque-Bera (JB):                0.495\n",
      "Skew:                          -0.385   Prob(JB):                        0.781\n",
      "Kurtosis:                       2.994   Cond. No.                         5.22\n",
      "==============================================================================\n",
      "\n",
      "Notes:\n",
      "[1] R² is computed without centering (uncentered) since the model does not contain a constant.\n",
      "[2] Standard Errors assume that the covariance matrix of the errors is correctly specified.\n"
     ]
    }
   ],
   "source": [
    "import statsmodels.api as sm\n",
    "result = sm.OLS(y, x).fit()\n",
    "print(result.summary())"
   ]
  },
  {
   "cell_type": "markdown",
   "metadata": {},
   "source": [
    "## Vi)"
   ]
  },
  {
   "cell_type": "markdown",
   "metadata": {},
   "source": [
    "PLOT P4"
   ]
  },
  {
   "cell_type": "code",
   "execution_count": 60,
   "metadata": {},
   "outputs": [
    {
     "data": {
      "text/plain": [
       "[<matplotlib.lines.Line2D at 0x24079d501f0>]"
      ]
     },
     "execution_count": 60,
     "metadata": {},
     "output_type": "execute_result"
    },
    {
     "data": {
      "image/png": "[encoded data removed]",
      "text/plain": [
       "<Figure size 432x288 with 1 Axes>"
      ]
     },
     "metadata": {
      "needs_background": "light"
     },
     "output_type": "display_data"
    }
   ],
   "source": [
    "import matplotlib.pyplot as plt\n",
    "plt.scatter(x['P4'],y)\n",
    "eq = x*regression_model.coef_\n",
    "eq = eq.sum(axis=1)+regression_model.intercept_\n",
    "plt.plot(x['P4'], eq)"
   ]
  },
  {
   "cell_type": "markdown",
   "metadata": {},
   "source": [
    "PLOT P6"
   ]
  },
  {
   "cell_type": "code",
   "execution_count": 61,
   "metadata": {},
   "outputs": [
    {
     "data": {
      "text/plain": [
       "[<matplotlib.lines.Line2D at 0x24079dbe160>]"
      ]
     },
     "execution_count": 61,
     "metadata": {},
     "output_type": "execute_result"
    },
    {
     "data": {
      "image/png": "[encoded data removed]",
      "text/plain": [
       "<Figure size 432x288 with 1 Axes>"
      ]
     },
     "metadata": {
      "needs_background": "light"
     },
     "output_type": "display_data"
    }
   ],
   "source": [
    "plt.scatter(x['P6'],y)\n",
    "eq = x*regression_model.coef_\n",
    "eq = eq.sum(axis=1)+regression_model.intercept_\n",
    "plt.plot(x['P6'], eq)"
   ]
  },
  {
   "cell_type": "markdown",
   "metadata": {},
   "source": [
    "PLOT P7"
   ]
  },
  {
   "cell_type": "code",
   "execution_count": 62,
   "metadata": {},
   "outputs": [
    {
     "data": {
      "text/plain": [
       "[<matplotlib.lines.Line2D at 0x24079e221c0>]"
      ]
     },
     "execution_count": 62,
     "metadata": {},
     "output_type": "execute_result"
    },
    {
     "data": {
      "image/png": "[encoded data removed]",
      "text/plain": [
       "<Figure size 432x288 with 1 Axes>"
      ]
     },
     "metadata": {
      "needs_background": "light"
     },
     "output_type": "display_data"
    }
   ],
   "source": [
    "plt.scatter(x['P7'],y)\n",
    "eq = x*regression_model.coef_\n",
    "eq = eq.sum(axis=1)+regression_model.intercept_\n",
    "plt.plot(x['P7'], eq)"
   ]
  },
  {
   "cell_type": "markdown",
   "metadata": {},
   "source": [
    "## Vii) Predictions"
   ]
  },
  {
   "cell_type": "code",
   "execution_count": 63,
   "metadata": {},
   "outputs": [
    {
     "data": {
      "text/plain": [
       "<matplotlib.legend.Legend at 0x24079e80580>"
      ]
     },
     "execution_count": 63,
     "metadata": {},
     "output_type": "execute_result"
    },
    {
     "data": {
      "image/png": "[encoded data removed]",
      "text/plain": [
       "<Figure size 432x288 with 1 Axes>"
      ]
     },
     "metadata": {
      "needs_background": "light"
     },
     "output_type": "display_data"
    }
   ],
   "source": [
    "x_test = test[['P4','P6','P7']]\n",
    "y_test = test['R1']\n",
    "\n",
    "n = np.arange(x_test.shape[0])\n",
    "\n",
    "results = regression_model.predict(x_test)\n",
    "plt.plot(n,results,label='predicted R1')\n",
    "\n",
    "plt.plot(n,y_test,label='Actual R1')\n",
    "plt.legend()"
   ]
  },
  {
   "cell_type": "code",
   "execution_count": 64,
   "metadata": {},
   "outputs": [
    {
     "data": {
      "text/html": [
       "<div>\n",
       "<style scoped>\n",
       "    .dataframe tbody tr th:only-of-type {\n",
       "        vertical-align: middle;\n",
       "    }\n",
       "\n",
       "    .dataframe tbody tr th {\n",
       "        vertical-align: top;\n",
       "    }\n",
       "\n",
       "    .dataframe thead th {\n",
       "        text-align: right;\n",
       "    }\n",
       "</style>\n",
       "<table border=\"1\" class=\"dataframe\">\n",
       "  <thead>\n",
       "    <tr style=\"text-align: right;\">\n",
       "      <th></th>\n",
       "      <th>predicted R1</th>\n",
       "      <th>Actual R1</th>\n",
       "    </tr>\n",
       "  </thead>\n",
       "  <tbody>\n",
       "    <tr>\n",
       "      <th>0</th>\n",
       "      <td>0.584576</td>\n",
       "      <td>0.750000</td>\n",
       "    </tr>\n",
       "    <tr>\n",
       "      <th>1</th>\n",
       "      <td>0.584576</td>\n",
       "      <td>0.214286</td>\n",
       "    </tr>\n",
       "    <tr>\n",
       "      <th>2</th>\n",
       "      <td>0.584576</td>\n",
       "      <td>0.428571</td>\n",
       "    </tr>\n",
       "    <tr>\n",
       "      <th>3</th>\n",
       "      <td>0.584576</td>\n",
       "      <td>0.321429</td>\n",
       "    </tr>\n",
       "    <tr>\n",
       "      <th>4</th>\n",
       "      <td>0.584576</td>\n",
       "      <td>0.178571</td>\n",
       "    </tr>\n",
       "    <tr>\n",
       "      <th>...</th>\n",
       "      <td>...</td>\n",
       "      <td>...</td>\n",
       "    </tr>\n",
       "    <tr>\n",
       "      <th>75</th>\n",
       "      <td>0.603985</td>\n",
       "      <td>0.642857</td>\n",
       "    </tr>\n",
       "    <tr>\n",
       "      <th>76</th>\n",
       "      <td>0.603985</td>\n",
       "      <td>0.000000</td>\n",
       "    </tr>\n",
       "    <tr>\n",
       "      <th>77</th>\n",
       "      <td>0.560041</td>\n",
       "      <td>0.392857</td>\n",
       "    </tr>\n",
       "    <tr>\n",
       "      <th>78</th>\n",
       "      <td>0.560041</td>\n",
       "      <td>0.571429</td>\n",
       "    </tr>\n",
       "    <tr>\n",
       "      <th>79</th>\n",
       "      <td>0.560041</td>\n",
       "      <td>0.607143</td>\n",
       "    </tr>\n",
       "  </tbody>\n",
       "</table>\n",
       "<p>80 rows × 2 columns</p>\n",
       "</div>"
      ],
      "text/plain": [
       "    predicted R1  Actual R1\n",
       "0       0.584576   0.750000\n",
       "1       0.584576   0.214286\n",
       "2       0.584576   0.428571\n",
       "3       0.584576   0.321429\n",
       "4       0.584576   0.178571\n",
       "..           ...        ...\n",
       "75      0.603985   0.642857\n",
       "76      0.603985   0.000000\n",
       "77      0.560041   0.392857\n",
       "78      0.560041   0.571429\n",
       "79      0.560041   0.607143\n",
       "\n",
       "[80 rows x 2 columns]"
      ]
     },
     "execution_count": 64,
     "metadata": {},
     "output_type": "execute_result"
    }
   ],
   "source": [
    "test.reset_index(inplace=True)\n",
    "tabulation = pd.DataFrame()\n",
    "tabulation['predicted R1'] = results \n",
    "tabulation['Actual R1'] = test['R1']\n",
    "tabulation"
   ]
  },
  {
   "cell_type": "code",
   "execution_count": 65,
   "metadata": {},
   "outputs": [],
   "source": [
    "MAE = metrics.mean_absolute_error(y_test,results)\n",
    "MSE = metrics.mean_squared_error(y_test,results)\n",
    "RMSE = np.sqrt(MSE)\n",
    "R_squared = estimate.rsquared\n",
    "adjusted_R_squared = estimate.rsquared_adj"
   ]
  },
  {
   "cell_type": "code",
   "execution_count": 68,
   "metadata": {},
   "outputs": [
    {
     "name": "stdout",
     "output_type": "stream",
     "text": [
      "Input Variable Names    Regression                                           MSE       MAE      RMSE    R-Squared    Adjusted R-Squared\n",
      "----------------------  ---------------------------------------------  ---------  --------  --------  -----------  --------------------\n",
      "['P4', 'P6']            Y = 0.585+ (-0.15)P4 + (-0.411)P6 + (0.333)P7  0.0972559  0.254841  0.311859     0.103531            -0.0645566\n"
     ]
    }
   ],
   "source": [
    "table_testing = [\n",
    "                ['Input Variable Names', 'Regression', 'MSE', 'MAE', 'RMSE', 'R-Squared', 'Adjusted R-Squared'],\n",
    "                [[x.columns[0],x.columns[1]], yx, MSE, MAE, RMSE, R_squared, adjusted_R_squared]\n",
    "                ]\n",
    "print(tabulate(table_testing, headers='firstrow'))"
   ]
  }
 ],
 "metadata": {
  "interpreter": {
   "hash": "aee8b7b246df8f9039afb4144a1f6fd8d2ca17a180786b69acc140d282b71a49"
  },
  "kernelspec": {
   "display_name": "Python 3.9.10 64-bit",
   "language": "python",
   "name": "python3"
  },
  "language_info": {
   "codemirror_mode": {
    "name": "ipython",
    "version": 3
   },
   "file_extension": ".py",
   "mimetype": "text/x-python",
   "name": "python",
   "nbconvert_exporter": "python",
   "pygments_lexer": "ipython3",
   "version": "3.9.0"
  },
  "orig_nbformat": 4
 },
 "nbformat": 4,
 "nbformat_minor": 2
}
